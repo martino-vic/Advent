{
 "cells": [
  {
   "cell_type": "code",
   "execution_count": 2,
   "id": "b66950a1-cc9f-4223-86a2-4f64772cbcb0",
   "metadata": {},
   "outputs": [
    {
     "data": {
      "text/plain": [
       "{3, 4, 5, 6, 7, 8, 9}"
      ]
     },
     "execution_count": 2,
     "metadata": {},
     "output_type": "execute_result"
    }
   ],
   "source": [
    "from itertools import product as p\n",
    "x= [1,2,3]\n",
    "set(map(sum, p(x,x,x)))"
   ]
  },
  {
   "cell_type": "code",
   "execution_count": 4,
   "id": "07aeb34c-03bb-4bfe-bfef-502e903881be",
   "metadata": {},
   "outputs": [
    {
     "data": {
      "text/plain": [
       "161"
      ]
     },
     "execution_count": 4,
     "metadata": {},
     "output_type": "execute_result"
    }
   ],
   "source": [
    "7*1+7*2+7*3+6*4+5*5+4*6+3*7+2*8+1*9"
   ]
  }
 ],
 "metadata": {
  "kernelspec": {
   "display_name": "Python 3 (ipykernel)",
   "language": "python",
   "name": "python3"
  },
  "language_info": {
   "codemirror_mode": {
    "name": "ipython",
    "version": 3
   },
   "file_extension": ".py",
   "mimetype": "text/x-python",
   "name": "python",
   "nbconvert_exporter": "python",
   "pygments_lexer": "ipython3",
   "version": "3.10.0"
  }
 },
 "nbformat": 4,
 "nbformat_minor": 5
}
