{
 "cells": [
  {
   "cell_type": "code",
   "execution_count": 4,
   "id": "9229362c-727a-4049-a208-df59bfc1d74b",
   "metadata": {},
   "outputs": [
    {
     "data": {
      "text/plain": [
       "1685293086"
      ]
     },
     "execution_count": 4,
     "metadata": {},
     "output_type": "execute_result"
    }
   ],
   "source": [
    "#part2 autocomplete\n",
    "#drop corrupt lines\n",
    "#add reverse stack \n",
    "\n",
    "lines = []\n",
    "with open(\"in.txt\", \"r\") as file:\n",
    "    for line in file:\n",
    "        lines.append(list(line.strip(\"\\n\")))\n",
    "        \n",
    "score = {\")\": 1, \"]\": 2, \"}\": 3, \">\": 4}\n",
    "brackets = {\"(\":\")\",\"[\":\"]\",\"{\":\"}\",\"<\":\">\"}\n",
    "\n",
    "def isgood(line):\n",
    "    stack = []\n",
    "    for char in line:\n",
    "        if char in brackets:\n",
    "            stack.append(char)\n",
    "            #print(stack)\n",
    "        else:\n",
    "            if char == brackets[stack[-1]]:\n",
    "                stack.pop()\n",
    "                #print(stack)\n",
    "            else:\n",
    "                return False\n",
    "    return True\n",
    "\n",
    "def autocomplete(line):\n",
    "    stack = []\n",
    "    for char in line:\n",
    "        if char in brackets:\n",
    "            stack.append(char)\n",
    "        else:\n",
    "            stack.pop()\n",
    "    return getscore(stack[::-1])\n",
    "\n",
    "def getscore(openers):\n",
    "    out = 0\n",
    "    for char in openers:\n",
    "        out = out*5 + score[brackets[char]]\n",
    "    #print(out)\n",
    "    return out\n",
    "    \n",
    "\n",
    "results = [autocomplete(line) for line in lines if isgood(line)]\n",
    "sorted(results)[int((len(results)-1)/2)]"
   ]
  },
  {
   "cell_type": "code",
   "execution_count": 73,
   "id": "6c458f24-f1f7-4fd6-ba1f-282a0f22e599",
   "metadata": {},
   "outputs": [
    {
     "name": "stdout",
     "output_type": "stream",
     "text": [
      "38322\n"
     ]
    },
    {
     "data": {
      "text/plain": [
       "38322"
      ]
     },
     "execution_count": 73,
     "metadata": {},
     "output_type": "execute_result"
    }
   ],
   "source": [
    "getscore(\"[({<\")"
   ]
  },
  {
   "cell_type": "code",
   "execution_count": 45,
   "id": "21205f0d-0bd5-486f-91d1-5ae5fea859d0",
   "metadata": {},
   "outputs": [
    {
     "data": {
      "text/plain": [
       "271245"
      ]
     },
     "execution_count": 45,
     "metadata": {},
     "output_type": "execute_result"
    }
   ],
   "source": [
    "#I've misunderstood the rules.\n",
    "#open characters have to be put on a stack\n",
    "#closing characters always have to close the last element on the stack\n",
    "#else they're corrupt\n",
    "\n",
    "lines = []\n",
    "with open(\"in.txt\", \"r\") as file:\n",
    "    for line in file:\n",
    "        lines.append(list(line.strip(\"\\n\")))\n",
    "        \n",
    "score = {\")\": 3, \"]\": 57, \"}\": 1197, \">\": 25137}\n",
    "brackets = {\"(\":\")\",\"[\":\"]\",\"{\":\"}\",\"<\":\">\"}\n",
    "\n",
    "def parseline(line):\n",
    "    stack = []\n",
    "    for char in line:\n",
    "        if char in brackets:\n",
    "            stack.append(char)\n",
    "            #print(stack)\n",
    "        else:\n",
    "            if char == brackets[stack[-1]]:\n",
    "                stack.pop()\n",
    "                #print(stack)\n",
    "            else:\n",
    "                return score[char]\n",
    "            \n",
    "solution = [parseline(line) for line in lines]\n",
    "solution = sum([i for i in solution if i])\n",
    "            \n",
    "solution"
   ]
  },
  {
   "cell_type": "code",
   "execution_count": 31,
   "id": "571e667f-12c5-47e3-938a-4dd9fb986cbe",
   "metadata": {},
   "outputs": [
    {
     "data": {
      "text/plain": [
       "[1, 2]"
      ]
     },
     "execution_count": 31,
     "metadata": {},
     "output_type": "execute_result"
    }
   ],
   "source": [
    "x = [1,2,3]\n",
    "x.pop()\n",
    "x"
   ]
  },
  {
   "cell_type": "code",
   "execution_count": 26,
   "id": "8e87c800-be12-421f-9ab2-b65e739229d8",
   "metadata": {},
   "outputs": [
    {
     "name": "stdout",
     "output_type": "stream",
     "text": [
      "[\n",
      "here1\n",
      "['(', '<', '{', '}', '[', '<', '>', '[', ']', '}', '>', '{', '[', ']', '{', '[', '(', '<', '(', ')', '>']\n"
     ]
    },
    {
     "data": {
      "text/plain": [
       "True"
      ]
     },
     "execution_count": 26,
     "metadata": {},
     "output_type": "execute_result"
    }
   ],
   "source": [
    "#pick first char\n",
    "#opened+=1\n",
    "#go char by char forward\n",
    "#if same char -> opened+=1\n",
    "#if same char flipped -> opened-=1\n",
    "#if opened == -1 -> corrupted.append(char)\n",
    "#if end of line is reached move to char 2 and repeat same process\n",
    "#go to next line\n",
    "#sum(corrupted)\n",
    "\n",
    "lines = []\n",
    "with open(\"intest.txt\", \"r\") as file:\n",
    "    for line in file:\n",
    "        lines.append(list(line.strip(\"\\n\")))\n",
    "#print(lines)\n",
    "        \n",
    "score = {\")\": 3, \"]\": 57, \"}\": 1197, \">\": 25137}\n",
    "brackets = {\"(\":\")\",\"[\":\"]\",\"{\":\"}\",\"<\":\">\"}\n",
    "\n",
    "def parseline(line):\n",
    "    idx=0\n",
    "    status=True\n",
    "    while isinstance(status, bool):\n",
    "        status=isclosedwell(idx, line)\n",
    "        idx+=1\n",
    "        if idx == len(line)-1:\n",
    "            break\n",
    "    if not isinstance(status, bool):\n",
    "        return score[status]\n",
    "        \n",
    "def isclosedwell(idx,line):\n",
    "    print(line[idx])\n",
    "    if line[idx] in brackets:\n",
    "        print(\"here1\")\n",
    "        opened=1\n",
    "        print(line[idx+1:])\n",
    "        for char2 in line[idx+1:]:\n",
    "            if char2 == brackets[line[idx+1]]:\n",
    "                opened-=1\n",
    "            elif char2 == line[idx+1]:\n",
    "                opened+=1\n",
    "\n",
    "            if opened == -1:\n",
    "                return char2\n",
    "        return True\n",
    "    else:\n",
    "        return True\n",
    "\n",
    "#isclosedwell(0, list(\"(()))(\"))\n",
    "#parseline(\"[({(<(())[]>[[{[]{<()<>>\")\n",
    "\n",
    "#solution = [parseline(line) for line in lines]\n",
    "#solution2 = sum([i for i in solution if i])\n",
    "#solution2\n",
    "isclosedwell(2, list(\"{([(<{}[<>[]}>{[]{[(<()>\"))"
   ]
  },
  {
   "cell_type": "code",
   "execution_count": 14,
   "id": "c9bc1ec3-8b68-4a82-9ad3-8447c21bcd04",
   "metadata": {},
   "outputs": [],
   "source": [
    "parseline(\"{([(<{}[<>[]}>{[]{[(<()>\")"
   ]
  },
  {
   "cell_type": "code",
   "execution_count": 20,
   "id": "cc19677f-a168-4377-be85-56f9739ba8b5",
   "metadata": {},
   "outputs": [
    {
     "name": "stdout",
     "output_type": "stream",
     "text": [
      "[\n"
     ]
    },
    {
     "data": {
      "text/plain": [
       "True"
      ]
     },
     "execution_count": 20,
     "metadata": {},
     "output_type": "execute_result"
    }
   ],
   "source": [
    "isclosedwell(2, list(\"{([(<{}[<>[]}>{[]{[(<()>\"))"
   ]
  }
 ],
 "metadata": {
  "kernelspec": {
   "display_name": "Python 3 (ipykernel)",
   "language": "python",
   "name": "python3"
  },
  "language_info": {
   "codemirror_mode": {
    "name": "ipython",
    "version": 3
   },
   "file_extension": ".py",
   "mimetype": "text/x-python",
   "name": "python",
   "nbconvert_exporter": "python",
   "pygments_lexer": "ipython3",
   "version": "3.10.0"
  }
 },
 "nbformat": 4,
 "nbformat_minor": 5
}
