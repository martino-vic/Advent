{
 "cells": [
  {
   "cell_type": "code",
   "execution_count": 42,
   "id": "fec9b7fb-8cbe-458f-8e39-3f2ea62aa231",
   "metadata": {},
   "outputs": [
    {
     "data": {
      "text/plain": [
       "[3, 1, 3]"
      ]
     },
     "execution_count": 42,
     "metadata": {},
     "output_type": "execute_result"
    }
   ],
   "source": [
    "x = [[1,2,3],[1,1,1],[4,5,6]]\n",
    "[len(set(i)) for i in x]"
   ]
  },
  {
   "cell_type": "code",
   "execution_count": 45,
   "id": "8449a018-dbfe-4e44-91bf-2411f1150cf1",
   "metadata": {},
   "outputs": [
    {
     "data": {
      "text/plain": [
       "510"
      ]
     },
     "execution_count": 45,
     "metadata": {},
     "output_type": "execute_result"
    }
   ],
   "source": [
    "#part two\n",
    "mtx = []\n",
    "\n",
    "with open(\"in\",\"r\") as f:\n",
    "    for l in f:\n",
    "        mtx.append(list(map(int, (l.strip(\"\\n\")))))\n",
    "\n",
    "def main(mtx):\n",
    "    flashcount = 0\n",
    "    while not all(len(set(r))==1 for r in mtx):\n",
    "        mtx = flash(mtx)\n",
    "        flashcount+=1\n",
    "        \n",
    "    return flashcount\n",
    "\n",
    "def addone(mtx):\n",
    "    mtx2=[]\n",
    "    for row in mtx:\n",
    "        row2 = []\n",
    "        for col in row:\n",
    "            row2.append(col+1)\n",
    "        mtx2.append(row2)\n",
    "    return mtx2\n",
    "\n",
    "def flash(mtx):\n",
    "    return discharge(addone(mtx))\n",
    "\n",
    "def discharge(mtx):\n",
    "    while not all(all(c<10 for c in r) for r in mtx):\n",
    "        #for i in mtx:\n",
    "        #    print(i)\n",
    "        #print()\n",
    "        for row,octopusses in enumerate(mtx):\n",
    "            for col,energy in enumerate(octopusses):\n",
    "                if energy > 9:\n",
    "                    mtx = chargeneighbors(mtx, row, col)\n",
    "    return mtx\n",
    "\n",
    "def chargeneighbors(mtx, row, col):\n",
    "    if row > 0:\n",
    "        if col > 0:\n",
    "            mtx[row-1][col-1]=mtx[row-1][col-1]+1 if mtx[row-1][col-1] != 0 else 0#upper left\n",
    "        mtx[row-1][col]=mtx[row-1][col]+1 if mtx[row-1][col] != 0 else 0#upper middle\n",
    "        if col < len(mtx[0])-1:\n",
    "            mtx[row-1][col+1]=mtx[row-1][col+1]+1 if mtx[row-1][col+1] != 0 else 0#upper right\n",
    "            \n",
    "    if col > 0:\n",
    "        mtx[row][col-1]=mtx[row][col-1]+1 if mtx[row][col-1] != 0 else 0#middle left\n",
    "    if col < len(mtx[0])-1:\n",
    "        mtx[row][col+1]=mtx[row][col+1]+1 if mtx[row][col+1] != 0 else 0#middle right\n",
    "        \n",
    "    if row < len(mtx)-1:\n",
    "        if col > 0:\n",
    "            mtx[row+1][col-1]=mtx[row+1][col-1]+1 if mtx[row+1][col-1] != 0 else 0#lower left\n",
    "        mtx[row+1][col]=mtx[row+1][col]+1 if mtx[row+1][col] != 0 else 0#lower middle\n",
    "        if col < len(mtx[0])-1:\n",
    "            mtx[row+1][col+1]=mtx[row+1][col+1]+1 if mtx[row+1][col+1] != 0 else 0#lower right\n",
    "            \n",
    "    mtx[row][col] = 0\n",
    "    global flashcount\n",
    "    flashcount+=1\n",
    "            \n",
    "    return mtx\n",
    "       \n",
    "main(mtx)"
   ]
  },
  {
   "cell_type": "code",
   "execution_count": 35,
   "id": "4a4c6b63-5dde-4413-8836-fc198f5d441e",
   "metadata": {},
   "outputs": [
    {
     "data": {
      "text/plain": [
       "1613"
      ]
     },
     "execution_count": 35,
     "metadata": {},
     "output_type": "execute_result"
    }
   ],
   "source": [
    "#part one\n",
    "mtx = []\n",
    "flashcount = 0\n",
    "\n",
    "with open(\"in\",\"r\") as f:\n",
    "    for l in f:\n",
    "        mtx.append(list(map(int, (l.strip(\"\\n\")))))\n",
    "\n",
    "def main(steps, mtx):\n",
    "    for i in range(steps):\n",
    "        mtx = flash(mtx)\n",
    "    return mtx\n",
    "\n",
    "def addone(mtx):\n",
    "    mtx2=[]\n",
    "    for row in mtx:\n",
    "        row2 = []\n",
    "        for col in row:\n",
    "            row2.append(col+1)\n",
    "        mtx2.append(row2)\n",
    "    return mtx2\n",
    "\n",
    "def flash(mtx):\n",
    "    return discharge(addone(mtx))\n",
    "\n",
    "def discharge(mtx):\n",
    "    while not all(all(c<10 for c in r) for r in mtx):\n",
    "        #for i in mtx:\n",
    "        #    print(i)\n",
    "        #print()\n",
    "        for row,octopusses in enumerate(mtx):\n",
    "            for col,energy in enumerate(octopusses):\n",
    "                if energy > 9:\n",
    "                    mtx = chargeneighbors(mtx, row, col)\n",
    "    return mtx\n",
    "\n",
    "def chargeneighbors(mtx, row, col):\n",
    "    if row > 0:\n",
    "        if col > 0:\n",
    "            mtx[row-1][col-1]=mtx[row-1][col-1]+1 if mtx[row-1][col-1] != 0 else 0#upper left\n",
    "        mtx[row-1][col]=mtx[row-1][col]+1 if mtx[row-1][col] != 0 else 0#upper middle\n",
    "        if col < len(mtx[0])-1:\n",
    "            mtx[row-1][col+1]=mtx[row-1][col+1]+1 if mtx[row-1][col+1] != 0 else 0#upper right\n",
    "            \n",
    "    if col > 0:\n",
    "        mtx[row][col-1]=mtx[row][col-1]+1 if mtx[row][col-1] != 0 else 0#middle left\n",
    "    if col < len(mtx[0])-1:\n",
    "        mtx[row][col+1]=mtx[row][col+1]+1 if mtx[row][col+1] != 0 else 0#middle right\n",
    "        \n",
    "    if row < len(mtx)-1:\n",
    "        if col > 0:\n",
    "            mtx[row+1][col-1]=mtx[row+1][col-1]+1 if mtx[row+1][col-1] != 0 else 0#lower left\n",
    "        mtx[row+1][col]=mtx[row+1][col]+1 if mtx[row+1][col] != 0 else 0#lower middle\n",
    "        if col < len(mtx[0])-1:\n",
    "            mtx[row+1][col+1]=mtx[row+1][col+1]+1 if mtx[row+1][col+1] != 0 else 0#lower right\n",
    "            \n",
    "    mtx[row][col] = 0\n",
    "    global flashcount\n",
    "    flashcount+=1\n",
    "            \n",
    "    return mtx\n",
    "       \n",
    "main(100, mtx)\n",
    "flashcount"
   ]
  }
 ],
 "metadata": {
  "kernelspec": {
   "display_name": "Python 3 (ipykernel)",
   "language": "python",
   "name": "python3"
  },
  "language_info": {
   "codemirror_mode": {
    "name": "ipython",
    "version": 3
   },
   "file_extension": ".py",
   "mimetype": "text/x-python",
   "name": "python",
   "nbconvert_exporter": "python",
   "pygments_lexer": "ipython3",
   "version": "3.10.0"
  }
 },
 "nbformat": 4,
 "nbformat_minor": 5
}
