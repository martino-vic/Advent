{
 "cells": [
  {
   "cell_type": "code",
   "execution_count": 270,
   "id": "c8dd60d3-ea34-426f-a9fa-179a87a4eb7a",
   "metadata": {},
   "outputs": [
    {
     "data": {
      "text/plain": [
       "17"
      ]
     },
     "execution_count": 270,
     "metadata": {},
     "output_type": "execute_result"
    }
   ],
   "source": [
    "m = []\n",
    "from collections import Counter\n",
    "\n",
    "def getmtx():\n",
    "    x = []\n",
    "    y= []\n",
    "    mtx = []\n",
    "    with open(\"easy\", \"r\") as f:\n",
    "        for l in f:\n",
    "            x.append(list(map(int, l.strip(\"\\n\").split(\",\")))[0])\n",
    "            y.append(list(map(int, l.strip(\"\\n\").split(\",\")))[1])\n",
    "\n",
    "    coor = zip(x, y)\n",
    "    #mtx = [[0]*(max(x)+1)]*(max(y)+1)\n",
    "    for i in range(max(y)+1):\n",
    "        row = []\n",
    "        for j in range(max(x)+1):\n",
    "            row.append(0)\n",
    "        mtx.append(row)\n",
    "\n",
    "    for i, j in coor:\n",
    "        mtx[j][i] = 1\n",
    "\n",
    "    return mtx\n",
    "\n",
    "def main():\n",
    "    mtx = getmtx()\n",
    "    axis = []\n",
    "    where = []\n",
    "    with open(\"foldeasy\", \"r\") as f:\n",
    "        for l in f:\n",
    "            axis.append(l.strip(\"\\n\")[len(\"fold along \"):].split(\"=\")[0])\n",
    "            where.append(l.strip(\"\\n\")[len(\"fold along \"):].split(\"=\")[1])\n",
    "            where = list(map(int, where))\n",
    "\n",
    "    if axis[0] == \"x\":\n",
    "        print(where[0])\n",
    "        mtx1 = [i[:where[0]][::-1] for i in mtx]\n",
    "        mtx2 = [i[where[0]+1:] for i in mtx]\n",
    "        \n",
    "        \n",
    "    if axis[0] == \"y\":\n",
    "        mtx1 = mtx[:where[0]]\n",
    "        mtx2 = mtx[where[0]+1:][::-1]\n",
    "\n",
    "#    for i in mtx:\n",
    " #       print(i)\n",
    "  #  print()\n",
    "    \n",
    "#    for i in mtx1:\n",
    " #       print(i)\n",
    "  #  print()\n",
    "   # for i in mtx2:\n",
    "    #    print(i)\n",
    "    #print()\n",
    "    global m\n",
    "\n",
    "        \n",
    "    mtx_new = [[1 if c1==1 or c2==1 else 0 for c1, c2 in zip(r1, r2)] for r1, r2 in zip(mtx1, mtx2)]\n",
    "\n",
    "    m = mtx_new\n",
    "##    for i in mtx_new:\n",
    "  #      print(i)\n",
    "   # print()\n",
    "        \n",
    "    return dict(sum(map(Counter, mtx_new), Counter()))[1]\n",
    "\n",
    "main()"
   ]
  },
  {
   "cell_type": "code",
   "execution_count": 244,
   "id": "bbf098e6-48d9-417a-a9ee-e71fe669058b",
   "metadata": {},
   "outputs": [
    {
     "data": {
      "text/plain": [
       "[[1, 0, 1, 1, 0, 0, 1, 0, 0, 1, 0],\n",
       " [1, 0, 0, 0, 1, 0, 0, 0, 0, 0, 0],\n",
       " [0, 0, 0, 0, 0, 0, 1, 0, 0, 0, 1],\n",
       " [1, 0, 0, 0, 1, 0, 0, 0, 0, 0, 0],\n",
       " [0, 1, 0, 1, 0, 0, 1, 0, 1, 1, 1],\n",
       " [0, 0, 0, 0, 0, 0, 0, 0, 0, 0, 0],\n",
       " [0, 0, 0, 0, 0, 0, 0, 0, 0, 0, 0]]"
      ]
     },
     "execution_count": 244,
     "metadata": {},
     "output_type": "execute_result"
    }
   ],
   "source": []
  },
  {
   "cell_type": "code",
   "execution_count": 272,
   "id": "03cf6bae-f409-47b2-80c0-479fa70b1f36",
   "metadata": {},
   "outputs": [
    {
     "name": "stdout",
     "output_type": "stream",
     "text": [
      "[0, 1, 1, 0, 1]\n",
      "[1, 0, 0, 0, 1]\n",
      "[0, 0, 0, 0, 0]\n",
      "[1, 0, 0, 0, 1]\n",
      "[0, 1, 0, 1, 0]\n",
      "[0, 0, 0, 0, 0]\n",
      "[0, 0, 0, 0, 0]\n",
      "\n",
      "[1, 0, 0, 1, 0]\n",
      "[0, 0, 0, 0, 0]\n",
      "[1, 0, 0, 0, 1]\n",
      "[0, 0, 0, 0, 0]\n",
      "[1, 0, 1, 1, 1]\n",
      "[0, 0, 0, 0, 0]\n",
      "[0, 0, 0, 0, 0]\n",
      "\n",
      "[1, 1, 1, 1, 1]\n",
      "[1, 0, 0, 0, 1]\n",
      "[1, 0, 0, 0, 1]\n",
      "[1, 0, 0, 0, 1]\n",
      "[1, 1, 1, 1, 1]\n",
      "[0, 0, 0, 0, 0]\n",
      "[0, 0, 0, 0, 0]\n",
      "\n"
     ]
    },
    {
     "data": {
      "text/plain": [
       "16"
      ]
     },
     "execution_count": 272,
     "metadata": {},
     "output_type": "execute_result"
    }
   ],
   "source": [
    "where=[5]\n",
    "m1 = [i[:where[0]][::-1] for i in m]\n",
    "m2 = [i[where[0]+1:] for i in m]\n",
    "for i in m1:\n",
    "    print(i)\n",
    "print()\n",
    "for i in m2:\n",
    "    print(i)\n",
    "print()\n",
    "m3 = [[1 if c1==1 or c2==1 else 0 for c1, c2 in zip(r1, r2)] for r1, r2 in zip(m1, m2)]\n",
    "for i in m3:\n",
    "    print(i)\n",
    "print()\n",
    "dict(sum(map(Counter, m3), Counter()))[1]"
   ]
  },
  {
   "cell_type": "code",
   "execution_count": 80,
   "id": "a3320e1d-50ea-429e-8b85-6e7248d975a4",
   "metadata": {},
   "outputs": [
    {
     "data": {
      "text/plain": [
       "[[3], [6], [9]]"
      ]
     },
     "execution_count": 80,
     "metadata": {},
     "output_type": "execute_result"
    }
   ],
   "source": [
    "m = [[1,2,3], [4,5,6], [7,8,9]]\n",
    "[i[2:] for i in m]"
   ]
  },
  {
   "cell_type": "code",
   "execution_count": 91,
   "id": "14a7cc18-6f19-4793-9891-b0535fd187f6",
   "metadata": {},
   "outputs": [
    {
     "data": {
      "text/plain": [
       "[0, 1, 0]"
      ]
     },
     "execution_count": 91,
     "metadata": {},
     "output_type": "execute_result"
    }
   ],
   "source": [
    "[1 if c1==1 or c2==1 else 0 for c1, c2 in zip([0,1,0],[0,0,0])]"
   ]
  },
  {
   "cell_type": "code",
   "execution_count": 94,
   "id": "56e8cec2-e8e1-4e86-ac94-61438823facd",
   "metadata": {},
   "outputs": [
    {
     "name": "stdout",
     "output_type": "stream",
     "text": [
      "[1, 2, 3] [7, 8, 9]\n",
      "[4, 5, 6] [4, 5, 6]\n",
      "[7, 8, 9] [1, 2, 3]\n"
     ]
    }
   ],
   "source": [
    "m1 = m\n",
    "m2 = m[::-1]\n",
    "for r1, r2 in zip(m1, m2):\n",
    "    print(r1, r2)"
   ]
  },
  {
   "cell_type": "code",
   "execution_count": 200,
   "id": "ef446bb2-245f-4b57-8a9b-678aaa481cb7",
   "metadata": {},
   "outputs": [
    {
     "data": {
      "text/plain": [
       "[[1, 2, 3], [4, 1, 6], [7, 8, 9]]"
      ]
     },
     "execution_count": 200,
     "metadata": {},
     "output_type": "execute_result"
    }
   ],
   "source": [
    "m = [[1,2,3], [4,5,6], [7,8,9]]\n",
    "for i, j in zip([1], [1]):\n",
    "    m[j][i] = 1\n",
    "m"
   ]
  },
  {
   "cell_type": "code",
   "execution_count": 201,
   "id": "be906a15-204c-4ac1-a8be-f5732ffe614d",
   "metadata": {},
   "outputs": [
    {
     "data": {
      "text/plain": [
       "[[0, 1, 0, 0, 0, 0, 0, 0, 0, 0, 0],\n",
       " [0, 1, 0, 0, 0, 0, 0, 0, 0, 0, 0],\n",
       " [0, 1, 0, 0, 0, 0, 0, 0, 0, 0, 0],\n",
       " [0, 1, 0, 0, 0, 0, 0, 0, 0, 0, 0],\n",
       " [0, 1, 0, 0, 0, 0, 0, 0, 0, 0, 0],\n",
       " [0, 1, 0, 0, 0, 0, 0, 0, 0, 0, 0],\n",
       " [0, 1, 0, 0, 0, 0, 0, 0, 0, 0, 0],\n",
       " [0, 1, 0, 0, 0, 0, 0, 0, 0, 0, 0],\n",
       " [0, 1, 0, 0, 0, 0, 0, 0, 0, 0, 0],\n",
       " [0, 1, 0, 0, 0, 0, 0, 0, 0, 0, 0],\n",
       " [0, 1, 0, 0, 0, 0, 0, 0, 0, 0, 0],\n",
       " [0, 1, 0, 0, 0, 0, 0, 0, 0, 0, 0],\n",
       " [0, 1, 0, 0, 0, 0, 0, 0, 0, 0, 0],\n",
       " [0, 1, 0, 0, 0, 0, 0, 0, 0, 0, 0],\n",
       " [0, 1, 0, 0, 0, 0, 0, 0, 0, 0, 0]]"
      ]
     },
     "execution_count": 201,
     "metadata": {},
     "output_type": "execute_result"
    }
   ],
   "source": [
    "mtx= getmtx()\n",
    "for i, j in zip([1],[1]):\n",
    "    mtx[j][i] = 1\n",
    "mtx"
   ]
  },
  {
   "cell_type": "code",
   "execution_count": 199,
   "id": "199005aa-6926-4228-9e76-2a0a6e5650f4",
   "metadata": {},
   "outputs": [
    {
     "name": "stdout",
     "output_type": "stream",
     "text": [
      "15\n",
      "3\n",
      "11\n",
      "3\n",
      "<class 'list'> <class 'list'>\n",
      "<class 'list'> <class 'list'>\n"
     ]
    }
   ],
   "source": [
    "print(len(getmtx()))\n",
    "print(len(m))\n",
    "print(len(getmtx()[0]))\n",
    "print(len(m[0]))\n",
    "print(type(getmtx()), type(m))\n",
    "print(type(getmtx()[0]), type(m[0]))"
   ]
  },
  {
   "cell_type": "code",
   "execution_count": 205,
   "id": "802008f6-e340-4a97-a7d8-b85d04c41038",
   "metadata": {},
   "outputs": [
    {
     "name": "stdout",
     "output_type": "stream",
     "text": [
      "[[0, 0, 0], [0, 1, 0], [0, 0, 0]] [[0, 1, 0], [0, 1, 0], [0, 1, 0]]\n"
     ]
    }
   ],
   "source": [
    "m1 = [[0, 0, 0], [0, 0, 0], [0, 0, 0]]\n",
    "m2 = [[0]*3]*3\n",
    "\n",
    "for i, j in zip([1],[1]):\n",
    "    m1[j][i] = 1\n",
    "\n",
    "for i, j in zip([1],[1]):\n",
    "    m2[j][i] = 1\n",
    "\n",
    "print(m1, m2)"
   ]
  }
 ],
 "metadata": {
  "kernelspec": {
   "display_name": "Python 3 (ipykernel)",
   "language": "python",
   "name": "python3"
  },
  "language_info": {
   "codemirror_mode": {
    "name": "ipython",
    "version": 3
   },
   "file_extension": ".py",
   "mimetype": "text/x-python",
   "name": "python",
   "nbconvert_exporter": "python",
   "pygments_lexer": "ipython3",
   "version": "3.10.0"
  }
 },
 "nbformat": 4,
 "nbformat_minor": 5
}
