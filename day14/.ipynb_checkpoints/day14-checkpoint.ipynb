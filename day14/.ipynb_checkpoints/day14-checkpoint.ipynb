{
 "cells": [
  {
   "cell_type": "code",
   "execution_count": 3,
   "id": "fa7a0dda-cd1a-4de0-a136-9fb8581f14ae",
   "metadata": {},
   "outputs": [
    {
     "data": {
      "text/plain": [
       "2188189693531"
      ]
     },
     "execution_count": 3,
     "metadata": {},
     "output_type": "execute_result"
    }
   ],
   "source": [
    "#part two\n",
    "#skip info about sequence, only count HOW MANY\n",
    "from nltk import ngrams\n",
    "#s = 'OOBFPNOPBHKCCVHOBCSO'\n",
    "s= 'NNCB'\n",
    "cnt = {k:1 for k in set(list(map(\"\".join, list(ngrams(list(s), 2)))))}\n",
    "d = {}\n",
    "with open(\"i\", \"r\") as f:\n",
    "    for line in f:\n",
    "        l = line.strip(\"\\n\").split(\" -> \")\n",
    "        d[l[0]] = l[1]\n",
    "\n",
    "def poly(cnt):\n",
    "    cnt2 = {}\n",
    "    for k in cnt:\n",
    "        new1 = k[0]+d[k]\n",
    "        new2 = d[k]+k[1]\n",
    "        \n",
    "        if new1 not in cnt2:\n",
    "            cnt2[new1] = cnt[k]\n",
    "        else:\n",
    "            cnt2[new1] += cnt[k]\n",
    "            \n",
    "        if new2 not in cnt2:\n",
    "            cnt2[new2] = cnt[k]\n",
    "        else:\n",
    "            cnt2[new2] += cnt[k]            \n",
    "        \n",
    "    return cnt2\n",
    "\n",
    "c=0\n",
    "while c <40:\n",
    "    cnt = poly(cnt)\n",
    "    c+=1\n",
    "\n",
    "cnt2 = {}\n",
    "\n",
    "lc = list(cnt)\n",
    "for i in lc:\n",
    "    if i[0] in cnt2:\n",
    "        cnt2[i[0]]+=cnt[i]\n",
    "    else:\n",
    "        cnt2[i[0]] = cnt[i]\n",
    "\n",
    "cnt2[lc[1][1]] +=1\n",
    "\n",
    "big = 0\n",
    "smol = 10000000000000000000000000000000000000000000000000000000000000000000000\n",
    "\n",
    "for i in cnt2:\n",
    "    if cnt2[i] > big:\n",
    "        big = cnt2[i]\n",
    "\n",
    "for i in cnt2:\n",
    "    if cnt2[i] < smol:\n",
    "        smol = cnt2[i]\n",
    "\n",
    "big-smol+2"
   ]
  },
  {
   "cell_type": "code",
   "execution_count": 102,
   "id": "46d81cad-82f6-45cc-95a5-45dad01b8f7a",
   "metadata": {},
   "outputs": [
    {
     "data": {
      "text/plain": [
       "Counter({'F': 3115,\n",
       "         'K': 3077,\n",
       "         'S': 2339,\n",
       "         'C': 2285,\n",
       "         'H': 1966,\n",
       "         'B': 1900,\n",
       "         'V': 1485,\n",
       "         'N': 1215,\n",
       "         'P': 1154,\n",
       "         'O': 921})"
      ]
     },
     "execution_count": 102,
     "metadata": {},
     "output_type": "execute_result"
    }
   ],
   "source": [
    "Counter({'F': 3115, 'K': 3077, 'S': 2339, 'C': 2285, 'H': 1966, 'B': 1900, 'V': 1485, 'N': 1215, 'P': 1154, 'O': 921})"
   ]
  },
  {
   "cell_type": "code",
   "execution_count": null,
   "id": "181edbb7-558d-4d29-be77-3bd7522b51c9",
   "metadata": {},
   "outputs": [],
   "source": [
    "#part two\n",
    "#skip info about sequence, only count HOW MANY\n",
    "s = 'OOBFPNOPBHKCCVHOBCSO'\n",
    "s= 'NNCB'\n",
    "cnt = {k:1 for k in set(list(map(\"\".join, list(ngrams(list(s), 2)))))}\n",
    "d = {}\n",
    "with open(\"i\", \"r\") as f:\n",
    "    for line in f:\n",
    "        l = line.strip(\"\\n\").split(\" -> \")\n",
    "        d[l[0]] = l[1]\n",
    "\n",
    "def poly(cnt):\n",
    "    add1 = []\n",
    "    add2 = []\n",
    "    for k in cnt:\n",
    "        new1 = k[0]+d[k]\n",
    "        new2 = d[k]+k[1]\n",
    "        \n",
    "        if new1 in cnt:\n",
    "            cnt[new1] += cnt[k]\n",
    "        else:\n",
    "            add1.append(new1)\n",
    "\n",
    "        if new2 in cnt:\n",
    "            cnt[new2] += cnt[k]\n",
    "        else:\n",
    "            add2.append(new1)\n",
    "       \n",
    "    for i in add1:\n",
    "        print(add1)\n",
    "        cnt[i] = 1\n",
    "        print(i, cnt)\n",
    "    for i in add2:\n",
    "        print(cnt)\n",
    "        cnt[i] = 1\n",
    "        \n",
    "    return cnt\n",
    "\n",
    "poly(cnt)"
   ]
  },
  {
   "cell_type": "code",
   "execution_count": 2,
   "id": "bbfc4a9c-d6d1-45f5-9dd1-3bfcf514214c",
   "metadata": {},
   "outputs": [
    {
     "data": {
      "text/plain": [
       "{'CB': 512, 'NC': 1, 'NN': 1, 'HB': 512, 'BC': 262144, 'CN': 262144}"
      ]
     },
     "execution_count": 3,
     "metadata": {},
     "output_type": "execute_result"
    }
   ],
   "source": [
    "#part two\n",
    "#skip info about sequence, only count HOW MANY\n",
    "s = 'OOBFPNOPBHKCCVHOBCSO'\n",
    "s= 'NNCB'\n",
    "cnt = {k:1 for k in set(list(map(\"\".join, list(ngrams(list(s), 2)))))}\n",
    "cnt2 = {k:0 for k in set(s)}\n",
    "d = {}\n",
    "with open(\"i\", \"r\") as f:\n",
    "    for line in f:\n",
    "        l = line.strip(\"\\n\").split(\" -> \")\n",
    "        d[l[0]] = l[0][0] + l[1] + l[0][1]\n",
    "\n",
    "def poly(cnt):\n",
    "    add = []\n",
    "    for i in cnt:\n",
    "        \n",
    "        \n",
    "        \n",
    "        \n",
    "#        k1 = d[i][1:]\n",
    " #       if k in cnt:\n",
    "  #          cnt[k]*=2\n",
    "   #     else:\n",
    "      #      add.append(k)\n",
    "    ##for i in add:\n",
    "       # cnt[i] = 1\n",
    "    #return cnt\n",
    "\n",
    "\n",
    "c=0\n",
    "while c <10:\n",
    "    cnt = poly(cnt)\n",
    "    c+=1\n",
    "    \n",
    "for i in cnt:\n",
    "    if i[0] in cnt2:\n",
    "        cnt2[i[0]]+=cnt[i]\n",
    "    else:\n",
    "        cnt2[i[0]] = cnt[i]\n",
    "\n",
    "    if i[1] in cnt2:\n",
    "        cnt2[i[1]]+=cnt[i]\n",
    "    else:\n",
    "        cnt2[i[1]] = cnt[i]\n",
    "cnt\n"
   ]
  },
  {
   "cell_type": "code",
   "execution_count": null,
   "id": "da846e72-cb3c-4c0b-9d1b-9c9dd9f54de9",
   "metadata": {},
   "outputs": [],
   "source": [
    "2192039569602 > 549755813888"
   ]
  },
  {
   "cell_type": "code",
   "execution_count": 6,
   "id": "bcdba7d3-53b6-4e7d-863f-2d38f5ca09d8",
   "metadata": {},
   "outputs": [
    {
     "name": "stdout",
     "output_type": "stream",
     "text": [
      "Counter({'F': 3115, 'K': 3077, 'S': 2339, 'C': 2285, 'H': 1966, 'B': 1900, 'V': 1485, 'N': 1215, 'P': 1154, 'O': 921})\n",
      "3115\n",
      "921\n"
     ]
    },
    {
     "data": {
      "text/plain": [
       "2194"
      ]
     },
     "execution_count": 6,
     "metadata": {},
     "output_type": "execute_result"
    }
   ],
   "source": [
    "#part one\n",
    "from nltk import ngrams\n",
    "from collections import Counter\n",
    "\n",
    "s = 'OOBFPNOPBHKCCVHOBCSO'\n",
    "#s = 'NNCB'\n",
    "d = {}\n",
    "with open(\"in\", \"r\") as f:\n",
    "    for line in f:\n",
    "        l = line.strip(\"\\n\").split(\" -> \")\n",
    "        d[l[0]] = l[0][0] + l[1] + l[0][1]\n",
    "\n",
    "def poly(s):    \n",
    "    s = list(map(\"\".join, list(ngrams(list(s), 2))))\n",
    "    s = s[0][0]+\"\".join([d[i][1:] for i in s])\n",
    "    return s\n",
    "\n",
    "\n",
    "c=0\n",
    "while c <10:\n",
    "    s = poly(s)\n",
    "    c+=1\n",
    "\n",
    "cnt = Counter(s)\n",
    "big = 0\n",
    "smol = 1000000000000000\n",
    "for i in cnt:\n",
    "    if cnt[i] > big:\n",
    "        big = cnt[i]\n",
    "\n",
    "for i in cnt:\n",
    "    if cnt[i] < smol:\n",
    "        smol = cnt[i]\n",
    "\n",
    "print(cnt)\n",
    "print(big)\n",
    "print(smol)\n",
    "big-smol"
   ]
  }
 ],
 "metadata": {
  "kernelspec": {
   "display_name": "Python 3 (ipykernel)",
   "language": "python",
   "name": "python3"
  },
  "language_info": {
   "codemirror_mode": {
    "name": "ipython",
    "version": 3
   },
   "file_extension": ".py",
   "mimetype": "text/x-python",
   "name": "python",
   "nbconvert_exporter": "python",
   "pygments_lexer": "ipython3",
   "version": "3.10.0"
  }
 },
 "nbformat": 4,
 "nbformat_minor": 5
}
