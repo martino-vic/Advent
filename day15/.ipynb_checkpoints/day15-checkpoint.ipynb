{
 "cells": [
  {
   "cell_type": "code",
   "execution_count": 54,
   "id": "fa871057-063d-4f99-a1f7-e5477d761ab5",
   "metadata": {},
   "outputs": [
    {
     "data": {
      "text/plain": [
       "2904"
      ]
     },
     "execution_count": 54,
     "metadata": {},
     "output_type": "execute_result"
    }
   ],
   "source": [
    "#part two\n",
    "import networkx as nx\n",
    "\n",
    "def main(file):\n",
    "    lines = []\n",
    "    with open(file, \"r\") as f:\n",
    "        for l in f:\n",
    "            smolline = list(map(int, l.strip(\"\\n\")))\n",
    "            bigline = smolline\n",
    "            c=0\n",
    "            while c<4:\n",
    "                smolline = [i+1 if i<9 else 1 for i in smolline]\n",
    "                bigline += smolline\n",
    "                c+=1\n",
    "            lines.append(bigline)\n",
    "\n",
    "    sol = lines\n",
    "    c=0\n",
    "    while c<4:\n",
    "        lines = [[j+1 if j< 9 else 1 for j in i] for i in lines]\n",
    "        sol += lines\n",
    "        c+=1\n",
    "        \n",
    "    lines = sol\n",
    "    \n",
    "    G = nx.DiGraph()\n",
    "    for lnr, line in enumerate(lines):\n",
    "        for cnr, col in enumerate(line):\n",
    "            cur = len(lines[0])*lnr+cnr\n",
    "            if cnr != len(lines[0])-1:\n",
    "                G.add_edge(cur, cur+1, lol=lines[lnr][cnr+1])\n",
    "            if lnr != len(lines)-1:\n",
    "                G.add_edge(cur, cur+len(lines[0]), lol=lines[lnr+1][cnr])\n",
    "            if cnr != 0:\n",
    "                G.add_edge(cur, cur-1, lol=lines[lnr][cnr-1])\n",
    "            if lnr != 0:\n",
    "                G.add_edge(cur, cur-len(lines[0]), lol=lines[lnr-1][cnr])\n",
    "                \n",
    "    tgt = len(lines[0])*len(lines)-1\n",
    "    path = nx.shortest_path(G, source=0, target=tgt, weight=\"lol\", method='dijkstra')\n",
    "    return nx.path_weight(G, path, weight=\"lol\")\n",
    "\n",
    "main(\"in\")"
   ]
  },
  {
   "cell_type": "code",
   "execution_count": 18,
   "id": "2227efcb-0c39-4ed0-9d13-2f312f4f2ffa",
   "metadata": {},
   "outputs": [
    {
     "data": {
      "text/plain": [
       "621"
      ]
     },
     "execution_count": 18,
     "metadata": {},
     "output_type": "execute_result"
    }
   ],
   "source": [
    "#part one\n",
    "#solved with help of reddit user TrickWasabi4\n",
    "#https://www.reddit.com/r/adventofcode/comments/rgtwjb/2021_day_15_part_1python_correct_for_easy_example/homct66/?context=3\n",
    "import networkx as nx\n",
    "\n",
    "def main(file):\n",
    "    lines = []\n",
    "    with open(file, \"r\") as f:\n",
    "        for l in f:\n",
    "            lines.append(list(map(int, l.strip(\"\\n\"))))\n",
    "\n",
    "    G = nx.DiGraph()\n",
    "    for lnr, line in enumerate(lines):\n",
    "        for cnr, col in enumerate(line):\n",
    "            cur = len(lines[0])*lnr+cnr\n",
    "            if cnr != len(lines[0])-1:\n",
    "                G.add_edge(cur, cur+1, lol=lines[lnr][cnr+1])\n",
    "            if lnr != len(lines)-1:\n",
    "                G.add_edge(cur, cur+len(lines[0]), lol=lines[lnr+1][cnr])\n",
    "            if cnr != 0:\n",
    "                G.add_edge(cur, cur-1, lol=lines[lnr][cnr-1])\n",
    "            if lnr != 0:\n",
    "                G.add_edge(cur, cur-len(lines[0]), lol=lines[lnr-1][cnr])\n",
    "\n",
    "    tgt = len(lines[0])*len(lines)-1\n",
    "    path = nx.shortest_path(G, source=0, target=tgt, weight=\"lol\", method='dijkstra')\n",
    "    return nx.path_weight(G, path, weight=\"lol\")\n",
    "\n",
    "main(\"in\")"
   ]
  },
  {
   "cell_type": "code",
   "execution_count": 4,
   "id": "76801fa8-3029-4815-b4ae-50b7b8073717",
   "metadata": {},
   "outputs": [
    {
     "data": {
      "text/plain": [
       "40"
      ]
     },
     "execution_count": 4,
     "metadata": {},
     "output_type": "execute_result"
    }
   ],
   "source": [
    "#part one\n",
    "#got stuck, asked for help on reddit\n",
    "import networkx as nx\n",
    "\n",
    "def main(file):\n",
    "    lines = []\n",
    "    with open(file, \"r\") as f:\n",
    "        for l in f:\n",
    "            lines.append(list(map(int, l.strip(\"\\n\"))))\n",
    "\n",
    "    G = nx.Graph()\n",
    "    for lnr, line in enumerate(lines):\n",
    "        for cnr, col in enumerate(line):\n",
    "            cur = len(lines[0])*lnr+cnr\n",
    "            if cnr != len(lines[0])-1:\n",
    "                G.add_edge(cur, cur+1, lol=lines[lnr][cnr+1])\n",
    "            if lnr != len(lines)-1:\n",
    "                G.add_edge(cur, cur+len(lines[0]), lol=lines[lnr+1][cnr])\n",
    "\n",
    "    tgt = len(lines[0])*len(lines)-1\n",
    "    path = nx.shortest_path(G, source=0, target=tgt, weight=\"lol\", method='dijkstra')\n",
    "    return nx.path_weight(G, path, weight=\"lol\")\n",
    "\n",
    "main(\"i\")"
   ]
  },
  {
   "cell_type": "code",
   "execution_count": 5,
   "id": "bb21320d-dc03-4af0-8ea8-7335be12ceb4",
   "metadata": {},
   "outputs": [
    {
     "data": {
      "text/plain": [
       "608"
      ]
     },
     "execution_count": 5,
     "metadata": {},
     "output_type": "execute_result"
    }
   ],
   "source": [
    "main(\"in\")"
   ]
  }
 ],
 "metadata": {
  "kernelspec": {
   "display_name": "Python 3 (ipykernel)",
   "language": "python",
   "name": "python3"
  },
  "language_info": {
   "codemirror_mode": {
    "name": "ipython",
    "version": 3
   },
   "file_extension": ".py",
   "mimetype": "text/x-python",
   "name": "python",
   "nbconvert_exporter": "python",
   "pygments_lexer": "ipython3",
   "version": "3.10.0"
  }
 },
 "nbformat": 4,
 "nbformat_minor": 5
}
