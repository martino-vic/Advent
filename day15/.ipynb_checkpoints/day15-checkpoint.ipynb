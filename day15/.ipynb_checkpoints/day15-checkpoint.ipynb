{
 "cells": [
  {
   "cell_type": "code",
   "execution_count": 8,
   "id": "76801fa8-3029-4815-b4ae-50b7b8073717",
   "metadata": {},
   "outputs": [
    {
     "data": {
      "text/plain": [
       "40"
      ]
     },
     "execution_count": 8,
     "metadata": {},
     "output_type": "execute_result"
    }
   ],
   "source": [
    "#part one\n",
    "import networkx as nx\n",
    "\n",
    "lines = []\n",
    "with open(\"i\", \"r\") as f:\n",
    "    for l in f:\n",
    "        lines.append(list(map(int, l.strip(\"\\n\"))))\n",
    "\n",
    "G = nx.Graph()\n",
    "for lnr, line in enumerate(lines):\n",
    "    for cnr, col in enumerate(line):\n",
    "        cur = len(lines[0])*lnr+cnr\n",
    "        if cnr != len(lines[0])-1:\n",
    "            G.add_edge(cur, cur+1, lol=lines[lnr][cnr+1])\n",
    "        if lnr != len(lines)-1:\n",
    "            G.add_edge(cur, cur+len(lines[0]), lol=lines[lnr+1][cnr])\n",
    "            \n",
    "tgt = len(lines[0])*len(lines)-1\n",
    "path = nx.shortest_path(G, source=0, target=tgt, weight=\"lol\", method='dijkstra')\n",
    "nx.path_weight(G, path, weight=\"lol\")"
   ]
  }
 ],
 "metadata": {
  "kernelspec": {
   "display_name": "Python 3 (ipykernel)",
   "language": "python",
   "name": "python3"
  },
  "language_info": {
   "codemirror_mode": {
    "name": "ipython",
    "version": 3
   },
   "file_extension": ".py",
   "mimetype": "text/x-python",
   "name": "python",
   "nbconvert_exporter": "python",
   "pygments_lexer": "ipython3",
   "version": "3.10.0"
  }
 },
 "nbformat": 4,
 "nbformat_minor": 5
}
