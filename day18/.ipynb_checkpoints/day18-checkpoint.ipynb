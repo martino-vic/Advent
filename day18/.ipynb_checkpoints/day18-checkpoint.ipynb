{
 "cells": [
  {
   "cell_type": "code",
   "execution_count": null,
   "id": "26042162-a3c3-462e-ab80-fd7b624a83c4",
   "metadata": {},
   "outputs": [],
   "source": [
    "#read lines\n",
    "#works for the first small example 19:01\n",
    "import ast\n",
    "def add(d1, d2):\n",
    "    d1out = {}\n",
    "    for i in d1:\n",
    "        d1out[\"0\"+i] = d1[i]\n",
    "        \n",
    "    d2out = {}\n",
    "    for i in d2:\n",
    "        d2out[\"1\"+i] = d2[i]\n",
    "        \n",
    "    d1out |= d2out\n",
    "    return d1out\n",
    "\n",
    "addlist = []\n",
    "with open(\"i2\", \"r\") as f:\n",
    "    for l in f:\n",
    "        addlist.append((l.strip(\"\\n\")))\n",
    "\n",
    "T = Tree()\n",
    "T.l2d(ast.literal_eval(addlist[0]))\n",
    "out = T.d\n",
    "print(out)\n",
    "for nr in addlist[1:]:\n",
    "    T = Tree()\n",
    "    T.l2d(ast.literal_eval(nr))\n",
    "    print(T.d)\n",
    "    out = red(add(out, T.d))\n",
    "    print(out)"
   ]
  },
  {
   "cell_type": "code",
   "execution_count": 15,
   "id": "619bc061-8455-43c4-8724-74325334b8b2",
   "metadata": {},
   "outputs": [
    {
     "name": "stdout",
     "output_type": "stream",
     "text": [
      "{'0000': 0, '00010': 4, '00011': 5, '0010': 0, '0011': 0, '01000': 4, '01001': 5, '01010': 2, '01011': 6, '0110': 9, '0111': 5, '10': 7, '11000': 3, '11001': 7, '11010': 4, '11011': 3, '11100': 6, '11101': 3, '11110': 8, '11111': 8}\n"
     ]
    },
    {
     "name": "stdin",
     "output_type": "stream",
     "text": [
      " \n"
     ]
    },
    {
     "name": "stdout",
     "output_type": "stream",
     "text": [
      "{'0000': 4, '0010': 5, '0011': 0, '01000': 4, '01001': 5, '01010': 2, '01011': 6, '0110': 9, '0111': 5, '10': 7, '11000': 3, '11001': 7, '11010': 4, '11011': 3, '11100': 6, '11101': 3, '11110': 8, '11111': 8, '0001': 0}\n"
     ]
    },
    {
     "name": "stdin",
     "output_type": "stream",
     "text": [
      " \n"
     ]
    },
    {
     "name": "stdout",
     "output_type": "stream",
     "text": [
      "{'0000': 4, '0010': 5, '0011': 4, '01010': 7, '01011': 6, '0110': 9, '0111': 5, '10': 7, '11000': 3, '11001': 7, '11010': 4, '11011': 3, '11100': 6, '11101': 3, '11110': 8, '11111': 8, '0001': 0, '0100': 0}\n"
     ]
    },
    {
     "name": "stdin",
     "output_type": "stream",
     "text": [
      " \n"
     ]
    },
    {
     "name": "stdout",
     "output_type": "stream",
     "text": [
      "{'0000': 4, '0010': 5, '0011': 4, '0110': 15, '0111': 5, '10': 7, '11000': 3, '11001': 7, '11010': 4, '11011': 3, '11100': 6, '11101': 3, '11110': 8, '11111': 8, '0001': 0, '0100': 7, '0101': 0}\n"
     ]
    },
    {
     "ename": "KeyboardInterrupt",
     "evalue": "Interrupted by user",
     "output_type": "error",
     "traceback": [
      "\u001b[1;31m---------------------------------------------------------------------------\u001b[0m",
      "\u001b[1;31mKeyboardInterrupt\u001b[0m                         Traceback (most recent call last)",
      "\u001b[1;32m~\\AppData\\Local\\Temp/ipykernel_2340/2585580261.py\u001b[0m in \u001b[0;36m<module>\u001b[1;34m\u001b[0m\n\u001b[0;32m      2\u001b[0m \u001b[0md2\u001b[0m \u001b[1;33m=\u001b[0m \u001b[1;33m{\u001b[0m\u001b[1;34m'0'\u001b[0m\u001b[1;33m:\u001b[0m \u001b[1;36m7\u001b[0m\u001b[1;33m,\u001b[0m \u001b[1;34m'1000'\u001b[0m\u001b[1;33m:\u001b[0m \u001b[1;36m3\u001b[0m\u001b[1;33m,\u001b[0m \u001b[1;34m'1001'\u001b[0m\u001b[1;33m:\u001b[0m \u001b[1;36m7\u001b[0m\u001b[1;33m,\u001b[0m \u001b[1;34m'1010'\u001b[0m\u001b[1;33m:\u001b[0m \u001b[1;36m4\u001b[0m\u001b[1;33m,\u001b[0m \u001b[1;34m'1011'\u001b[0m\u001b[1;33m:\u001b[0m \u001b[1;36m3\u001b[0m\u001b[1;33m,\u001b[0m \u001b[1;34m'1100'\u001b[0m\u001b[1;33m:\u001b[0m \u001b[1;36m6\u001b[0m\u001b[1;33m,\u001b[0m \u001b[1;34m'1101'\u001b[0m\u001b[1;33m:\u001b[0m \u001b[1;36m3\u001b[0m\u001b[1;33m,\u001b[0m \u001b[1;34m'1110'\u001b[0m\u001b[1;33m:\u001b[0m \u001b[1;36m8\u001b[0m\u001b[1;33m,\u001b[0m \u001b[1;34m'1111'\u001b[0m\u001b[1;33m:\u001b[0m \u001b[1;36m8\u001b[0m\u001b[1;33m}\u001b[0m\u001b[1;33m\u001b[0m\u001b[1;33m\u001b[0m\u001b[0m\n\u001b[0;32m      3\u001b[0m \u001b[0md3\u001b[0m \u001b[1;33m=\u001b[0m \u001b[0madd\u001b[0m\u001b[1;33m(\u001b[0m\u001b[0md1\u001b[0m\u001b[1;33m,\u001b[0m \u001b[0md2\u001b[0m\u001b[1;33m)\u001b[0m\u001b[1;33m\u001b[0m\u001b[1;33m\u001b[0m\u001b[0m\n\u001b[1;32m----> 4\u001b[1;33m \u001b[0mred\u001b[0m\u001b[1;33m(\u001b[0m\u001b[0md3\u001b[0m\u001b[1;33m)\u001b[0m\u001b[1;33m\u001b[0m\u001b[1;33m\u001b[0m\u001b[0m\n\u001b[0m",
      "\u001b[1;32m~\\AppData\\Local\\Temp/ipykernel_2340/612043093.py\u001b[0m in \u001b[0;36mred\u001b[1;34m(d)\u001b[0m\n\u001b[0;32m     77\u001b[0m     \u001b[1;32mwhile\u001b[0m \u001b[0mcex\u001b[0m\u001b[1;33m(\u001b[0m\u001b[0md\u001b[0m\u001b[1;33m)\u001b[0m \u001b[1;32mor\u001b[0m \u001b[0mcsp\u001b[0m\u001b[1;33m(\u001b[0m\u001b[0md\u001b[0m\u001b[1;33m)\u001b[0m\u001b[1;33m:\u001b[0m\u001b[1;33m\u001b[0m\u001b[1;33m\u001b[0m\u001b[0m\n\u001b[0;32m     78\u001b[0m         \u001b[0mprint\u001b[0m\u001b[1;33m(\u001b[0m\u001b[0md\u001b[0m\u001b[1;33m)\u001b[0m\u001b[1;33m\u001b[0m\u001b[1;33m\u001b[0m\u001b[0m\n\u001b[1;32m---> 79\u001b[1;33m         \u001b[0minput\u001b[0m\u001b[1;33m(\u001b[0m\u001b[1;33m)\u001b[0m\u001b[1;33m\u001b[0m\u001b[1;33m\u001b[0m\u001b[0m\n\u001b[0m\u001b[0;32m     80\u001b[0m         \u001b[1;32mfor\u001b[0m \u001b[0mlf\u001b[0m \u001b[1;32min\u001b[0m \u001b[0msorted\u001b[0m\u001b[1;33m(\u001b[0m\u001b[0md\u001b[0m\u001b[1;33m)\u001b[0m\u001b[1;33m:\u001b[0m\u001b[1;33m\u001b[0m\u001b[1;33m\u001b[0m\u001b[0m\n\u001b[0;32m     81\u001b[0m             \u001b[1;32mif\u001b[0m \u001b[0mlen\u001b[0m\u001b[1;33m(\u001b[0m\u001b[0mlf\u001b[0m\u001b[1;33m)\u001b[0m \u001b[1;33m>\u001b[0m \u001b[1;36m4\u001b[0m\u001b[1;33m:\u001b[0m\u001b[1;33m\u001b[0m\u001b[1;33m\u001b[0m\u001b[0m\n",
      "\u001b[1;32m~\\AppData\\Local\\Programs\\Python\\Python310\\lib\\site-packages\\ipykernel\\kernelbase.py\u001b[0m in \u001b[0;36mraw_input\u001b[1;34m(self, prompt)\u001b[0m\n\u001b[0;32m   1005\u001b[0m                 \u001b[1;34m\"raw_input was called, but this frontend does not support input requests.\"\u001b[0m\u001b[1;33m\u001b[0m\u001b[1;33m\u001b[0m\u001b[0m\n\u001b[0;32m   1006\u001b[0m             )\n\u001b[1;32m-> 1007\u001b[1;33m         return self._input_request(\n\u001b[0m\u001b[0;32m   1008\u001b[0m             \u001b[0mstr\u001b[0m\u001b[1;33m(\u001b[0m\u001b[0mprompt\u001b[0m\u001b[1;33m)\u001b[0m\u001b[1;33m,\u001b[0m\u001b[1;33m\u001b[0m\u001b[1;33m\u001b[0m\u001b[0m\n\u001b[0;32m   1009\u001b[0m             \u001b[0mself\u001b[0m\u001b[1;33m.\u001b[0m\u001b[0m_parent_ident\u001b[0m\u001b[1;33m[\u001b[0m\u001b[1;34m\"shell\"\u001b[0m\u001b[1;33m]\u001b[0m\u001b[1;33m,\u001b[0m\u001b[1;33m\u001b[0m\u001b[1;33m\u001b[0m\u001b[0m\n",
      "\u001b[1;32m~\\AppData\\Local\\Programs\\Python\\Python310\\lib\\site-packages\\ipykernel\\kernelbase.py\u001b[0m in \u001b[0;36m_input_request\u001b[1;34m(self, prompt, ident, parent, password)\u001b[0m\n\u001b[0;32m   1050\u001b[0m             \u001b[1;32mexcept\u001b[0m \u001b[0mKeyboardInterrupt\u001b[0m\u001b[1;33m:\u001b[0m\u001b[1;33m\u001b[0m\u001b[1;33m\u001b[0m\u001b[0m\n\u001b[0;32m   1051\u001b[0m                 \u001b[1;31m# re-raise KeyboardInterrupt, to truncate traceback\u001b[0m\u001b[1;33m\u001b[0m\u001b[1;33m\u001b[0m\u001b[0m\n\u001b[1;32m-> 1052\u001b[1;33m                 \u001b[1;32mraise\u001b[0m \u001b[0mKeyboardInterrupt\u001b[0m\u001b[1;33m(\u001b[0m\u001b[1;34m\"Interrupted by user\"\u001b[0m\u001b[1;33m)\u001b[0m \u001b[1;32mfrom\u001b[0m \u001b[1;32mNone\u001b[0m\u001b[1;33m\u001b[0m\u001b[1;33m\u001b[0m\u001b[0m\n\u001b[0m\u001b[0;32m   1053\u001b[0m             \u001b[1;32mexcept\u001b[0m \u001b[0mException\u001b[0m\u001b[1;33m:\u001b[0m\u001b[1;33m\u001b[0m\u001b[1;33m\u001b[0m\u001b[0m\n\u001b[0;32m   1054\u001b[0m                 \u001b[0mself\u001b[0m\u001b[1;33m.\u001b[0m\u001b[0mlog\u001b[0m\u001b[1;33m.\u001b[0m\u001b[0mwarning\u001b[0m\u001b[1;33m(\u001b[0m\u001b[1;34m\"Invalid Message:\"\u001b[0m\u001b[1;33m,\u001b[0m \u001b[0mexc_info\u001b[0m\u001b[1;33m=\u001b[0m\u001b[1;32mTrue\u001b[0m\u001b[1;33m)\u001b[0m\u001b[1;33m\u001b[0m\u001b[1;33m\u001b[0m\u001b[0m\n",
      "\u001b[1;31mKeyboardInterrupt\u001b[0m: Interrupted by user"
     ]
    }
   ],
   "source": [
    "d1 = {'000': 0, '0010': 4, '0011': 5, '010': 0, '011': 0, '1000': 4, '1001': 5, '1010': 2, '1011': 6, '110': 9, '111': 5}\n",
    "d2 = {'0': 7, '1000': 3, '1001': 7, '1010': 4, '1011': 3, '1100': 6, '1101': 3, '1110': 8, '1111': 8}\n",
    "d3 = add(d1, d2)\n",
    "red(d3)"
   ]
  },
  {
   "cell_type": "code",
   "execution_count": null,
   "id": "7a0a7fcb-697b-4b6a-ab53-0cd90b220ff0",
   "metadata": {},
   "outputs": [],
   "source": [
    "red({'0000': 4, '0010': 5, '0011': 4, '0001': 0, '0100': 7, '0101': 7, '0110': 6, '0111': 0, '1111': 7, '11111': 7, '1011': 11, '1010': 0, '1000': 6, '1001': 6, '1110': 6, '111111': 0, '1101': 6, '1100': 0})"
   ]
  },
  {
   "cell_type": "code",
   "execution_count": null,
   "id": "d3a718f7-d514-4bb5-9824-19391589b4b0",
   "metadata": {},
   "outputs": [
    {
     "name": "stdout",
     "output_type": "stream",
     "text": [
      "{'0000': 4, '0010': 5, '0011': 4, '01010': 7, '01011': 6, '0110': 9, '0111': 5, '10': 7, '11000': 3, '11001': 7, '11010': 4, '11011': 3, '11100': 6, '11101': 3, '11110': 8, '11111': 8, '0001': 0, '0100': 0}\n"
     ]
    },
    {
     "name": "stdin",
     "output_type": "stream",
     "text": [
      " \n"
     ]
    },
    {
     "name": "stdout",
     "output_type": "stream",
     "text": [
      "{'0000': 4, '0010': 5, '0011': 4, '0110': 15, '0111': 5, '10': 7, '11000': 3, '11001': 7, '11010': 4, '11011': 3, '11100': 6, '11101': 3, '11110': 8, '11111': 8, '0001': 0, '0100': 7, '0101': 0}\n"
     ]
    }
   ],
   "source": [
    "red({'0000': 4, '0010': 5, '0011': 4, '01010': 7, '01011': 6, '0110': 9, '0111': 5, '10': 7, '11000': 3, '11001': 7, '11010': 4, '11011': 3, '11100': 6, '11101': 3, '11110': 8, '11111': 8, '0001': 0, '0100': 0}\n",
    ")"
   ]
  },
  {
   "cell_type": "code",
   "execution_count": 5,
   "id": "5b0855a4-1049-4c74-9070-d645ced85bfb",
   "metadata": {},
   "outputs": [],
   "source": [
    "class Tree():\n",
    "    \n",
    "    def __init__(self):\n",
    "        self.d={}\n",
    "        self.stack=[]\n",
    "\n",
    "    def l2d(self, s):\n",
    "        #print(\"list:\",s)\n",
    "        #print(\"dict:\", self.d)\n",
    "        #print(\"stack:\",self.stack)\n",
    "        \n",
    "        if isinstance(s[0], int) and isinstance(s[1], int):\n",
    "            self.d[\"\".join(self.stack)+\"0\"] = int(s[0])\n",
    "            self.d[\"\".join(self.stack)+\"1\"] = int(s[1])\n",
    "\n",
    "        elif isinstance(s[1], int):\n",
    "            #print(s)\n",
    "            self.d[\"\".join(self.stack)+\"1\"] = int(s.pop())\n",
    "            self.stack.append(\"0\")\n",
    "            self.l2d(s[0])\n",
    "            self.stack.pop()\n",
    "\n",
    "        elif isinstance(s[0], int):\n",
    "            self.d[\"\".join(self.stack)+\"0\"] = int(s.pop(0))\n",
    "            self.stack.append(\"1\")\n",
    "            self.l2d(s[0]) #after popping there's only 1 element in the list [[x,y]] that has to be accessed always with [0] only\n",
    "            self.stack.pop()\n",
    "\n",
    "        else:\n",
    "            self.stack.append(\"0\")\n",
    "            self.l2d(s[0])\n",
    "            self.stack.pop()\n",
    "\n",
    "            self.stack.append(\"1\")\n",
    "            self.l2d(s[1])\n",
    "            self.stack.pop()"
   ]
  },
  {
   "cell_type": "code",
   "execution_count": null,
   "id": "cb0372c9-4dba-4bb7-b458-f70b4d2d839f",
   "metadata": {},
   "outputs": [],
   "source": [
    "#add lines through dictionaries\n",
    "d={}\n",
    "stack=[]\n",
    "\n",
    "def l2d(s):\n",
    "    global stack\n",
    "    global d\n",
    "    #print(\"list:\",s)\n",
    "    #print(\"dict:\",d)\n",
    "    #print(\"stack:\",stack)\n",
    "        \n",
    "    if isinstance(s[0], int) and isinstance(s[1], int):\n",
    "        d[\"\".join(stack)+\"0\"] = int(s[0])\n",
    "        d[\"\".join(stack)+\"1\"] = int(s[1])\n",
    "\n",
    "    elif isinstance(s[1], int):\n",
    "        #print(s)\n",
    "        d[\"\".join(stack)+\"1\"] = int(s.pop())\n",
    "        stack.append(\"0\")\n",
    "        l2d(s[0])\n",
    "        stack.pop()\n",
    "        \n",
    "    elif isinstance(s[0], int):\n",
    "        d[\"\".join(stack)+\"0\"] = int(s.pop(0))\n",
    "        stack.append(\"1\")\n",
    "        l2d(s[0]) #after popping there's only 1 element in the list [[x,y]] that has to be accessed always with [0] only\n",
    "        stack.pop()\n",
    "        \n",
    "    else:\n",
    "        stack.append(\"0\")\n",
    "        l2d(s[0])\n",
    "        stack.pop()\n",
    "        \n",
    "        stack.append(\"1\")\n",
    "        l2d(s[1])\n",
    "        stack.pop()\n",
    "        \n",
    "    return d\n",
    "\n",
    "def add(d1, d2):\n",
    "    d1out = {}\n",
    "    for i in d1:\n",
    "        d1out[\"0\"+i] = d1[i]\n",
    "        \n",
    "    d2out = {}\n",
    "    for i in d2:\n",
    "        d2out[\"1\"+i] = d2[i]\n",
    "    d1out |= d2out\n",
    "    return d1out\n",
    "\n",
    "s1=\"[1,1]\"\n",
    "s2=\"[2,2]\"\n",
    "d1 = l2d(ast.literal_eval(s1))\n",
    "d2 = l2d(ast.literal_eval(s2))\n",
    "add(d1, d2)"
   ]
  },
  {
   "cell_type": "code",
   "execution_count": 13,
   "id": "6895c443-1bbe-4295-83a8-2803309f6b5c",
   "metadata": {},
   "outputs": [
    {
     "name": "stdout",
     "output_type": "stream",
     "text": [
      "{'00000': 1, '00001': 1, '00010': 2, '00011': 2, '0010': 3, '0011': 3, '010': 4, '011': 4, '10': 5, '11': 5}\n"
     ]
    },
    {
     "name": "stdin",
     "output_type": "stream",
     "text": [
      " \n"
     ]
    },
    {
     "name": "stdout",
     "output_type": "stream",
     "text": [
      "{'00010': 3, '00011': 2, '0010': 3, '0011': 3, '010': 4, '011': 4, '10': 5, '11': 5, '0000': 0}\n"
     ]
    },
    {
     "name": "stdin",
     "output_type": "stream",
     "text": [
      " \n"
     ]
    },
    {
     "data": {
      "text/plain": [
       "True"
      ]
     },
     "execution_count": 13,
     "metadata": {},
     "output_type": "execute_result"
    }
   ],
   "source": [
    "#reduce:\n",
    "#works 17:03\n",
    "import ast\n",
    "import math\n",
    "\n",
    "d={}\n",
    "stack=[]\n",
    "\n",
    "def l2d(s):\n",
    "    global stack\n",
    "    global d\n",
    "    #print(\"list:\",s)\n",
    "    #print(\"dict:\",d)\n",
    "    #print(\"stack:\",stack)\n",
    "        \n",
    "    if isinstance(s[0], int) and isinstance(s[1], int):\n",
    "        d[\"\".join(stack)+\"0\"] = int(s[0])\n",
    "        d[\"\".join(stack)+\"1\"] = int(s[1])\n",
    "\n",
    "    elif isinstance(s[1], int):\n",
    "        #print(s)\n",
    "        d[\"\".join(stack)+\"1\"] = int(s.pop())\n",
    "        stack.append(\"0\")\n",
    "        l2d(s[0])\n",
    "        stack.pop()\n",
    "        \n",
    "    elif isinstance(s[0], int):\n",
    "        d[\"\".join(stack)+\"0\"] = int(s.pop(0))\n",
    "        stack.append(\"1\")\n",
    "        l2d(s[0]) #after popping there's only 1 element in the list [[x,y]] that has to be accessed always with [0] only\n",
    "        stack.pop()\n",
    "        \n",
    "    else:\n",
    "        stack.append(\"0\")\n",
    "        l2d(s[0])\n",
    "        stack.pop()\n",
    "        \n",
    "        stack.append(\"1\")\n",
    "        l2d(s[1])\n",
    "        stack.pop()\n",
    "        \n",
    "    return d\n",
    "\n",
    "def ex(d):\n",
    "    leaves = sorted(d)\n",
    "    for i,lf in enumerate(sorted(d)):\n",
    "        if len(lf) > 4:\n",
    "            print(d[str(leaves[i])])\n",
    "            if lf[-1] == '0':\n",
    "                if i != 0:\n",
    "                    d[str(leaves[i-1])]+=d[str(leaves[i])]\n",
    "                d[str(leaves[i])[:-1]]=0\n",
    "                del d[str(leaves[i])]\n",
    "                \n",
    "                if i+1 != len(leaves)-1: #explode to the right if we're not at the end\n",
    "                    d[str(leaves[i+2])]+=d[str(leaves[i+1])]\n",
    "                d[str(leaves[i+1])[:-1]]=0\n",
    "                del d[str(leaves[i+1])]\n",
    "                break\n",
    "    return d\n",
    "\n",
    "def sp(d):\n",
    "    for i in list(d):\n",
    "        if d[i] > 9:\n",
    "            d[i+\"0\"] = d[i]//2\n",
    "            d[i+\"1\"] = math.ceil(d[i]/2)\n",
    "            del d[i]\n",
    "            break\n",
    "    return d\n",
    "\n",
    "def cex(d):\n",
    "    return any(len(i)>4 for i in d)\n",
    "\n",
    "def csp(d):\n",
    "    return any(d[i]>9 for i in d)\n",
    "\n",
    "def red(d):\n",
    "    while cex(d) or csp(d):\n",
    "        print(d)\n",
    "        input()\n",
    "        for lf in sorted(d):\n",
    "            if len(lf) > 4:\n",
    "                d = ex(d)\n",
    "                break #sends me to the bottom ^-^\n",
    "            if d[lf] > 9:\n",
    "                d = sp(d)\n",
    "            #^-^ from here the while loop restarts\n",
    "    return d\n",
    "\n",
    "#s1 = ast.literal_eval(\"[[[[4,3],4],4],[7,[[8,4],9]]]\")\n",
    "#s2 = ast.literal_eval(\"[1,1]\")\n",
    "#s = [s1]+[s2]\n",
    "#d = l2d(s)\n",
    "#red(d) == l2d(ast.literal_eval(\"[[[[0,7],4],[[7,8],[6,0]]],[8,1]]\"))\n",
    "\n",
    "#s1 = ast.literal_eval(\"[[[[1,1],[2,2]],[3,3]],[4,4]]\")\n",
    "#s2 = ast.literal_eval(\"[5,5]\")\n",
    "#s = [s1]+[s2]\n",
    "#d = l2d(s)\n",
    "#red(d) == l2d(ast.literal_eval(\"[[[[5,0],[7,4]],[5,5]],[6,6]]\"))\n",
    "\n",
    "red(l2d([ast.literal_eval(\"[[[[1,1],[2,2]],[3,3]],[4,4]]\")] + [ast.literal_eval(\"[5,5]\")])) == l2d(ast.literal_eval(\"[[[[5,0],[7,4]],[5,5]],[6,6]]\"))"
   ]
  },
  {
   "cell_type": "code",
   "execution_count": null,
   "id": "e3dce61f-76ad-40c6-95bf-3b8062cd9fef",
   "metadata": {},
   "outputs": [],
   "source": [
    "l2d(ast.literal_eval(\"[[[[0,7],4],[[7,8],[6,0]]],[8,1]]\"))"
   ]
  },
  {
   "cell_type": "code",
   "execution_count": null,
   "id": "6fe55462-8ca6-484d-9ab2-dbf0fda4700b",
   "metadata": {},
   "outputs": [],
   "source": [
    "\"[[[[0,7],4],[7,[[8,4],9]]],[1,1]]\""
   ]
  },
  {
   "cell_type": "code",
   "execution_count": null,
   "id": "ad399c2e-a46f-473e-8bf0-5e48e41e0c8e",
   "metadata": {},
   "outputs": [],
   "source": [
    "#split \n",
    "#works 15:49\n",
    "import math\n",
    "def sp(d):\n",
    "    for i in list(d):\n",
    "        if d[i] > 9:\n",
    "            d[i+\"0\"] = d[i]//2\n",
    "            d[i+\"1\"] = math.ceil(d[i]/2)\n",
    "            del d[i]\n",
    "    return d       \n",
    "\n",
    "T = Tree()\n",
    "d = T.l2d(ast.literal_eval(\"[[10, 11], 12]\"))\n",
    "          \n",
    "sp(d)"
   ]
  },
  {
   "cell_type": "code",
   "execution_count": null,
   "id": "6f59a438-edd1-4c2a-862c-ef743acebe1a",
   "metadata": {},
   "outputs": [],
   "source": [
    "#15:41 explode is working\n",
    "import ast\n",
    "\n",
    "d={}\n",
    "stack=[]\n",
    "\n",
    "def ex(d):\n",
    "    leaves = sorted(d)\n",
    "    for i, lf in enumerate(sorted(d)):\n",
    "        if len(lf) > 4:\n",
    "            if lf[-1] == '0':\n",
    "                if i != 0:\n",
    "                    d[str(leaves[i-1])]+=d[str(leaves[i])]\n",
    "                d[str(leaves[i])[:-1]]=0\n",
    "                del d[str(leaves[i])]\n",
    "            elif lf[-1] == '1':\n",
    "                if i != len(leaves)-1: #explode to the right if we're not at the end\n",
    "                    d[str(leaves[i+1])]+=d[str(leaves[i])]\n",
    "                d[str(leaves[i])[:-1]]=0\n",
    "                del d[str(leaves[i])]\n",
    "    return d\n",
    "\n",
    "T = Tree()\n",
    "#d = T.l2d(ast.literal_eval(\"[[[[[9,8],1],2],3],4]\"))\n",
    "#d = T.l2d(ast.literal_eval(\"[7,[6,[5,[4,[3,2]]]]]\"))\n",
    "#d = T.l2d(ast.literal_eval(\"[[6,[5,[4,[3,2]]]],1]\"))\n",
    "#d = T.l2d(ast.literal_eval(\"[[3,[2,[1,[7,3]]]],[6,[5,[4,[3,2]]]]]\"))\n",
    "d = T.l2d(ast.literal_eval(\"[[3,[2,[8,0]]],[9,[5,[4,[3,2]]]]]\"))\n",
    "ex(d)"
   ]
  },
  {
   "cell_type": "code",
   "execution_count": null,
   "id": "6598673b-54b6-44ac-be2e-a4516bd886d0",
   "metadata": {},
   "outputs": [],
   "source": [
    "#Maybe I was thinking too complicated?\n",
    "#I was trying to convert the line to a tree and then the tree to a line\n",
    "#instead I should: turn the string into a list\n",
    "#do the addition at the list indices\n",
    "#insert the brackets again\n",
    "#string replace [0,0] with 0\n",
    "s=\"[[7,1],2]\"\n",
    "l=list(map(int, s.replace(\"[\",\"\").replace(\"]\",\"\").replace(\",\",\"\")))\n",
    "#but now how do I know that it is nested 4 times?\n",
    "#combine it somehow with the previous approach?\n",
    "#convert somehow the dictionary key into the listindex\n",
    "#add it to the left or to the right\n",
    "#reinsert brackets\n",
    "#continue the fun\n",
    "\n",
    "def ex(d):\n",
    "    for i in sorted(d): #wow this is shorter than I thought. This gives the listindices\n",
    "        "
   ]
  },
  {
   "cell_type": "code",
   "execution_count": null,
   "id": "5b48a793-993d-4150-a8e3-a36198c9557a",
   "metadata": {},
   "outputs": [],
   "source": [
    "#subproblems:\n",
    "\n",
    "#explode 15:41\n",
    "#split 15:49\n",
    "#reduce\n",
    "#detect what applies\n",
    "#apply to list\n",
    "#magnitude\n",
    "\n",
    "import ast\n",
    "\n",
    "stack = [\"\"]\n",
    "d={}\n",
    "\n",
    "def flip(nr):\n",
    "    return \"0\" if nr==\"1\" else \"1\"\n",
    "\n",
    "def ex(d, idx):\n",
    "    si = set(idx)\n",
    "    if si == {\"1\"} or si == {\"0\"}:\n",
    "        return d\n",
    "    #if len(idx) <= 4:\n",
    "     #   return d\n",
    "    nbr = idx[:-2]+flip(idx[-2])\n",
    "    if nbr in d:\n",
    "        d[nbr] += d[idx]\n",
    "    else:\n",
    "        while nbr not in d:\n",
    "            if idx[-1]==\"1\": #if we explode to the right\n",
    "                nbr+=\"0\" #search for left most buddy to add\n",
    "            else:\n",
    "                nbr+=\"1\" #else search for right most buddy\n",
    "        #idx = idx[:-1] #since we've added one too much\n",
    "        d[nbr] += d[idx]\n",
    "    return d\n",
    "\n",
    "def l2d(s):\n",
    "    global stack\n",
    "    #print(\"list:\",s)\n",
    "    #print(\"dict:\",d)\n",
    "    #print(\"stack:\",stack)\n",
    "        \n",
    "    if isinstance(s[0], int) and isinstance(s[1], int):\n",
    "        d[\"\".join(stack)+\"0\"] = int(s[0])\n",
    "        d[\"\".join(stack)+\"1\"] = int(s[1])\n",
    "\n",
    "    elif isinstance(s[1], int):\n",
    "        #print(s)\n",
    "        d[\"\".join(stack)+\"1\"] = int(s.pop())\n",
    "        stack.append(\"0\")\n",
    "        l2d(s[0])\n",
    "        stack.pop()\n",
    "        \n",
    "    elif isinstance(s[0], int):\n",
    "        d[\"\".join(stack)+\"0\"] = int(s.pop(0))\n",
    "        stack.append(\"1\")\n",
    "        l2d(s[0]) #after popping there's only 1 element in the list [[x,y]] that has to be accessed always with [0] only\n",
    "        stack.pop()\n",
    "        \n",
    "    else:\n",
    "        stack.append(\"0\")\n",
    "        l2d(s[0])\n",
    "        stack.pop()\n",
    "        \n",
    "        stack.append(\"1\")\n",
    "        l2d(s[1])\n",
    "        stack.pop()\n",
    "        \n",
    "    return d\n",
    "\n",
    "#d = l2d(ast.literal_eval(\"[1,2]\"))\n",
    "#d = l2d(ast.literal_eval(\"[[7,1],2]\"))\n",
    "#d = l2d(ast.literal_eval(\"[9,[8,7]]\"))\n",
    "#d = l2d(ast.literal_eval(\"[[1,9],[8,5]]\"))\n",
    "#d = l2d(ast.literal_eval(\"[[[[1,2],[3,4]],[[5,6],[7,8]]],9]\"))\n",
    "d = l2d(ast.literal_eval(\"[[[9,[3,8]],[[0,9],6]],[[[3,7],[4,9]],3]]\"))\n",
    "#d = l2d(ast.literal_eval(\"[[[[1,3],[5,3]],[[1,3],[8,7]]],[[[4,9],[6,9]],[[8,2],[7,3]]]]\"))\n",
    "\n",
    "#ex(d, \"0011\")\n",
    "#01 -> 10\n",
    "for i in sorted(d):\n",
    "    print(i)"
   ]
  },
  {
   "cell_type": "code",
   "execution_count": null,
   "id": "489dab92-6dc6-45b1-a44a-4ba558a578fc",
   "metadata": {},
   "outputs": [],
   "source": [
    "type(sorted(d))"
   ]
  },
  {
   "cell_type": "code",
   "execution_count": null,
   "id": "406cac71-c61b-48ea-a65e-145ce1237601",
   "metadata": {},
   "outputs": [],
   "source": [
    "\n",
    "def ex(d, idx):\n",
    "    si = set(idx)\n",
    "    if si == {\"1\"} or si == {\"0\"}:\n",
    "        return d\n",
    "    #if len(idx) <= 4:\n",
    "     #   return d\n",
    "    nbr = idx[:-2]+flip(idx[-2])\n",
    "    if nbr in d:\n",
    "        d[nbr] += d[idx]\n",
    "    else:\n",
    "        print(nbr)\n",
    "        while nbr not in d:\n",
    "            if idx[-1]==\"1\": #if we explode to the right\n",
    "                nbr+=\"0\" #search for left most buddy to add\n",
    "            else:\n",
    "                nbr+=\"1\" #else search for right most buddy\n",
    "        #idx = idx[:-1] #since we've added one too much\n",
    "        d[nbr] += d[idx]\n",
    "    return d\n",
    "\n",
    "d = l2d(ast.literal_eval(\"[[[[1,2],[3,4]],[[5,6],[7,8]]],9]\"))\n",
    "ex(d, \"0011\")"
   ]
  },
  {
   "cell_type": "code",
   "execution_count": null,
   "id": "b5fee041-5309-414c-aa81-c116694d8628",
   "metadata": {},
   "outputs": [],
   "source": [
    "d"
   ]
  },
  {
   "cell_type": "code",
   "execution_count": null,
   "id": "4de2164b-bdb0-4033-aae5-e27d194e51bc",
   "metadata": {},
   "outputs": [],
   "source": [
    "who(\"01\")"
   ]
  },
  {
   "cell_type": "code",
   "execution_count": null,
   "id": "0a48064d-a0b3-4a68-9385-e54c924ca37d",
   "metadata": {},
   "outputs": [],
   "source": [
    "d"
   ]
  },
  {
   "cell_type": "code",
   "execution_count": null,
   "id": "8d97c57c-8a5d-4b51-83ab-d3282788e23f",
   "metadata": {},
   "outputs": [],
   "source": [
    "def exp(l, idx):\n",
    "    l = str(l)\n",
    "    #\n",
    "    return l\n",
    "\n",
    "exp([[[[[9,8],1],2],3],4], idx)"
   ]
  },
  {
   "cell_type": "code",
   "execution_count": null,
   "id": "70046596-d71f-4fe1-88c1-f4aee53ee566",
   "metadata": {},
   "outputs": [],
   "source": [
    "l = [[[[[9,8],1],2],3],4]\n",
    "l2=l\n",
    "for i in \"0001\":\n",
    "    l2=l2[int(i)]\n",
    "    print(l2)\n"
   ]
  },
  {
   "cell_type": "code",
   "execution_count": null,
   "id": "c4f5d2bf-cdde-4368-8a35-15825bfb9def",
   "metadata": {},
   "outputs": [],
   "source": [
    "#operate with dictionaries instead of lists\n",
    "d = {\n",
    "    \n",
    "    \"00000\": 9,\n",
    "    \"00001\": 8,\n",
    "    \"0001\": 1,\n",
    "    \"001\": 2,\n",
    "    \"01\": 3,\n",
    "    \"1\": 4\n",
    "    \n",
    "}\n",
    "d"
   ]
  },
  {
   "cell_type": "code",
   "execution_count": null,
   "id": "d1b17341-88c6-4577-beb3-e4ca6703ecf4",
   "metadata": {},
   "outputs": [],
   "source": [
    "#next tasks:\n",
    "#1. convert list2dict & dict2list 11:28 done\n",
    "#2. check if the addition is correct with all the examples\n",
    "#3. replace with zero"
   ]
  },
  {
   "cell_type": "code",
   "execution_count": null,
   "id": "a3bcbdbd-675e-4ec3-8647-97e2d6ff5279",
   "metadata": {},
   "outputs": [],
   "source": [
    "#problem: input is a string, not a list\n",
    "#convert string to dict\n",
    "#e.g [[[7,1],2],3]:\n",
    "#[[[7,1],2],3] -> {\"1\":3, \"0:[[7,1],2]\"}\n",
    "#[[7,1],2] -> {\"0\": [7,1], \"1\":2}\n",
    "#[7,1] -> {\"0\":7, \"1\":1}\n",
    "#will not work\n",
    "#we need a parser\n",
    "#what to tell the parser?\n",
    "#go 1 by 1\n",
    "#ignore first bracket ([)\n",
    "#if number: idx+=1, exit loop\n",
    "#elif \"[\": idx+=0, move forward\n",
    "\n",
    "import ast\n",
    "\n",
    "stack = [\"\"]\n",
    "d={}\n",
    "\n",
    "def l2d(s):\n",
    "    global stack\n",
    "    #print(\"list:\",s)\n",
    "    #print(\"dict:\",d)\n",
    "    #print(\"stack:\",stack)\n",
    "        \n",
    "    if isinstance(s[0], int) and isinstance(s[1], int):\n",
    "        d[\"\".join(stack)+\"0\"] = int(s[0])\n",
    "        d[\"\".join(stack)+\"1\"] = int(s[1])\n",
    "\n",
    "    elif isinstance(s[1], int):\n",
    "        #print(s)\n",
    "        d[\"\".join(stack)+\"1\"] = int(s.pop())\n",
    "        stack.append(\"0\")\n",
    "        l2d(s[0])\n",
    "        stack.pop()\n",
    "        \n",
    "    elif isinstance(s[0], int):\n",
    "        d[\"\".join(stack)+\"0\"] = int(s.pop(0))\n",
    "        stack.append(\"1\")\n",
    "        l2d(s[0]) #after popping there's only 1 element in the list [[x,y]] that has to be accessed always with [0] only\n",
    "        stack.pop()\n",
    "        \n",
    "    else:\n",
    "        stack.append(\"0\")\n",
    "        l2d(s[0])\n",
    "        stack.pop()\n",
    "        \n",
    "        stack.append(\"1\")\n",
    "        l2d(s[1])\n",
    "        stack.pop()\n",
    "        \n",
    "    return d\n",
    "\n",
    "#l2d(ast.literal_eval(\"[1,2]\"))\n",
    "#l2d(ast.literal_eval(\"[[7,1],2]\"))\n",
    "#l2d(ast.literal_eval(\"[9,[8,7]]\"))\n",
    "#l2d(ast.literal_eval(\"[[1,9],[8,5]]\"))\n",
    "#l2d(ast.literal_eval(\"[[[[1,2],[3,4]],[[5,6],[7,8]]],9]\"))\n",
    "#l2d(ast.literal_eval(\"[[[9,[3,8]],[[0,9],6]],[[[3,7],[4,9]],3]]\"))\n",
    "#l2d(ast.literal_eval(\"[[[[1,3],[5,3]],[[1,3],[8,7]]],[[[4,9],[6,9]],[[8,2],[7,3]]]]\"))"
   ]
  },
  {
   "cell_type": "code",
   "execution_count": null,
   "id": "84507057-e8dc-49a8-a185-5eebecff2f86",
   "metadata": {},
   "outputs": [],
   "source": [
    "import ast\n",
    "for i in ast.literal_eval(\"[9,[8,7]]\"):\n",
    "    print(type(i))"
   ]
  },
  {
   "cell_type": "code",
   "execution_count": null,
   "id": "f781518b-f143-4124-83f2-6487412371e3",
   "metadata": {},
   "outputs": [],
   "source": [
    "bool(re.search(\"[0-9]\", \"lol\"))"
   ]
  },
  {
   "cell_type": "code",
   "execution_count": null,
   "id": "b58336be-86d5-4aff-a50e-528ef1c8378a",
   "metadata": {},
   "outputs": [],
   "source": [
    "def ex(d, idx):\n",
    "    si = set(idx)\n",
    "    if si == {\"1\"} or si == {\"0\"}:\n",
    "        return d\n",
    "    if len(idx) <= 4:\n",
    "        return d\n",
    "    d[who(idx)] += d[idx]\n",
    "    return d\n",
    "\n",
    "def who(idx):    \n",
    "    newidx=\"\"\n",
    "    idx = list(idx)\n",
    "    for i in idx[::-1][:1]:\n",
    "        idx.pop()\n",
    "        if i != idx[-1]:\n",
    "            idx.pop()\n",
    "            return \"\".join(idx)+i\n",
    "        \n",
    "ex(d, \"11111\")"
   ]
  },
  {
   "cell_type": "code",
   "execution_count": null,
   "id": "f136d0b6-9249-4774-8de8-9796a1f2532f",
   "metadata": {},
   "outputs": [],
   "source": [
    "#break down explode into subproblems:\n",
    "#1. explode to the left\n",
    "#2. explode to the right\n",
    "#3. replace with zwero\n",
    "\n",
    "def ex(d, idx):\n",
    "    si = set(idx)\n",
    "    if si == {1} or si == {0}:\n",
    "        return\n",
    "    if len(idx) <= 4:\n",
    "        return\n",
    "    d[who(idx)] += d[idx]\n",
    "    return d\n",
    "\n",
    "def exl(d, idx):\n",
    "    if idx[-1] != \"0\":\n",
    "        return \"this nr explodes to the right\"\n",
    "    if set(idx) == {\"0\"}:\n",
    "        return \"nothing to the left of this number\"\n",
    "    d[who(idx)] += d[idx] \n",
    "    pass\n",
    "\n",
    "def exr(d, idx):\n",
    "    if idx[-1] != \"1\":\n",
    "        return \"this nr explodes to the left\"\n",
    "    if set(idx) == {\"1\"}:\n",
    "        return \"nothing to the right of this number\"\n",
    "        \n",
    "def who(idx):    \n",
    "    newidx=\"\"\n",
    "    idx = list(idx)\n",
    "    for i in idx[::-1][:1]:\n",
    "        idx.pop()\n",
    "        if i != idx[-1]:\n",
    "            idx.pop()\n",
    "            return \"\".join(idx)+i\n",
    "        \n",
    "#who(\"01110\")\n",
    "ex(d)"
   ]
  },
  {
   "cell_type": "code",
   "execution_count": null,
   "id": "ada89ada-5feb-4bf2-948c-fd3aea525576",
   "metadata": {},
   "outputs": [],
   "source": [
    "#subproblems explode to the left:\n",
    "#1. pick which number to explode (=input)\n",
    "#2. pick to whom this number should be added\n",
    "    #a. if there is nothing ot the left: don't add\n",
    "    #b. if there is something: add to the first you find\n",
    "    \n",
    "#2.a How to check if there's something or nothing to the left of \"00000\"\n",
    "#if the number consists only of zeros there's nothing to the left\n",
    "#2.b. let's change sides and explode to the right\n",
    "# let's write a list of what explodes what and try to find a pattern:\n",
    "#00001 adds to 0001\n",
    "#11110 adds to 1110\n",
    "#01110 adds to 0110\n",
    "#the pattern is: start parsing to the left.\n",
    "#the first one that is unequal to self:\n",
    "#change that to self, cut off everything to the right"
   ]
  }
 ],
 "metadata": {
  "kernelspec": {
   "display_name": "Python 3 (ipykernel)",
   "language": "python",
   "name": "python3"
  },
  "language_info": {
   "codemirror_mode": {
    "name": "ipython",
    "version": 3
   },
   "file_extension": ".py",
   "mimetype": "text/x-python",
   "name": "python",
   "nbconvert_exporter": "python",
   "pygments_lexer": "ipython3",
   "version": "3.10.0"
  }
 },
 "nbformat": 4,
 "nbformat_minor": 5
}
