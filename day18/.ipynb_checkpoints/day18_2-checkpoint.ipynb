{
 "cells": [
  {
   "cell_type": "code",
   "execution_count": 14,
   "id": "679a6012-8a99-43c1-bc52-db7a5360e965",
   "metadata": {},
   "outputs": [],
   "source": [
    "#reduce:\n",
    "#works 17:03\n",
    "import ast\n",
    "import math\n",
    "\n",
    "class Tree():\n",
    "    \n",
    "    def __init__(self):\n",
    "        self.d={}\n",
    "        self.stack=[]\n",
    "\n",
    "    def l2d(self, s):\n",
    "        #print(\"list:\",s)\n",
    "        #print(\"dict:\", self.d)\n",
    "        #print(\"stack:\",self.stack)\n",
    "        \n",
    "        if isinstance(s[0], int) and isinstance(s[1], int):\n",
    "            self.d[\"\".join(self.stack)+\"0\"] = int(s[0])\n",
    "            self.d[\"\".join(self.stack)+\"1\"] = int(s[1])\n",
    "\n",
    "        elif isinstance(s[1], int):\n",
    "            #print(s)\n",
    "            self.d[\"\".join(self.stack)+\"1\"] = int(s.pop())\n",
    "            self.stack.append(\"0\")\n",
    "            self.l2d(s[0])\n",
    "            self.stack.pop()\n",
    "\n",
    "        elif isinstance(s[0], int):\n",
    "            self.d[\"\".join(self.stack)+\"0\"] = int(s.pop(0))\n",
    "            self.stack.append(\"1\")\n",
    "            self.l2d(s[0]) #after popping there's only 1 element in the list [[x,y]] that has to be accessed always with [0] only\n",
    "            self.stack.pop()\n",
    "\n",
    "        else:\n",
    "            self.stack.append(\"0\")\n",
    "            self.l2d(s[0])\n",
    "            self.stack.pop()\n",
    "\n",
    "            self.stack.append(\"1\")\n",
    "            self.l2d(s[1])\n",
    "            self.stack.pop()\n",
    "\n",
    "def ex(d):\n",
    "    leaves = sorted(d)\n",
    "    for i,lf in enumerate(sorted(d)):\n",
    "        if len(lf) > 4:\n",
    "            \n",
    "            if lf[-1] == '0':\n",
    "                \n",
    "                if i != 0:\n",
    "                    d[str(leaves[i-1])]+=d[str(leaves[i])]\n",
    "                d[str(leaves[i])[:-1]]=0\n",
    "                del d[str(leaves[i])]\n",
    "                \n",
    "                if i+1 != len(leaves)-1: #explode to the right if we're not at the end\n",
    "                    d[str(leaves[i+2])]+=d[str(leaves[i+1])]\n",
    "                d[str(leaves[i+1])[:-1]]=0\n",
    "                del d[str(leaves[i+1])]\n",
    "                break\n",
    "    return d\n",
    "\n",
    "def sp(d):\n",
    "    for i in list(d):\n",
    "        if d[i] > 9:\n",
    "            d[i+\"0\"] = d[i]//2\n",
    "            d[i+\"1\"] = math.ceil(d[i]/2)\n",
    "            del d[i]\n",
    "            break\n",
    "            \n",
    "    return d\n",
    "\n",
    "def cex(d):\n",
    "    return any(len(i)>4 for i in d)\n",
    "\n",
    "def csp(d):\n",
    "    return any(d[i]>9 for i in d)\n",
    "\n",
    "def red(d):\n",
    "    while cex(d) or csp(d):\n",
    "        input()\n",
    "        print(d)\n",
    "        for lf in sorted(d):\n",
    "            if len(lf) > 4:\n",
    "                d = ex(d)\n",
    "                break #sends me to the bottom ^-^\n",
    "            if d[lf] > 9:\n",
    "                d = sp(d)\n",
    "                break #took me like 2hrs to figure out I forgot this\n",
    "                #if no break loop continues\n",
    "            #^-^ from here the while loop restarts\n",
    "        \n",
    "    return d\n",
    "\n",
    "def add(d1, d2):\n",
    "    d1out = {}\n",
    "    for i in d1:\n",
    "        d1out[\"0\"+i] = d1[i]\n",
    "        \n",
    "    d2out = {}\n",
    "    for i in d2:\n",
    "        d2out[\"1\"+i] = d2[i]\n",
    "        \n",
    "    d1out |= d2out\n",
    "    return d1out"
   ]
  },
  {
   "cell_type": "code",
   "execution_count": 15,
   "id": "d96bc4bf-c2ac-4ffd-9469-fc2a3111c438",
   "metadata": {},
   "outputs": [
    {
     "name": "stdin",
     "output_type": "stream",
     "text": [
      " \n"
     ]
    },
    {
     "name": "stdout",
     "output_type": "stream",
     "text": [
      "{'001': 4, '0001': 4, '00000': 4, '00001': 3, '010': 7, '0111': 9, '01100': 8, '01101': 4, '10': 1, '11': 1}\n"
     ]
    },
    {
     "name": "stdin",
     "output_type": "stream",
     "text": [
      " \n"
     ]
    },
    {
     "name": "stdout",
     "output_type": "stream",
     "text": [
      "{'001': 4, '0001': 7, '010': 7, '0111': 9, '01100': 8, '01101': 4, '10': 1, '11': 1, '0000': 0}\n"
     ]
    },
    {
     "name": "stdin",
     "output_type": "stream",
     "text": [
      " \n"
     ]
    },
    {
     "name": "stdout",
     "output_type": "stream",
     "text": [
      "{'001': 4, '0001': 7, '010': 15, '0111': 13, '10': 1, '11': 1, '0000': 0, '0110': 0}\n"
     ]
    },
    {
     "name": "stdin",
     "output_type": "stream",
     "text": [
      " \n"
     ]
    },
    {
     "name": "stdout",
     "output_type": "stream",
     "text": [
      "{'001': 4, '0001': 7, '0111': 13, '10': 1, '11': 1, '0000': 0, '0110': 0, '0100': 7, '0101': 8}\n"
     ]
    },
    {
     "name": "stdin",
     "output_type": "stream",
     "text": [
      " \n"
     ]
    },
    {
     "name": "stdout",
     "output_type": "stream",
     "text": [
      "{'001': 4, '0001': 7, '10': 1, '11': 1, '0000': 0, '0110': 0, '0100': 7, '0101': 8, '01110': 6, '01111': 7}\n"
     ]
    },
    {
     "data": {
      "text/plain": [
       "True"
      ]
     },
     "execution_count": 15,
     "metadata": {},
     "output_type": "execute_result"
    }
   ],
   "source": [
    "#this works\n",
    "T1 = Tree()\n",
    "T1.l2d(ast.literal_eval(\"[[[[4,3],4],4],[7,[[8,4],9]]]\"))\n",
    "T2 = Tree()\n",
    "T2.l2d(ast.literal_eval(\"[1,1]\"))\n",
    "\n",
    "T3 = Tree()\n",
    "T3.l2d(ast.literal_eval(\"[[[[0,7],4],[[7,8],[6,0]]],[8,1]]\"))\n",
    "\n",
    "red(add(T1.d, T2.d)) == T3.d"
   ]
  },
  {
   "cell_type": "code",
   "execution_count": 16,
   "id": "30aea102-2f69-4a30-916f-4d3bfe3f2da8",
   "metadata": {},
   "outputs": [
    {
     "name": "stdin",
     "output_type": "stream",
     "text": [
      " \n"
     ]
    },
    {
     "name": "stdout",
     "output_type": "stream",
     "text": [
      "{'00000': 3, '00001': 0, '00010': 5, '00011': 3, '0010': 4, '0011': 4, '010': 5, '011': 5, '10': 6, '11': 6}\n"
     ]
    },
    {
     "name": "stdin",
     "output_type": "stream",
     "text": [
      " \n"
     ]
    },
    {
     "name": "stdout",
     "output_type": "stream",
     "text": [
      "{'00010': 5, '00011': 3, '0010': 4, '0011': 4, '010': 5, '011': 5, '10': 6, '11': 6, '0000': 0}\n"
     ]
    },
    {
     "data": {
      "text/plain": [
       "True"
      ]
     },
     "execution_count": 16,
     "metadata": {},
     "output_type": "execute_result"
    }
   ],
   "source": [
    "#this works\n",
    "T1 = Tree()\n",
    "T1.l2d(ast.literal_eval(\"[[[[3,0],[5,3]],[4,4]],[5,5]]\"))\n",
    "T2 = Tree()\n",
    "T2.l2d(ast.literal_eval(\"[6,6]\"))\n",
    "\n",
    "T3 = Tree()\n",
    "T3.l2d(ast.literal_eval(\"[[[[5,0],[7,4]],[5,5]],[6,6]]\"))\n",
    "\n",
    "red(add(T1.d, T2.d)) == T3.d"
   ]
  },
  {
   "cell_type": "code",
   "execution_count": 17,
   "id": "350df2fe-49f1-4bc9-acf7-edafce89dc17",
   "metadata": {},
   "outputs": [
    {
     "name": "stdin",
     "output_type": "stream",
     "text": [
      " \n"
     ]
    },
    {
     "name": "stdout",
     "output_type": "stream",
     "text": [
      "{'00000': 1, '00001': 1, '00010': 2, '00011': 2, '0010': 3, '0011': 3, '010': 4, '011': 4, '10': 5, '11': 5}\n"
     ]
    },
    {
     "name": "stdin",
     "output_type": "stream",
     "text": [
      " \n"
     ]
    },
    {
     "name": "stdout",
     "output_type": "stream",
     "text": [
      "{'00010': 3, '00011': 2, '0010': 3, '0011': 3, '010': 4, '011': 4, '10': 5, '11': 5, '0000': 0}\n"
     ]
    },
    {
     "data": {
      "text/plain": [
       "True"
      ]
     },
     "execution_count": 17,
     "metadata": {},
     "output_type": "execute_result"
    }
   ],
   "source": [
    "#this works too\n",
    "T1 = Tree()\n",
    "T1.l2d(ast.literal_eval(\"[[[[1,1],[2,2]],[3,3]],[4,4]]\"))\n",
    "T2 = Tree()\n",
    "T2.l2d(ast.literal_eval(\"[5,5]\"))\n",
    "\n",
    "T3 = Tree()\n",
    "T3.l2d(ast.literal_eval(\"[[[[3,0],[5,3]],[4,4]],[5,5]]\"))\n",
    "\n",
    "red(add(T1.d, T2.d)) == T3.d"
   ]
  },
  {
   "cell_type": "code",
   "execution_count": null,
   "id": "068e1b2f-8da0-4627-8fa1-28582017074b",
   "metadata": {},
   "outputs": [],
   "source": [
    "#this ends in an infinite loop\n",
    "T1 = Tree()\n",
    "T1.l2d(ast.literal_eval(\"[[[0,[4,5]],[0,0]],[[[4,5],[2,6]],[9,5]]]\"))\n",
    "T2 = Tree()\n",
    "T2.l2d(ast.literal_eval(\"[7,[[[3,7],[4,3]],[[6,3],[8,8]]]]\"))\n",
    "\n",
    "T3 = Tree()\n",
    "T3.l2d(ast.literal_eval(\"[[[[4,0],[5,4]],[[7,7],[6,0]]],[[8,[7,7]],[[7,9],[5,0]]]]\"))\n",
    "\n",
    "red(add(T1.d, T2.d)) == T3.d"
   ]
  },
  {
   "cell_type": "code",
   "execution_count": null,
   "id": "7cca9fd7-2f6c-4f1c-a971-57bbad468728",
   "metadata": {},
   "outputs": [],
   "source": [
    "#the loop of death\n",
    "red({'0000': 4, '0010': 5, '0011': 4, '0001': 0, '0100': 7, '0101': 7, '0110': 6, '0111': 0, '1010': 5, '1000': 6, '1001': 6, '1011': 6, '1111': 7, '11111': 7, '1110': 6, '1101': 6, '1100': 0, '111111': 0})"
   ]
  },
  {
   "cell_type": "code",
   "execution_count": null,
   "id": "917594eb-9011-47f8-acbd-8e6692ef29cf",
   "metadata": {},
   "outputs": [],
   "source": [
    "#the same loop but with more visible input\n",
    "d1 = {'000': 0, '0010': 4, '0011': 5, '010': 0, '011': 0, '1000': 4, '1001': 5, '1010': 2, '1011': 6, '110': 9, '111': 5}\n",
    "d2 = {'0': 7, '1000': 3, '1001': 7, '1010': 4, '1011': 3, '1100': 6, '1101': 3, '1110': 8, '1111': 8}\n",
    "d3 = add(d1, d2)\n",
    "red(d3)"
   ]
  }
 ],
 "metadata": {
  "kernelspec": {
   "display_name": "Python 3 (ipykernel)",
   "language": "python",
   "name": "python3"
  },
  "language_info": {
   "codemirror_mode": {
    "name": "ipython",
    "version": 3
   },
   "file_extension": ".py",
   "mimetype": "text/x-python",
   "name": "python",
   "nbconvert_exporter": "python",
   "pygments_lexer": "ipython3",
   "version": "3.10.0"
  }
 },
 "nbformat": 4,
 "nbformat_minor": 5
}
