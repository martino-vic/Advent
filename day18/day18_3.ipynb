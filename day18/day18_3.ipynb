{
 "cells": [
  {
   "cell_type": "code",
   "execution_count": 7,
   "id": "e2d948b7-13b4-4663-891e-fde446f96ce1",
   "metadata": {},
   "outputs": [],
   "source": [
    "#reduce:\n",
    "#works 17:03\n",
    "import ast\n",
    "import math\n",
    "\n",
    "class Tree():\n",
    "    \n",
    "    def __init__(self):\n",
    "        self.d={}\n",
    "        self.stack=[]\n",
    "\n",
    "    def l2d(self, s):\n",
    "        #print(\"list:\",s)\n",
    "        #print(\"dict:\", self.d)\n",
    "        #print(\"stack:\",self.stack)\n",
    "        \n",
    "        if isinstance(s[0], int) and isinstance(s[1], int):\n",
    "            self.d[\"\".join(self.stack)+\"0\"] = int(s[0])\n",
    "            self.d[\"\".join(self.stack)+\"1\"] = int(s[1])\n",
    "\n",
    "        elif isinstance(s[1], int):\n",
    "            #print(s)\n",
    "            self.d[\"\".join(self.stack)+\"1\"] = int(s.pop())\n",
    "            self.stack.append(\"0\")\n",
    "            self.l2d(s[0])\n",
    "            self.stack.pop()\n",
    "\n",
    "        elif isinstance(s[0], int):\n",
    "            self.d[\"\".join(self.stack)+\"0\"] = int(s.pop(0))\n",
    "            self.stack.append(\"1\")\n",
    "            self.l2d(s[0]) #after popping there's only 1 element in the list [[x,y]] that has to be accessed always with [0] only\n",
    "            self.stack.pop()\n",
    "\n",
    "        else:\n",
    "            self.stack.append(\"0\")\n",
    "            self.l2d(s[0])\n",
    "            self.stack.pop()\n",
    "\n",
    "            self.stack.append(\"1\")\n",
    "            self.l2d(s[1])\n",
    "            self.stack.pop()\n",
    "\n",
    "def ex(d):\n",
    "    leaves = sorted(d)\n",
    "    for i,lf in enumerate(sorted(d)):\n",
    "        if len(lf) > 4:\n",
    "            try:\n",
    "                if lf[-1] == '0':\n",
    "\n",
    "                    if i != 0:\n",
    "                        d[str(leaves[i-1])]+=d[str(leaves[i])]\n",
    "                    d[str(leaves[i])[:-1]]=0\n",
    "                    del d[str(leaves[i])]\n",
    "\n",
    "                    if i+1 != len(leaves)-1: #explode to the right if we're not at the end\n",
    "                        d[str(leaves[i+2])]+=d[str(leaves[i+1])]\n",
    "                    d[str(leaves[i+1])[:-1]]=0\n",
    "                    del d[str(leaves[i+1])]\n",
    "            except KeyError:\n",
    "                pass\n",
    "    return d\n",
    "\n",
    "def sp(d):\n",
    "    for i in list(d):\n",
    "        if d[i] > 9:\n",
    "            d[i+\"0\"] = d[i]//2\n",
    "            d[i+\"1\"] = math.ceil(d[i]/2)\n",
    "            del d[i]\n",
    "            break\n",
    "            \n",
    "    return d\n",
    "\n",
    "def cex(d):\n",
    "    return any(len(i)>4 for i in d)\n",
    "\n",
    "def csp(d):\n",
    "    return any(d[i]>9 for i in d)\n",
    "\n",
    "def red(d):\n",
    "    while cex(d) or csp(d):\n",
    "        d = ex(d)\n",
    "        print(d)\n",
    "        input()\n",
    "        d = sp(d)       \n",
    "    return d\n",
    "\n",
    "def add(d1, d2):\n",
    "    d1out = {}\n",
    "    for i in d1:\n",
    "        d1out[\"0\"+i] = d1[i]\n",
    "        \n",
    "    d2out = {}\n",
    "    for i in d2:\n",
    "        d2out[\"1\"+i] = d2[i]\n",
    "        \n",
    "    d1out |= d2out\n",
    "    return d1out"
   ]
  },
  {
   "cell_type": "code",
   "execution_count": 8,
   "id": "2cbdd0f2-e982-4154-9253-16f56ae17fac",
   "metadata": {},
   "outputs": [
    {
     "name": "stdout",
     "output_type": "stream",
     "text": [
      "{'001': 4, '0001': 7, '010': 15, '0111': 13, '10': 1, '11': 1, '0000': 0, '0110': 0}\n"
     ]
    },
    {
     "name": "stdin",
     "output_type": "stream",
     "text": [
      " \n"
     ]
    },
    {
     "name": "stdout",
     "output_type": "stream",
     "text": [
      "{'001': 4, '0001': 7, '0111': 13, '10': 1, '11': 1, '0000': 0, '0110': 0, '0100': 7, '0101': 8}\n"
     ]
    },
    {
     "name": "stdin",
     "output_type": "stream",
     "text": [
      " \n"
     ]
    },
    {
     "name": "stdout",
     "output_type": "stream",
     "text": [
      "{'001': 4, '0001': 7, '10': 8, '11': 1, '0000': 0, '0110': 6, '0100': 7, '0101': 8, '0111': 0}\n"
     ]
    },
    {
     "name": "stdin",
     "output_type": "stream",
     "text": [
      " \n"
     ]
    },
    {
     "data": {
      "text/plain": [
       "True"
      ]
     },
     "execution_count": 8,
     "metadata": {},
     "output_type": "execute_result"
    }
   ],
   "source": [
    "#this works\n",
    "T1 = Tree()\n",
    "T1.l2d(ast.literal_eval(\"[[[[4,3],4],4],[7,[[8,4],9]]]\"))\n",
    "T2 = Tree()\n",
    "T2.l2d(ast.literal_eval(\"[1,1]\"))\n",
    "\n",
    "T3 = Tree()\n",
    "T3.l2d(ast.literal_eval(\"[[[[0,7],4],[[7,8],[6,0]]],[8,1]]\"))\n",
    "\n",
    "red(add(T1.d, T2.d)) == T3.d"
   ]
  },
  {
   "cell_type": "code",
   "execution_count": 9,
   "id": "1290d091-8bf0-4bbd-b6d4-c2542ada5273",
   "metadata": {},
   "outputs": [
    {
     "name": "stdout",
     "output_type": "stream",
     "text": [
      "{'00010': 5, '00011': 3, '0010': 4, '0011': 4, '010': 5, '011': 5, '10': 6, '11': 6, '0000': 0}\n"
     ]
    },
    {
     "name": "stdin",
     "output_type": "stream",
     "text": [
      " \n"
     ]
    },
    {
     "name": "stdout",
     "output_type": "stream",
     "text": [
      "{'0010': 7, '0011': 4, '010': 5, '011': 5, '10': 6, '11': 6, '0000': 5, '0001': 0}\n"
     ]
    },
    {
     "name": "stdin",
     "output_type": "stream",
     "text": [
      " \n"
     ]
    },
    {
     "data": {
      "text/plain": [
       "True"
      ]
     },
     "execution_count": 9,
     "metadata": {},
     "output_type": "execute_result"
    }
   ],
   "source": [
    "#this works\n",
    "T1 = Tree()\n",
    "T1.l2d(ast.literal_eval(\"[[[[3,0],[5,3]],[4,4]],[5,5]]\"))\n",
    "T2 = Tree()\n",
    "T2.l2d(ast.literal_eval(\"[6,6]\"))\n",
    "\n",
    "T3 = Tree()\n",
    "T3.l2d(ast.literal_eval(\"[[[[5,0],[7,4]],[5,5]],[6,6]]\"))\n",
    "\n",
    "red(add(T1.d, T2.d)) == T3.d"
   ]
  },
  {
   "cell_type": "code",
   "execution_count": 10,
   "id": "b14b7fa4-8891-4145-bcf6-a911c3ef53df",
   "metadata": {},
   "outputs": [
    {
     "name": "stdout",
     "output_type": "stream",
     "text": [
      "{'00010': 3, '00011': 2, '0010': 3, '0011': 3, '010': 4, '011': 4, '10': 5, '11': 5, '0000': 0}\n"
     ]
    },
    {
     "name": "stdin",
     "output_type": "stream",
     "text": [
      " \n"
     ]
    },
    {
     "name": "stdout",
     "output_type": "stream",
     "text": [
      "{'0010': 5, '0011': 3, '010': 4, '011': 4, '10': 5, '11': 5, '0000': 3, '0001': 0}\n"
     ]
    },
    {
     "name": "stdin",
     "output_type": "stream",
     "text": [
      " \n"
     ]
    },
    {
     "data": {
      "text/plain": [
       "True"
      ]
     },
     "execution_count": 10,
     "metadata": {},
     "output_type": "execute_result"
    }
   ],
   "source": [
    "#this works too\n",
    "T1 = Tree()\n",
    "T1.l2d(ast.literal_eval(\"[[[[1,1],[2,2]],[3,3]],[4,4]]\"))\n",
    "T2 = Tree()\n",
    "T2.l2d(ast.literal_eval(\"[5,5]\"))\n",
    "\n",
    "T3 = Tree()\n",
    "T3.l2d(ast.literal_eval(\"[[[[3,0],[5,3]],[4,4]],[5,5]]\"))\n",
    "\n",
    "red(add(T1.d, T2.d)) == T3.d"
   ]
  },
  {
   "cell_type": "code",
   "execution_count": 11,
   "id": "217367fd-1e0b-4214-9028-0fced5a5bdf6",
   "metadata": {},
   "outputs": [
    {
     "name": "stdout",
     "output_type": "stream",
     "text": [
      "{'0000': 4, '0010': 5, '0011': 4, '01010': 7, '01011': 6, '0110': 9, '0111': 5, '10': 10, '11010': 11, '11011': 9, '11110': 11, '11111': 8, '0001': 0, '0100': 0, '1100': 0, '1110': 0}\n"
     ]
    },
    {
     "name": "stdin",
     "output_type": "stream",
     "text": [
      " \n"
     ]
    },
    {
     "name": "stdout",
     "output_type": "stream",
     "text": [
      "{'0000': 4, '0010': 5, '0011': 4, '0110': 15, '0111': 5, '0001': 0, '0100': 7, '1100': 11, '1110': 20, '100': 5, '101': 5, '0101': 0, '1101': 0, '1111': 0}\n"
     ]
    },
    {
     "name": "stdin",
     "output_type": "stream",
     "text": [
      " \n"
     ]
    },
    {
     "name": "stdout",
     "output_type": "stream",
     "text": [
      "{'0000': 4, '0010': 5, '0011': 4, '0111': 13, '0001': 0, '0100': 7, '1100': 11, '1110': 20, '100': 5, '101': 5, '0101': 7, '1101': 0, '1111': 0, '0110': 0}\n"
     ]
    },
    {
     "name": "stdin",
     "output_type": "stream",
     "text": [
      " \n"
     ]
    },
    {
     "name": "stdout",
     "output_type": "stream",
     "text": [
      "{'0000': 4, '0010': 5, '0011': 4, '0001': 0, '0100': 7, '1100': 11, '1110': 20, '100': 12, '101': 5, '0101': 7, '1101': 0, '1111': 0, '0110': 6, '0111': 0}\n"
     ]
    },
    {
     "name": "stdin",
     "output_type": "stream",
     "text": [
      " \n"
     ]
    },
    {
     "name": "stdout",
     "output_type": "stream",
     "text": [
      "{'0000': 4, '0010': 5, '0011': 4, '0001': 0, '0100': 7, '1110': 20, '100': 12, '101': 10, '0101': 7, '1101': 6, '1111': 0, '0110': 6, '0111': 0, '1100': 0}\n"
     ]
    },
    {
     "name": "stdin",
     "output_type": "stream",
     "text": [
      " \n"
     ]
    },
    {
     "name": "stdout",
     "output_type": "stream",
     "text": [
      "{'0000': 4, '0010': 5, '0011': 4, '0001': 0, '0100': 7, '100': 12, '101': 10, '0101': 7, '1101': 16, '1111': 10, '0110': 6, '0111': 0, '1100': 0, '1110': 0}\n"
     ]
    },
    {
     "name": "stdin",
     "output_type": "stream",
     "text": [
      " \n"
     ]
    },
    {
     "name": "stdout",
     "output_type": "stream",
     "text": [
      "{'0000': 4, '0010': 5, '0011': 4, '0001': 0, '0100': 7, '101': 10, '0101': 7, '1101': 16, '1111': 10, '0110': 6, '0111': 0, '1100': 0, '1110': 0, '1000': 6, '1001': 6}\n"
     ]
    },
    {
     "name": "stdin",
     "output_type": "stream",
     "text": [
      " \n"
     ]
    },
    {
     "name": "stdout",
     "output_type": "stream",
     "text": [
      "{'0000': 4, '0010': 5, '0011': 4, '0001': 0, '0100': 7, '0101': 7, '1101': 16, '1111': 10, '0110': 6, '0111': 0, '1100': 0, '1110': 0, '1000': 6, '1001': 6, '1010': 5, '1011': 5}\n"
     ]
    },
    {
     "name": "stdin",
     "output_type": "stream",
     "text": [
      " \n"
     ]
    },
    {
     "name": "stdout",
     "output_type": "stream",
     "text": [
      "{'0000': 4, '0010': 5, '0011': 4, '0001': 0, '0100': 7, '0101': 7, '1111': 10, '0110': 6, '0111': 0, '1100': 8, '1110': 8, '1000': 6, '1001': 6, '1010': 5, '1011': 5, '1101': 0}\n"
     ]
    },
    {
     "name": "stdin",
     "output_type": "stream",
     "text": [
      " \n"
     ]
    },
    {
     "name": "stdout",
     "output_type": "stream",
     "text": [
      "{'0000': 4, '0010': 5, '0011': 4, '0001': 0, '0100': 7, '0101': 7, '0110': 6, '0111': 0, '1100': 8, '1110': 13, '1000': 6, '1001': 6, '1010': 5, '1011': 5, '1101': 0, '1111': 0}\n"
     ]
    },
    {
     "name": "stdin",
     "output_type": "stream",
     "text": [
      " \n"
     ]
    },
    {
     "name": "stdout",
     "output_type": "stream",
     "text": [
      "{'0000': 4, '0010': 5, '0011': 4, '0001': 0, '0100': 7, '0101': 7, '0110': 6, '0111': 0, '1100': 8, '1000': 6, '1001': 6, '1010': 5, '1011': 5, '1101': 6, '1111': 7, '1110': 0}\n"
     ]
    },
    {
     "name": "stdin",
     "output_type": "stream",
     "text": [
      " \n"
     ]
    },
    {
     "data": {
      "text/plain": [
       "False"
      ]
     },
     "execution_count": 11,
     "metadata": {},
     "output_type": "execute_result"
    }
   ],
   "source": [
    "#this gives the incorrect output\n",
    "T1 = Tree()\n",
    "T1.l2d(ast.literal_eval(\"[[[0,[4,5]],[0,0]],[[[4,5],[2,6]],[9,5]]]\"))\n",
    "T2 = Tree()\n",
    "T2.l2d(ast.literal_eval(\"[7,[[[3,7],[4,3]],[[6,3],[8,8]]]]\"))\n",
    "\n",
    "T3 = Tree()\n",
    "T3.l2d(ast.literal_eval(\"[[[[4,0],[5,4]],[[7,7],[6,0]]],[[8,[7,7]],[[7,9],[5,0]]]]\"))\n",
    "\n",
    "red(add(T1.d, T2.d)) == T3.d"
   ]
  },
  {
   "cell_type": "code",
   "execution_count": null,
   "id": "bff8dde3-91d7-4671-9297-61916b2e7b8e",
   "metadata": {},
   "outputs": [],
   "source": []
  }
 ],
 "metadata": {
  "kernelspec": {
   "display_name": "Python 3 (ipykernel)",
   "language": "python",
   "name": "python3"
  },
  "language_info": {
   "codemirror_mode": {
    "name": "ipython",
    "version": 3
   },
   "file_extension": ".py",
   "mimetype": "text/x-python",
   "name": "python",
   "nbconvert_exporter": "python",
   "pygments_lexer": "ipython3",
   "version": "3.10.0"
  }
 },
 "nbformat": 4,
 "nbformat_minor": 5
}
