{
 "cells": [
  {
   "cell_type": "code",
   "execution_count": 46,
   "id": "62625517-64ce-4350-8990-80f2c812ff4a",
   "metadata": {},
   "outputs": [],
   "source": [
    "#question: How many lit pixels after two iterations\n",
    "from itertools import chain\n",
    "\n",
    "class Enhancer():\n",
    "    \n",
    "    def __init__(self, img, c):\n",
    "        self.conv = open(c).read().replace(\"\\n\", \"\")\n",
    "        self.img = img\n",
    "        self.img = self.enlarge()\n",
    "        self.pixnr = 0\n",
    "        self.rownr = 0\n",
    "\n",
    "    def enh(self, pix):\n",
    "        mtx = [[\".\", \".\", \".\"],[\".\", \".\", \".\"],[\".\", \".\", \".\"]]\n",
    " \n",
    "        #print(self.rownr, self.pixnr) \n",
    "    \n",
    "        mtx[0][0] = self.img[self.rownr-1][self.pixnr-1] if self.pixnr != 0 and self.rownr != 0 else \".\"\n",
    "        mtx[0][1] = self.img[self.rownr-1][self.pixnr] if self.rownr != 0 else \".\"\n",
    "        mtx[0][2] = self.img[self.rownr-1][self.pixnr+1] if self.pixnr != len(self.img[0])-1 and self.rownr != 0 else \".\"\n",
    "        mtx[1][0] = self.img[self.rownr][self.pixnr-1] if self.pixnr != 0 else \".\"\n",
    "        mtx[1][1] = self.img[self.rownr][self.pixnr]\n",
    "        mtx[1][2] = self.img[self.rownr][self.pixnr+1] if self.pixnr != len(self.img[0])-1 else \".\" \n",
    "        mtx[2][0] = self.img[self.rownr+1][self.pixnr-1] if self.pixnr != 0 and self.rownr != len(self.img)-1 else \".\" \n",
    "        mtx[2][1] = self.img[self.rownr+1][self.pixnr] if self.rownr != len(self.img)-1 else \".\" \n",
    "        mtx[2][2] = self.img[self.rownr+1][self.pixnr+1] if self.pixnr != len(self.img[0])-1 and self.rownr != len(self.img)-1 else \".\"\n",
    "        \n",
    "        self.pixnr+=1\n",
    "        if self.pixnr == len(self.img[0]):\n",
    "            self.pixnr = 0\n",
    "            self.rownr += 1\n",
    "            \n",
    "        #print(list(chain(*mtx)))\n",
    "        #print(int(\"\".join([\"0\" if char == \".\" else \"1\" for char in list(chain(*mtx))]), 2))\n",
    "   \n",
    "        return self.conv[int(\"\".join([\"0\" if char == \".\" else \"1\" for char in list(chain(*mtx))]), 2)]\n",
    "\n",
    "    def enhance(self):\n",
    "        out = []\n",
    "        for row in self.img:\n",
    "            outr = []\n",
    "            for pix in row:\n",
    "                outr.append(self.enh(pix))\n",
    "                \n",
    "            out.append(outr)\n",
    "        return out\n",
    "    \n",
    "    def enlarge(self):\n",
    "        return list(map(lambda row: \".\"*len(row)+row+\".\"*len(row), self.img))\n",
    "    \n",
    "def main(imgname, rounds=2):\n",
    "    img = open(imgname).read().split(\"\\n\")\n",
    "    for i in range(rounds):\n",
    "        E = Enhancer(img, \"c2\")\n",
    "        img = E.enhance()"
   ]
  },
  {
   "cell_type": "code",
   "execution_count": 45,
   "id": "d75e21c1-7bb3-4be6-b161-969d953e7197",
   "metadata": {},
   "outputs": [
    {
     "ename": "TypeError",
     "evalue": "'str' object cannot be interpreted as an integer",
     "output_type": "error",
     "traceback": [
      "\u001b[1;31m---------------------------------------------------------------------------\u001b[0m",
      "\u001b[1;31mTypeError\u001b[0m                                 Traceback (most recent call last)",
      "\u001b[1;32m~\\AppData\\Local\\Temp/ipykernel_6980/3887567287.py\u001b[0m in \u001b[0;36m<module>\u001b[1;34m\u001b[0m\n\u001b[1;32m----> 1\u001b[1;33m \u001b[0mmain\u001b[0m\u001b[1;33m(\u001b[0m\u001b[1;34m\"i2\"\u001b[0m\u001b[1;33m,\u001b[0m \u001b[1;34m\"c2\"\u001b[0m\u001b[1;33m)\u001b[0m\u001b[1;33m\u001b[0m\u001b[1;33m\u001b[0m\u001b[0m\n\u001b[0m",
      "\u001b[1;32m~\\AppData\\Local\\Temp/ipykernel_6980/1199962159.py\u001b[0m in \u001b[0;36mmain\u001b[1;34m(imgname, rounds)\u001b[0m\n\u001b[0;32m     51\u001b[0m \u001b[1;32mdef\u001b[0m \u001b[0mmain\u001b[0m\u001b[1;33m(\u001b[0m\u001b[0mimgname\u001b[0m\u001b[1;33m,\u001b[0m \u001b[0mrounds\u001b[0m\u001b[1;33m=\u001b[0m\u001b[1;36m2\u001b[0m\u001b[1;33m)\u001b[0m\u001b[1;33m:\u001b[0m\u001b[1;33m\u001b[0m\u001b[1;33m\u001b[0m\u001b[0m\n\u001b[0;32m     52\u001b[0m     \u001b[0mimg\u001b[0m \u001b[1;33m=\u001b[0m \u001b[0mopen\u001b[0m\u001b[1;33m(\u001b[0m\u001b[0mimgname\u001b[0m\u001b[1;33m)\u001b[0m\u001b[1;33m.\u001b[0m\u001b[0mread\u001b[0m\u001b[1;33m(\u001b[0m\u001b[1;33m)\u001b[0m\u001b[1;33m.\u001b[0m\u001b[0msplit\u001b[0m\u001b[1;33m(\u001b[0m\u001b[1;34m\"\\n\"\u001b[0m\u001b[1;33m)\u001b[0m\u001b[1;33m\u001b[0m\u001b[1;33m\u001b[0m\u001b[0m\n\u001b[1;32m---> 53\u001b[1;33m     \u001b[1;32mfor\u001b[0m \u001b[0mi\u001b[0m \u001b[1;32min\u001b[0m \u001b[0mrange\u001b[0m\u001b[1;33m(\u001b[0m\u001b[0mrounds\u001b[0m\u001b[1;33m)\u001b[0m\u001b[1;33m:\u001b[0m\u001b[1;33m\u001b[0m\u001b[1;33m\u001b[0m\u001b[0m\n\u001b[0m\u001b[0;32m     54\u001b[0m         \u001b[0mE\u001b[0m \u001b[1;33m=\u001b[0m \u001b[0mEnhancer\u001b[0m\u001b[1;33m(\u001b[0m\u001b[0mimg\u001b[0m\u001b[1;33m,\u001b[0m \u001b[1;34m\"c2\"\u001b[0m\u001b[1;33m)\u001b[0m\u001b[1;33m\u001b[0m\u001b[1;33m\u001b[0m\u001b[0m\n\u001b[0;32m     55\u001b[0m         \u001b[0mimg\u001b[0m \u001b[1;33m=\u001b[0m \u001b[0mE\u001b[0m\u001b[1;33m.\u001b[0m\u001b[0menhance\u001b[0m\u001b[1;33m(\u001b[0m\u001b[1;33m)\u001b[0m\u001b[1;33m\u001b[0m\u001b[1;33m\u001b[0m\u001b[0m\n",
      "\u001b[1;31mTypeError\u001b[0m: 'str' object cannot be interpreted as an integer"
     ]
    }
   ],
   "source": [
    "main(\"i2\")"
   ]
  },
  {
   "cell_type": "code",
   "execution_count": null,
   "id": "90796b21-2801-43e0-863e-ec12b2359919",
   "metadata": {},
   "outputs": [],
   "source": [
    "E"
   ]
  },
  {
   "cell_type": "code",
   "execution_count": null,
   "id": "034e3bef-f1b8-4e4d-be11-8005a79f392c",
   "metadata": {},
   "outputs": [],
   "source": [
    "[['.', '.', '#', '.', '#'],\n",
    " ['#', '.', '#', '.', '.'],\n",
    " ['#', '#', '#', '.', '.'],\n",
    " ['#', '.', '.', '#', '#'],\n",
    " ['.', '#', '#', '.', '.']]"
   ]
  },
  {
   "cell_type": "code",
   "execution_count": 49,
   "id": "76085d56-988b-4857-849d-1662b4a19873",
   "metadata": {},
   "outputs": [],
   "source": [
    "img = open(\"i2\").read().split(\"\\n\")\n",
    "E = Enhancer(img, \"c2\")"
   ]
  },
  {
   "cell_type": "code",
   "execution_count": 50,
   "id": "5186a4f2-5d89-4ac6-b68e-bb9136e3b00c",
   "metadata": {},
   "outputs": [
    {
     "data": {
      "text/plain": [
       "['.................................................................#..#..................................................................',\n",
       " '.................................................................#.....................................................................',\n",
       " '.................................................................##..#.................................................................',\n",
       " '...................................................................#...................................................................',\n",
       " '...................................................................###.................................................................']"
      ]
     },
     "execution_count": 50,
     "metadata": {},
     "output_type": "execute_result"
    }
   ],
   "source": [
    "mtx = E.img\n",
    "mtx"
   ]
  },
  {
   "cell_type": "code",
   "execution_count": 41,
   "id": "11556d5d-779d-4e10-9de2-b16d1b2100a0",
   "metadata": {},
   "outputs": [
    {
     "data": {
      "text/plain": [
       "['.....#..#......',\n",
       " '.....#.........',\n",
       " '.....##..#.....',\n",
       " '.......#.......',\n",
       " '.......###.....']"
      ]
     },
     "execution_count": 41,
     "metadata": {},
     "output_type": "execute_result"
    }
   ],
   "source": [
    " "
   ]
  },
  {
   "cell_type": "code",
   "execution_count": null,
   "id": "5937cb54-176b-4a58-9c4a-27cd37a88da8",
   "metadata": {},
   "outputs": [],
   "source": [
    "i = [[\"#\",\".\",\"#\"],[\"#\",\"#\",\".\"],[\".\",\"#\",\".\"]]"
   ]
  }
 ],
 "metadata": {
  "kernelspec": {
   "display_name": "Python 3 (ipykernel)",
   "language": "python",
   "name": "python3"
  },
  "language_info": {
   "codemirror_mode": {
    "name": "ipython",
    "version": 3
   },
   "file_extension": ".py",
   "mimetype": "text/x-python",
   "name": "python",
   "nbconvert_exporter": "python",
   "pygments_lexer": "ipython3",
   "version": "3.10.0"
  }
 },
 "nbformat": 4,
 "nbformat_minor": 5
}
