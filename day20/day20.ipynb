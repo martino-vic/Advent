{
 "cells": [
  {
   "cell_type": "code",
   "execution_count": 144,
   "id": "62625517-64ce-4350-8990-80f2c812ff4a",
   "metadata": {},
   "outputs": [],
   "source": [
    "#question: How many lit pixels after two iterations\n",
    "from itertools import chain\n",
    "from collections import Counter\n",
    "\n",
    "class Enhancer():\n",
    "    \n",
    "    def __init__(self, img, c, pad):\n",
    "        self.conv = c\n",
    "        self.img = enlarge(img)\n",
    "        self.pad = pad\n",
    "        self.pixnr = 0\n",
    "        self.rownr = 0\n",
    "\n",
    "    def enh(self, pix):\n",
    "        mtx = [[_,_,_],[_,_,_],[_,_,_]]\n",
    "    \n",
    "        mtx[0][0] = self.img[self.rownr-1][self.pixnr-1] if self.pixnr != 0 and self.rownr != 0 else self.pad\n",
    "        mtx[0][1] = self.img[self.rownr-1][self.pixnr] if self.rownr != 0 else self.pad\n",
    "        mtx[0][2] = self.img[self.rownr-1][self.pixnr+1] if self.pixnr != len(self.img[0])-1 and self.rownr != 0 else self.pad\n",
    "        mtx[1][0] = self.img[self.rownr][self.pixnr-1] if self.pixnr != 0 else self.pad\n",
    "        mtx[1][1] = self.img[self.rownr][self.pixnr]\n",
    "        mtx[1][2] = self.img[self.rownr][self.pixnr+1] if self.pixnr != len(self.img[0])-1 else self.pad \n",
    "        mtx[2][0] = self.img[self.rownr+1][self.pixnr-1] if self.pixnr != 0 and self.rownr != len(self.img)-1 else self.pad \n",
    "        mtx[2][1] = self.img[self.rownr+1][self.pixnr] if self.rownr != len(self.img)-1 else self.pad \n",
    "        mtx[2][2] = self.img[self.rownr+1][self.pixnr+1] if self.pixnr != len(self.img[0])-1 and self.rownr != len(self.img)-1 else self.pad\n",
    "        \n",
    "        self.pixnr+=1\n",
    "        if self.pixnr == len(self.img[0]):\n",
    "            self.pixnr = 0\n",
    "            self.rownr += 1\n",
    "   \n",
    "        return self.conv[int(\"\".join([\"0\" if char == \".\" else \"1\" for char in list(chain(*mtx))]), 2)]\n",
    "\n",
    "    def enhance(self):\n",
    "        return list(map(lambda row: \"\".join(map(self.enh, row)), self.img))\n",
    "    \n",
    "    def enlarge(self, img):\n",
    "        out = list(map(lambda row: self.pad+row+self.pad, img))\n",
    "        return [self.pad*len(out[0])] + out + [self.pad*len(out[0])]\n",
    "    \n",
    "def main(imgname, convname, rounds=2):\n",
    "    \n",
    "    img = open(imgname).read().split(\"\\n\")\n",
    "    c = open(convname).read().replace(\"\\n\", \"\")\n",
    "    pad = \".\"\n",
    "    for i in range(rounds):\n",
    "        print(pad)\n",
    "        E = Enhancer(img, c, pad)\n",
    "        img = E.enhance()\n",
    "        if c[0] == \"#\" and c[-1] == \".\":\n",
    "            pad = \".\" if pad == \"#\" else \"#\"\n",
    "        if c[0] == \"#\" and c[-1] == \"#\":\n",
    "            pad = \"#\"\n",
    "    \n",
    "    for r in img:\n",
    "        print(r)    \n",
    "    return Counter(list(chain(*img)))[\"#\"]"
   ]
  },
  {
   "cell_type": "code",
   "execution_count": null,
   "id": "8687c0f2-fd05-43f9-8e73-63da74d45fda",
   "metadata": {},
   "outputs": [],
   "source": [
    "main(\"i\", \"c\", 2)"
   ]
  }
 ],
 "metadata": {
  "kernelspec": {
   "display_name": "Python 3 (ipykernel)",
   "language": "python",
   "name": "python3"
  },
  "language_info": {
   "codemirror_mode": {
    "name": "ipython",
    "version": 3
   },
   "file_extension": ".py",
   "mimetype": "text/x-python",
   "name": "python",
   "nbconvert_exporter": "python",
   "pygments_lexer": "ipython3",
   "version": "3.10.0"
  }
 },
 "nbformat": 4,
 "nbformat_minor": 5
}
