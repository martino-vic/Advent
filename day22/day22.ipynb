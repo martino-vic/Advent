{
 "cells": [
  {
   "cell_type": "code",
   "execution_count": 1,
   "id": "a0329fcb-9b46-4995-a353-0aabb4462534",
   "metadata": {},
   "outputs": [
    {
     "name": "stdout",
     "output_type": "stream",
     "text": [
      "on x=-10..44,y=-47..3,z=-30..20\n",
      "Currently 143055 lights are burning\n",
      "on x=-48..6,y=-21..28,z=-13..39\n",
      "Currently 274355 lights are burning\n",
      "on x=-41..11,y=-19..32,z=-36..11\n",
      "Currently 337566 lights are burning\n",
      "on x=-3..44,y=-48..0,z=-14..39\n",
      "Currently 379754 lights are burning\n",
      "on x=-22..27,y=-49..3,z=-48..0\n",
      "Currently 435477 lights are burning\n",
      "on x=-19..34,y=-9..40,z=-30..22\n",
      "Currently 496631 lights are burning\n",
      "on x=-29..25,y=-5..48,z=-39..13\n",
      "Currently 534921 lights are burning\n",
      "on x=-24..29,y=-36..8,z=-22..24\n",
      "Currently 541475 lights are burning\n",
      "on x=-27..26,y=-38..9,z=-9..44\n",
      "Currently 565797 lights are burning\n",
      "on x=-35..11,y=-47..2,z=-27..24\n",
      "Currently 583265 lights are burning\n",
      "off x=-34..-15,y=3..12,z=8..19\n",
      "Currently 580865 lights are burning\n",
      "on x=-18..29,y=-33..17,z=-16..34\n",
      "Currently 583829 lights are burning\n",
      "off x=22..40,y=-5..8,z=1..16\n",
      "Currently 580053 lights are burning\n",
      "on x=-49..5,y=-16..34,z=-12..35\n",
      "Currently 592011 lights are burning\n",
      "off x=-29..-16,y=-23..-10,z=-8..10\n",
      "Currently 588287 lights are burning\n",
      "on x=-34..13,y=-22..26,z=-4..46\n",
      "Currently 602377 lights are burning\n",
      "off x=-6..5,y=-11..4,z=29..45\n",
      "Currently 599113 lights are burning\n",
      "on x=-40..8,y=-31..18,z=-4..45\n",
      "Currently 608384 lights are burning\n",
      "off x=-19..-1,y=-39..-25,z=37..49\n",
      "Currently 606114 lights are burning\n",
      "on x=-43..7,y=-34..19,z=-20..29\n",
      "Currently 611176 lights are burning\n",
      "Eventually 611176 lights are burning\n"
     ]
    }
   ],
   "source": [
    "from itertools import product \n",
    "from tqdm import tqdm\n",
    "\n",
    "G = set()\n",
    "for i in open(\"in1\").read().split(\"\\n\"):\n",
    "    print(i)\n",
    "    if i.startswith(\"on\"):\n",
    "        on1 = []\n",
    "        for j in i.split(\"=\")[1:]:\n",
    "            l = [int(k.replace(\",\",\"\").replace(\"y\", \"\").replace(\"z\",\"\")) for k in j.split(\"..\")]\n",
    "            #print(l)\n",
    "            on1 += l\n",
    "        #print(on1)\n",
    "        for turnon in list(product(range(on1[0], on1[1]+1), range(on1[2], on1[3]+1), range(on1[4], on1[5]+1))):\n",
    "            G.add(turnon)\n",
    "\n",
    "    else:\n",
    "        assert i.startswith(\"off\")\n",
    "        off1 = []\n",
    "        for j in i.split(\"=\")[1:]:\n",
    "            l = [int(k.replace(\",\",\"\").replace(\"y\", \"\").replace(\"z\",\"\")) for k in j.split(\"..\")]\n",
    "            off1 += l\n",
    "        for turnoff in list(product(range(off1[0], off1[1]+1), range(off1[2], off1[3]+1), range(off1[4], off1[5]+1))):\n",
    "            G.discard(turnoff)\n",
    "            \n",
    "\n",
    "    print(f\"Currently {len(G)} lights are burning\")\n",
    "    \n",
    "print(f\"Eventually {len(G)} lights are burning\")"
   ]
  },
  {
   "cell_type": "code",
   "execution_count": null,
   "id": "d258a3a2-7647-44a2-8cb3-1fc7ca1d1b3f",
   "metadata": {},
   "outputs": [],
   "source": [
    "G = set()\n",
    "G.add(1)\n",
    "G\n",
    "G.add(1)\n",
    "G"
   ]
  },
  {
   "cell_type": "code",
   "execution_count": null,
   "id": "63651bc7-7cc6-4470-8385-d56468fed241",
   "metadata": {},
   "outputs": [],
   "source": [
    "for i in offs:\n",
    "    off1 = []\n",
    "    for j in i.split(\"=\")[1:]:\n",
    "        l = [int(k.replace(\",\",\"\").replace(\"y\", \"\").replace(\"z\",\"\")) for k in j.split(\"..\")]\n",
    "        off1 += l\n",
    "    print(off1)\n",
    "    print(len(off1))\n",
    "    on = [m for m in on if m not in list(product(range(off1[0], off1[1]+1), range(off1[2], off1[3]+1), range(off1[4], off1[5]+1)))]"
   ]
  },
  {
   "cell_type": "code",
   "execution_count": null,
   "id": "668708cd-9730-4024-abef-bd0b8a5f7b3e",
   "metadata": {},
   "outputs": [],
   "source": [
    "on = []\n",
    "for i in ons:\n",
    "    on1 = []\n",
    "    for j in i.split(\"=\")[1:]:\n",
    "        l = [int(k.replace(\",\",\"\").replace(\"y\", \"\").replace(\"z\",\"\")) for k in j.split(\"..\")]\n",
    "        #print(l)\n",
    "        on1 += l\n",
    "    turnon = list(product(range(on1[0], on1[1]+1), range(on1[2], on1[3]+1), range(on1[4], on1[5]+1)))\n",
    "    #print(f\"Turning on {len(turnon)} lights\")\n",
    "    on += turnon\n",
    "on = list(set(on))\n",
    "print(f\"{len(on)} lights are turned on. Now turning off\")"
   ]
  },
  {
   "cell_type": "code",
   "execution_count": null,
   "id": "9095914c-0104-43ee-9e5e-4f73a5c4b3e3",
   "metadata": {},
   "outputs": [],
   "source": [
    "ons"
   ]
  },
  {
   "cell_type": "code",
   "execution_count": null,
   "id": "3951fca4-cf62-493b-8176-76c4f91292e4",
   "metadata": {},
   "outputs": [],
   "source": [
    "for j in ons[0].split(\"=\")[1:]:\n",
    "    print([int(k.replace(\",\",\"\").replace(\"y\", \"\").replace(\"z\",\"\")) for k in j.split(\"..\")])"
   ]
  },
  {
   "cell_type": "code",
   "execution_count": null,
   "id": "1e4e161f-d8dc-4cac-8ad2-91ceeb9122fe",
   "metadata": {},
   "outputs": [],
   "source": [
    "from itertools import product\n",
    "list(product(range(10, 12+1), range(10, 12+1), range(10, 12+1)))"
   ]
  },
  {
   "cell_type": "code",
   "execution_count": null,
   "id": "23425ad8-ca31-47bf-9fbd-35229212feb3",
   "metadata": {},
   "outputs": [],
   "source": [
    "set([(1,2,3),(1,2,3)])"
   ]
  }
 ],
 "metadata": {
  "kernelspec": {
   "display_name": "Python 3 (ipykernel)",
   "language": "python",
   "name": "python3"
  },
  "language_info": {
   "codemirror_mode": {
    "name": "ipython",
    "version": 3
   },
   "file_extension": ".py",
   "mimetype": "text/x-python",
   "name": "python",
   "nbconvert_exporter": "python",
   "pygments_lexer": "ipython3",
   "version": "3.10.0"
  }
 },
 "nbformat": 4,
 "nbformat_minor": 5
}
