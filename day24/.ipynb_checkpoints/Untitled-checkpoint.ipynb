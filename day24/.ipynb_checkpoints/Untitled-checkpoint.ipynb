{
 "cells": [
  {
   "cell_type": "code",
   "execution_count": null,
   "id": "8f2a0ed1-3dfd-47ed-98a1-943e63b5ec7d",
   "metadata": {},
   "outputs": [],
   "source": [
    "#solutions from reddit"
   ]
  },
  {
   "cell_type": "code",
   "execution_count": 2,
   "id": "4112e9de-3205-4e1b-b790-6e4368823f3d",
   "metadata": {},
   "outputs": [
    {
     "name": "stdout",
     "output_type": "stream",
     "text": [
      "93997999296912\n",
      "89141811131171\n"
     ]
    }
   ],
   "source": [
    "with open(\"in\", 'r') as file:\n",
    "    data = [x.strip('\\n').strip().splitlines() for x in file.read().split('inp w\\n')[1:]]\n",
    "    non_matching = [e for e,x in enumerate(data[0]) if not all(data[y][e] == x for y in range(len(data)))]\n",
    "    diffs = [[int(data[i][e].split()[-1]) for e in non_matching] for i in range(len(data))]\n",
    "    q, mx, mn = [], [0] * 14, [0] * 14\n",
    "    for a, x in enumerate(data):\n",
    "        if diffs[a][0] == 1:\n",
    "            q.append((a, diffs[a][2]))\n",
    "        else:\n",
    "            b, y = q.pop()\n",
    "            delta = y + diffs[a][1]\n",
    "            if not delta >= 0:\n",
    "                a, b, delta = b, a, -delta\n",
    "            mx[a], mx[b] = 9, 9 - delta\n",
    "            mn[a], mn[b] = 1, 1 + delta\n",
    "    print(''.join([str(x) for x in mx]))\n",
    "    print(''.join([str(x) for x in mn[::-1]]))"
   ]
  },
  {
   "cell_type": "code",
   "execution_count": 3,
   "id": "fde78f6f-14a9-496a-89f6-ee752d139f18",
   "metadata": {},
   "outputs": [
    {
     "name": "stdout",
     "output_type": "stream",
     "text": [
      "93997999296912\n"
     ]
    }
   ],
   "source": [
    "lines = open(\"in\").read().split(\"\\n\")\n",
    "pairs = [(int(lines[i * 18 + 5][6:]), int(lines[i * 18 + 15][6:])) for i in range(14)]\n",
    "stack = []\n",
    "links = {}\n",
    "for i, (a, b) in enumerate(pairs):\n",
    "    if a > 0:\n",
    "        stack.append((i, b))\n",
    "    else:\n",
    "        j, bj = stack.pop()\n",
    "        links[i] = (j, bj + a)\n",
    "\n",
    "minimize = False\n",
    "assignments = {}\n",
    "for i, (j, delta) in links.items():\n",
    "    assignments[i] = max(1, 1 + delta) if minimize else min(9, 9 + delta)\n",
    "    assignments[j] = max(1, 1 - delta) if minimize else min(9, 9 - delta)\n",
    "print(\"\".join(str(assignments[x]) for x in range(14)))"
   ]
  },
  {
   "cell_type": "code",
   "execution_count": 4,
   "id": "6a2cfd74-f591-4a48-832f-6afd58f1615d",
   "metadata": {},
   "outputs": [
    {
     "name": "stdout",
     "output_type": "stream",
     "text": [
      "93997999296912\n",
      "81111379141811\n"
     ]
    }
   ],
   "source": [
    "with open(\"in\") as f:\n",
    "    data = f.read().split(\"inp w\\n\")[1:]\n",
    "\n",
    "z = []  # number in base 26\n",
    "max_monad = [0] * 14\n",
    "min_monad = [0] * 14\n",
    "for i, chunk in enumerate(data):\n",
    "    lines = chunk.split(\"\\n\")\n",
    "    pop = int(lines[3][-2:]) == 26  # if digit should be popped from z\n",
    "    x_add = int(lines[4].split()[-1])\n",
    "    y_add = int(lines[14].split()[-1])\n",
    "\n",
    "    if not pop:  # push digit to z\n",
    "        z.append((i, y_add))\n",
    "    else:  # apply restriction: last_z_digit == current_z_digit + difference\n",
    "        j, y_add = z.pop()\n",
    "        difference = x_add + y_add\n",
    "        if difference < 0:\n",
    "            max_monad[i] = 9 + difference\n",
    "            max_monad[j] = 9\n",
    "            min_monad[i] = 1\n",
    "            min_monad[j] = 1 - difference\n",
    "        elif difference > 0:\n",
    "            max_monad[i] = 9\n",
    "            max_monad[j] = 9 - difference\n",
    "            min_monad[i] = 1 + difference\n",
    "            min_monad[j] = 1\n",
    "        else:\n",
    "            max_monad[i] = max_monad[j] = 9\n",
    "            min_monad[i] = min_monad[j] = 1\n",
    "\n",
    "print(\"\".join(map(str, max_monad)))\n",
    "print(\"\".join(map(str, min_monad)))"
   ]
  }
 ],
 "metadata": {
  "kernelspec": {
   "display_name": "Python 3 (ipykernel)",
   "language": "python",
   "name": "python3"
  },
  "language_info": {
   "codemirror_mode": {
    "name": "ipython",
    "version": 3
   },
   "file_extension": ".py",
   "mimetype": "text/x-python",
   "name": "python",
   "nbconvert_exporter": "python",
   "pygments_lexer": "ipython3",
   "version": "3.10.0"
  }
 },
 "nbformat": 4,
 "nbformat_minor": 5
}
