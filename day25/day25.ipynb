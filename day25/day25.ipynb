{
 "cells": [
  {
   "cell_type": "code",
   "execution_count": null,
   "id": "c3b9324f-8e58-489e-88ba-e826dc09eecf",
   "metadata": {},
   "outputs": [],
   "source": [
    "\"abc\"[1:-1]"
   ]
  },
  {
   "cell_type": "code",
   "execution_count": 6,
   "id": "9bfc8053-4458-4dd0-916e-e3567ad3f7b6",
   "metadata": {},
   "outputs": [
    {
     "data": {
      "text/plain": [
       "386"
      ]
     },
     "execution_count": 6,
     "metadata": {},
     "output_type": "execute_result"
    }
   ],
   "source": [
    "#step1 move horizontally\n",
    "def move(field):\n",
    "    for i in range(len(field)):\n",
    "            #print(i)\n",
    "            if field[i][0] == \".\" and field[i][-1] == \">\": #if current catches cucumber\n",
    "                field[i] = list(field[i])\n",
    "                field[i][0], field[i][-1] = \">\", \".\" #wash it on the other side\n",
    "                field[i] = \"\".join(field[i])\n",
    "                field[i] = field[i][0]+field[i][1:-1].replace(\">.\",\".>\") +field[i][-1]#and move only others\n",
    "                continue #go to next line\n",
    "            field[i] = field[i].replace(\">.\",\".>\") #only if no current washing\n",
    "#    print(\"after moving to right\")          \n",
    " #   for i in field:\n",
    "  #      print(i)\n",
    "   # print()\n",
    "\n",
    "    #flip axes, repeat same process, flip axes back\n",
    "    field_flipped = []\n",
    "    for col in range(len(field[0])):\n",
    "        field_flipped.append(\"\".join([row[col] for row in field]))\n",
    "    field = field_flipped\n",
    "#    print(\"after flipping:\")\n",
    " #   for i in field:\n",
    "  #      print(i)\n",
    "\n",
    "    for i in range(len(field)):\n",
    "            if field[i][0] == \".\" and field[i][-1] == \"v\": #if current catches cucumber\n",
    "                field[i] = list(field[i])\n",
    "                field[i][0], field[i][-1] = \"v\", \".\" #wash it on the other side\n",
    "                field[i] = \"\".join(field[i])\n",
    "                field[i] = field[i][0]+field[i][1:-1].replace(\"v.\",\".v\") +field[i][-1] #and move only others\n",
    "                continue #go to next line\n",
    "            field[i] = field[i].replace(\"v.\",\".v\") #only if no current washing\n",
    "    \n",
    "#    print(\"after moving down\")          \n",
    " #   for i in field:\n",
    "  #      print(i)\n",
    "   # print()\n",
    "                \n",
    "    #flip back\n",
    "    f = []\n",
    "    for col in range(len(field[0])):\n",
    "        f.append(\"\".join([row[col] for row in field]))\n",
    "        \n",
    "    return f\n",
    "        \n",
    "def main(file):\n",
    "    field = open(file).read().split(\"\\n\")\n",
    "    stack = field\n",
    "    field = move(field)\n",
    "    rounds = 0\n",
    "    while stack != \"\".join(field):\n",
    "        stack = \"\".join(field)\n",
    "        field = move(field)\n",
    "        rounds +=1\n",
    "        \n",
    "    return rounds+1\n",
    "        \n",
    "main(\"real\")"
   ]
  },
  {
   "cell_type": "code",
   "execution_count": null,
   "id": "6a9dfe40-3604-42ab-aa77-0ccbd7f5b9ec",
   "metadata": {},
   "outputs": [],
   "source": [
    "\"\"\"..>>v>vv..\n",
    "..v.>>vv..\n",
    "..>>v>>vv.\n",
    "..>>>>>vv.\n",
    "v......>vv\n",
    "v>v....>>v\n",
    "vvv..>...>\n",
    ">vv....>..\n",
    ".>v.vv.v..\n",
    "\"\"\" == \"\"\"..>>v>vv..\n",
    "..v.>>vv..\n",
    "..>>v>>vv.\n",
    "..>>>>>vv.\n",
    "v......>vv\n",
    "v>v....>>v\n",
    "vvv...>..>\n",
    ">vv.....>.\n",
    ".>v.vv.v..\"\"\""
   ]
  },
  {
   "cell_type": "code",
   "execution_count": null,
   "id": "7cdf1dd0-9b33-4cb2-b2a2-fb074ece8dad",
   "metadata": {},
   "outputs": [],
   "source": [
    "['..>>v>vv..', '..v.>>vv..', '..>>v>>vv.', '..>>>>>vv.', 'v......>vv', 'v>v....>>v', 'vvv...>..>', '>vv.....>.', '.>v.vv.v..'] == ['..>>v>vv..', '..v.>>vv..', '..>>v>>vv.', '..>>>>>vv.', 'v......>vv', 'v>v....>>v', 'vvv...>..>', '>vv.....>.', '.>v.vv.v..']"
   ]
  },
  {
   "cell_type": "code",
   "execution_count": null,
   "id": "d39d4f63-2ed6-492a-b268-e16e304f5359",
   "metadata": {},
   "outputs": [],
   "source": [
    "for i in ['..>>v>vv..', '..v.>>vv..', '..>>v>>vv.', '..>>>>>vv.', 'v......>vv', 'v>v....>>v', 'vvv...>..>', '>vv.....>.', '.>v.vv.v..']:\n",
    "    print(i)# == ['..>>v>vv..', '..v.>>vv..', '..>>v>>vv.', '..>>>>>vv.', 'v......>vv', 'v>v....>>v', 'vvv...>..>', '>vv.....>.', '.>v.vv.v..']"
   ]
  },
  {
   "cell_type": "code",
   "execution_count": null,
   "id": "157d2fbc-5864-4a62-96d2-9af0b610232b",
   "metadata": {},
   "outputs": [],
   "source": [
    "\"\"\"..>>v>vv..\n",
    "..v.>>vv..\n",
    "..>>v>>vv.\n",
    "..>>>>>vv.\n",
    "v......>vv\n",
    "v>v....>>v\n",
    "vvv...>..>\n",
    ">vv.....>.\n",
    ".>v.vv.v..\"\"\" == \"\"\"..>>v>vv..\n",
    "..v.>>vv..\n",
    "..>>v>>vv.\n",
    "..>>>>>vv.\n",
    "v......>vv\n",
    "v>v....>>v\n",
    "vvv..>...>\n",
    ">vv....>..\n",
    ".>v.vv.v..\"\"\""
   ]
  },
  {
   "cell_type": "code",
   "execution_count": null,
   "id": "8dca2c5f-a3c6-4384-8dad-cc354a00b7db",
   "metadata": {},
   "outputs": [],
   "source": [
    "\"\"\"..>>v>vv..\n",
    "..v.>>vv..\n",
    "..>>v>>vv.\n",
    "..>>>>>vv.\n",
    "v......>vv\n",
    "v>v....>>v\n",
    "vvv..>...>\n",
    ">vv....>..\n",
    ".>v.vv.v..\"\"\" == \"\"\"..>>v>vv..\n",
    "..v.>>vv..\n",
    "..>>v>>vv.\n",
    "..>>>>>vv.\n",
    "v......>vv\n",
    "v>v....>>v\n",
    "vvv...>..>\n",
    ">vv.....>.\"\"\""
   ]
  },
  {
   "cell_type": "code",
   "execution_count": null,
   "id": "9a6833ca-046d-4a68-a179-190cc23527dd",
   "metadata": {},
   "outputs": [],
   "source": [
    "\"\"\"..>>v>vv..\n",
    "..v.>>vv..\n",
    "..>>v>>vv.\n",
    "..>>>>>vv.\n",
    "v......>vv\n",
    "v>v....>>v\n",
    "vvv.....>>\n",
    ">vv......>\n",
    ".>v.vv.v..\"\"\" == \"\"\"..>>v>vv..\n",
    "..v.>>vv..\n",
    "..>>v>>vv.\n",
    "..>>>>>vv.\n",
    "v......>vv\n",
    "v>v....>>v\n",
    "vvv.....>>\n",
    ">vv......>\n",
    ".>v.vv.v..\n",
    "\"\"\""
   ]
  },
  {
   "cell_type": "code",
   "execution_count": null,
   "id": "73f194df-9742-4877-ad2f-a4c2c5d7bd84",
   "metadata": {},
   "outputs": [],
   "source": [
    "\"\"\"..>>v>vv..\n",
    "..v.>>vv..\n",
    "..>>v>>vv.\n",
    "..>>>>>vv.\n",
    "v......>vv\n",
    "v>v....>>v\n",
    "vvv.....>>\n",
    ">vv......>\n",
    ".>v.vv.v..\"\"\"==\"\"\"..>>v>vv..\n",
    "..v.>>vv..\n",
    "..>>v>>vv.\n",
    "..>>>>>vv.\n",
    "v......>vv\n",
    "v>v....>>v\n",
    "vvv.....>>\n",
    ">vv......>\n",
    ".>v.vv.v..\"\"\""
   ]
  },
  {
   "cell_type": "code",
   "execution_count": null,
   "id": "36e358b9-274f-40f3-ac4a-7f1a17a26c86",
   "metadata": {},
   "outputs": [],
   "source": [
    "\"\"\"vv>...>v>.\n",
    "v.v.v>.>v.\n",
    ">.v.>.>.>v\n",
    ">v>.>..v>>\n",
    "..v>v.v...\n",
    "..>.>>vvv.\n",
    ".>...v>v..\n",
    "..v.v>>v.v\n",
    "v.v.>...v.\"\"\" == \"\"\"vv>...>v>.\n",
    "v.v.v>.>v.\n",
    ">.v.>.>.>v\n",
    ">v>.>..v>>\n",
    "..v>v.v...\n",
    "..>.>>vvv.\n",
    ".>...v>v..\n",
    "..v.v>>v.v\n",
    "v.v.>...v.\"\"\""
   ]
  },
  {
   "cell_type": "code",
   "execution_count": null,
   "id": "28432cfe-1b68-48f0-8eb3-bc95dffa8753",
   "metadata": {},
   "outputs": [],
   "source": [
    "\"\"\"v>..v.>>..\n",
    "v.v.>.>.v.\n",
    ">vv.>>.v>v\n",
    ">>.>..v>.>\n",
    "..v>v...v.\n",
    "..>>.>vv..\n",
    ">.v.vv>v.v\n",
    ".....>>vv.\n",
    "vvv>...v..\"\"\" == \"\"\"v>..v.>>..\n",
    "v.v.>.>.v.\n",
    ">vv.>>.v>v\n",
    ">>.>..v>.>\n",
    "..v>v...v.\n",
    "..>>.>vv..\n",
    ">.v.vv>v.v\n",
    ".....>>vv.\n",
    "vvv>...v..\"\"\""
   ]
  },
  {
   "cell_type": "code",
   "execution_count": null,
   "id": "5c5fab3d-a39a-4265-b856-6fa46a62b456",
   "metadata": {},
   "outputs": [],
   "source": [
    "\"...>>>>.>..\".replace(\">.\",\".>\")"
   ]
  },
  {
   "cell_type": "code",
   "execution_count": null,
   "id": "909974ec-03ba-487c-a46d-36fc2fab6e88",
   "metadata": {},
   "outputs": [],
   "source": [
    "\"...>>>>>...\".replace(\">.\",\".>\")"
   ]
  },
  {
   "cell_type": "code",
   "execution_count": null,
   "id": "a18635f4-84a0-4a2e-815c-37b6736fefd9",
   "metadata": {},
   "outputs": [],
   "source": [
    "ng = ngrams(\"...>>>>>...\", 2)\n",
    "ng2 = ng\n",
    "for i, gram in enumerate(ng):\n",
    "    if ng == ('>', '.'):\n",
    "        ng2[i] = ('.', '>')\n",
    "        ng2[i-1]"
   ]
  },
  {
   "cell_type": "code",
   "execution_count": null,
   "id": "18df1c81-0069-45c5-9f95-0cf62281eda2",
   "metadata": {},
   "outputs": [],
   "source": [
    "from nltk import ngrams\n",
    "\n",
    "#move = [('.', '>') if i == ('>', '.') else i for i in ngrams(\"...>>>>>...\", 2)]\n",
    "#move[0] = move[0][0]\n",
    "#\"\".join([i[1] if isinstance(i, tuple) else i for i in move])\n",
    "move       "
   ]
  },
  {
   "cell_type": "code",
   "execution_count": null,
   "id": "1bcd14b5-74c4-4c77-a144-9d944b901931",
   "metadata": {},
   "outputs": [],
   "source": [
    "m = open(\"test\").read().split(\"\\n\")\n",
    "newm = []\n",
    "for r in mtx:\n",
    "    newr == \"\"\n",
    "    for i,c in enumerate(r):\n",
    "        if c in \"v.\":\n",
    "            newr+=c\n",
    "        else:\n",
    "            assert c == \">\"\n",
    "            if i != len(r)-1:\n",
    "                if r[i+1] != \".\":\n",
    "                    newr+=c\n",
    "                else:\n",
    "                    newr+=\".\""
   ]
  },
  {
   "cell_type": "code",
   "execution_count": null,
   "id": "12c91aef-0d9e-409f-ab37-98befae2f934",
   "metadata": {},
   "outputs": [],
   "source": [
    "#x = iter(\"abc\")\n",
    "next(x)"
   ]
  }
 ],
 "metadata": {
  "kernelspec": {
   "display_name": "Python 3 (ipykernel)",
   "language": "python",
   "name": "python3"
  },
  "language_info": {
   "codemirror_mode": {
    "name": "ipython",
    "version": 3
   },
   "file_extension": ".py",
   "mimetype": "text/x-python",
   "name": "python",
   "nbconvert_exporter": "python",
   "pygments_lexer": "ipython3",
   "version": "3.10.0"
  }
 },
 "nbformat": 4,
 "nbformat_minor": 5
}
