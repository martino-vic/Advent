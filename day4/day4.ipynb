{
 "cells": [
  {
   "cell_type": "code",
   "execution_count": 174,
   "id": "e7b0ba38-1c93-4e50-8b6c-e767a9d3259d",
   "metadata": {},
   "outputs": [
    {
     "data": {
      "text/plain": [
       "7075"
      ]
     },
     "execution_count": 174,
     "metadata": {},
     "output_type": "execute_result"
    }
   ],
   "source": [
    "#task 2: pick the last one to win\n",
    "#same as before but pick the highest nr as winner\n",
    "\n",
    "import numpy as np\n",
    "\n",
    "def main():\n",
    "    #convert input string to dictionary of np-matrixes\n",
    "    idxdict = dict(zip([str(i) for i in inp[0].split(\",\")], list(range(len(inp[0].split(\",\"))))))\n",
    "    tables = {}\n",
    "    mtxin = \"\"\n",
    "    x = iter(list(range(100)))\n",
    "    for row in inp1:\n",
    "        if row != \"\":\n",
    "            converted = ' '.join([str(idxdict[i]) for i in row.split(' ') if i])\n",
    "            mtxin+=f\"{converted};\"\n",
    "        else:\n",
    "            tables[next(x)] = np.matrix(mtxin[:-1])\n",
    "            mtxin = \"\"\n",
    "\n",
    "    \n",
    "    #check when a table wins\n",
    "    #write results to windict\n",
    "    windict = {}\n",
    "    x = iter(list(range(100)))\n",
    "    for idx in tables:\n",
    "        #print(tab)\n",
    "        #print(min([i for i in np.max(tables[idx], axis=0).flat]))\n",
    "        windict[next(x)] = min([i for i in np.max(tables[idx], axis=0).flat] + [i for i in np.max(tables[idx], axis=1).flat])\n",
    "    \n",
    "    #pick the winning table\n",
    "    hm = 0\n",
    "    idxwin = None\n",
    "    for i in windict:\n",
    "        if windict[i] > hm:\n",
    "            idxwin = i\n",
    "            hm = windict[i]\n",
    "   \n",
    "    ###calculate sum of missing numbers\n",
    "    #convert indices back to actual numbers\n",
    "    valdict = {value: key for key, value in idxdict.items()}\n",
    "    return sum(int(i) for i in [valdict[i] for i in tables[idxwin].flat if valdict[i] not in inp[0].split(\",\")[:windict[idxwin]+1]])*[int(i) for i in inp[0].split(\",\")][:windict[idxwin]+1][-1]\n",
    "    \n",
    "main()"
   ]
  },
  {
   "cell_type": "code",
   "execution_count": null,
   "id": "9804ad0e-a102-4583-9ff6-fa494f764074",
   "metadata": {},
   "outputs": [],
   "source": [
    "inp[0].split(\",\") == list(dict.fromkeys(inp[0].split(\",\")))"
   ]
  },
  {
   "cell_type": "code",
   "execution_count": 101,
   "id": "5bcf533b-9fe9-4889-bc9d-03a1bd970338",
   "metadata": {},
   "outputs": [
    {
     "data": {
      "text/plain": [
       "23"
      ]
     },
     "execution_count": 101,
     "metadata": {},
     "output_type": "execute_result"
    }
   ],
   "source": [
    "len(inp[0].split(\",\")[:23])"
   ]
  },
  {
   "cell_type": "code",
   "execution_count": null,
   "id": "21f66f0a-48c1-4fc3-8a77-e11aaeb881cf",
   "metadata": {},
   "outputs": [],
   "source": [
    "idxdict = dict(zip([str(i) for i in inp[0].split(\",\")], list(range(len(inp[0].split(\",\"))))))\n",
    "idxdict"
   ]
  },
  {
   "cell_type": "code",
   "execution_count": 46,
   "id": "8c1abc23-d34a-42a3-b3b8-4953e76bd74b",
   "metadata": {},
   "outputs": [
    {
     "data": {
      "text/plain": [
       "['a']"
      ]
     },
     "execution_count": 46,
     "metadata": {},
     "output_type": "execute_result"
    }
   ],
   "source": [
    "vocab_tage = {value: key for key, value in tag_vocab.items()}"
   ]
  },
  {
   "cell_type": "code",
   "execution_count": 134,
   "id": "4b2b82e4-159a-4f92-95d5-fdeb3ca6c04a",
   "metadata": {},
   "outputs": [
    {
     "data": {
      "text/plain": [
       "'4,9,5,11,17,23,2,0,14,21,24,10,16,13,6,15,25,12,22,18,20,8,19,3,26,1\\n\\n22 13 17 11  0\\n 8  2 23  4 24\\n21  9 14 16  7\\n 6 10  3 18  5\\n 1 12 20 15 19\\n\\n 3 15  0  2 22\\n 9 18 13 17  5\\n19  8  7 25 23\\n20 11 10 24  4\\n14 21 16 12  6\\n\\n14 21 17 24  4\\n10 16 15  9 19\\n18  8 23 26 20\\n22 11 13  6  5\\n 2  0 12  3  7'"
      ]
     },
     "execution_count": 134,
     "metadata": {},
     "output_type": "execute_result"
    }
   ],
   "source": [
    "inp1"
   ]
  },
  {
   "cell_type": "code",
   "execution_count": 173,
   "id": "fc653e66-ecca-4a11-b543-154ec47d962d",
   "metadata": {},
   "outputs": [
    {
     "data": {
      "text/plain": [
       "16674"
      ]
     },
     "execution_count": 173,
     "metadata": {},
     "output_type": "execute_result"
    }
   ],
   "source": [
    "import numpy as np\n",
    "\n",
    "def main():\n",
    "    #convert input string to dictionary of np-matrixes\n",
    "    idxdict = dict(zip([str(i) for i in inp[0].split(\",\")], list(range(len(inp[0].split(\",\"))))))\n",
    "    tables = {}\n",
    "    mtxin = \"\"\n",
    "    x = iter(list(range(100)))\n",
    "    for row in inp1:\n",
    "        if row != \"\":\n",
    "            converted = ' '.join([str(idxdict[i]) for i in row.split(' ') if i])\n",
    "            mtxin+=f\"{converted};\"\n",
    "        else:\n",
    "            tables[next(x)] = np.matrix(mtxin[:-1])\n",
    "            mtxin = \"\"\n",
    "\n",
    "    \n",
    "    #check when a table wins\n",
    "    #write results to windict\n",
    "    windict = {}\n",
    "    x = iter(list(range(100)))\n",
    "    for idx in tables:\n",
    "        #print(tab)\n",
    "        #print(min([i for i in np.max(tables[idx], axis=0).flat]))\n",
    "        windict[next(x)] = min([i for i in np.max(tables[idx], axis=0).flat] + [i for i in np.max(tables[idx], axis=1).flat])\n",
    "    \n",
    "    #pick the winning table\n",
    "    hm = 100\n",
    "    idxwin = None\n",
    "    for i in windict:\n",
    "        if windict[i] < hm:\n",
    "            idxwin = i\n",
    "            hm = windict[i]\n",
    "   \n",
    "    ###calculate sum of missing numbers\n",
    "    #convert indices back to actual numbers\n",
    "    valdict = {value: key for key, value in idxdict.items()}\n",
    "    return sum(int(i) for i in [valdict[i] for i in tables[idxwin].flat if valdict[i] not in inp[0].split(\",\")[:windict[idxwin]+1]])*[int(i) for i in inp[0].split(\",\")][:windict[idxwin]+1][-1]\n",
    "    \n",
    "main()"
   ]
  },
  {
   "cell_type": "code",
   "execution_count": 151,
   "id": "84f59372-d20d-4dab-9d96-f56433345385",
   "metadata": {},
   "outputs": [
    {
     "data": {
      "text/plain": [
       "{0: 13, 1: 14}"
      ]
     },
     "execution_count": 151,
     "metadata": {},
     "output_type": "execute_result"
    }
   ],
   "source": [
    "windict"
   ]
  },
  {
   "cell_type": "code",
   "execution_count": 156,
   "id": "c92fb6b1-561d-4b33-bc87-ab1db42db886",
   "metadata": {},
   "outputs": [],
   "source": [
    "inp=\"\"\"7,4,9,5,11,17,23,2,0,14,21,24,10,16,13,6,15,25,12,22,18,20,8,19,3,26,1\n",
    "\n",
    "22 13 17 11  0\n",
    " 8  2 23  4 24\n",
    "21  9 14 16  7\n",
    " 6 10  3 18  5\n",
    " 1 12 20 15 19\n",
    "\n",
    " 3 15  0  2 22\n",
    " 9 18 13 17  5\n",
    "19  8  7 25 23\n",
    "20 11 10 24  4\n",
    "14 21 16 12  6\n",
    "\n",
    "14 21 17 24  4\n",
    "10 16 15  9 19\n",
    "18  8 23 26 20\n",
    "22 11 13  6  5\n",
    " 2  0 12  3  7\n",
    "\"\"\".split(\"\\n\")\n",
    "inp1=inp[2:]"
   ]
  },
  {
   "cell_type": "code",
   "execution_count": 140,
   "id": "8d00f6a5-4fc9-45e8-a39c-612615539202",
   "metadata": {},
   "outputs": [
    {
     "data": {
      "text/plain": [
       "['22 13 17 11  0',\n",
       " ' 8  2 23  4 24',\n",
       " '21  9 14 16  7',\n",
       " ' 6 10  3 18  5',\n",
       " ' 1 12 20 15 19',\n",
       " '',\n",
       " ' 3 15  0  2 22',\n",
       " ' 9 18 13 17  5',\n",
       " '19  8  7 25 23',\n",
       " '20 11 10 24  4',\n",
       " '14 21 16 12  6',\n",
       " '',\n",
       " '14 21 17 24  4',\n",
       " '10 16 15  9 19',\n",
       " '18  8 23 26 20',\n",
       " '22 11 13  6  5',\n",
       " ' 2  0 12  3  7']"
      ]
     },
     "execution_count": 140,
     "metadata": {},
     "output_type": "execute_result"
    }
   ],
   "source": [
    "inp1"
   ]
  },
  {
   "cell_type": "code",
   "execution_count": 128,
   "id": "4951b869-6358-488b-8a47-588d833aef75",
   "metadata": {},
   "outputs": [
    {
     "data": {
      "text/plain": [
       "matrix([[15, 18, 22, 19, 12],\n",
       "        [45, 83, 99, 85,  9],\n",
       "        [76, 56, 31, 53,  2],\n",
       "        [47, 57, 38, 64, 21],\n",
       "        [70, 33, 88, 95, 28]])"
      ]
     },
     "execution_count": 128,
     "metadata": {},
     "output_type": "execute_result"
    }
   ],
   "source": [
    "tables[idxwin]"
   ]
  },
  {
   "cell_type": "code",
   "execution_count": null,
   "id": "5b15362d-c44d-45d6-ae76-7414ba321e14",
   "metadata": {},
   "outputs": [],
   "source": [
    "tables"
   ]
  },
  {
   "cell_type": "code",
   "execution_count": 108,
   "id": "e15b59df-570f-4893-a5ae-33dbb13ece84",
   "metadata": {},
   "outputs": [
    {
     "data": {
      "text/plain": [
       "['42',\n",
       " '44',\n",
       " '71',\n",
       " '26',\n",
       " '70',\n",
       " '92',\n",
       " '77',\n",
       " '45',\n",
       " '6',\n",
       " '18',\n",
       " '79',\n",
       " '54',\n",
       " '31',\n",
       " '34',\n",
       " '64',\n",
       " '32',\n",
       " '16',\n",
       " '55',\n",
       " '81',\n",
       " '11',\n",
       " '90',\n",
       " '10']"
      ]
     },
     "execution_count": 108,
     "metadata": {},
     "output_type": "execute_result"
    }
   ],
   "source": [
    "inp[0].split(\",\")[:22]"
   ]
  },
  {
   "cell_type": "code",
   "execution_count": 68,
   "id": "0182f190-05f2-4645-86b8-98cc1c6acadb",
   "metadata": {},
   "outputs": [
    {
     "data": {
      "text/plain": [
       "[9, 10, 11, 9, 10, 11]"
      ]
     },
     "execution_count": 68,
     "metadata": {},
     "output_type": "execute_result"
    }
   ],
   "source": [
    "a = np.arange(12).reshape(4,3)\n",
    "s1 = np.max(a, axis=0)\n",
    "s2 = np.max(a, axis=0)\n",
    "list(s1)+list(s2)"
   ]
  },
  {
   "cell_type": "code",
   "execution_count": 63,
   "id": "81c94969-6c54-430c-a6ee-b0f34e489407",
   "metadata": {},
   "outputs": [
    {
     "data": {
      "text/plain": [
       "array([[ 0,  1,  2],\n",
       "       [ 3,  4,  5],\n",
       "       [ 6,  7,  8],\n",
       "       [ 9, 10, 11]])"
      ]
     },
     "execution_count": 63,
     "metadata": {},
     "output_type": "execute_result"
    }
   ],
   "source": [
    "a"
   ]
  },
  {
   "cell_type": "code",
   "execution_count": 21,
   "id": "febf6451-98ef-42b9-91d5-94321d959e1a",
   "metadata": {},
   "outputs": [
    {
     "data": {
      "text/plain": [
       "matrix([[48, 69, 68, 49, 13],\n",
       "        [25, 14, 30, 74, 89],\n",
       "        [16, 38, 19, 24, 29],\n",
       "        [56, 97, 50, 65, 79],\n",
       "        [57, 52,  5, 27, 76]])"
      ]
     },
     "execution_count": 21,
     "metadata": {},
     "output_type": "execute_result"
    }
   ],
   "source": [
    "import numpy as np\n",
    "\n",
    "np.matrix('48 69 68 49 13;25 14 30 74 89;16 38 19 24 29;56 97 50 65 79;57 52  5 27 76')"
   ]
  },
  {
   "cell_type": "code",
   "execution_count": 135,
   "id": "b2e5781b-9552-486a-88fd-789da158175a",
   "metadata": {},
   "outputs": [
    {
     "data": {
      "text/plain": [
       "'4,9,5,11,17,23,2,0,14,21,24,10,16,13,6,15,25,12,22,18,20,8,19,3,26,1\\n\\n22 13 17 11  0\\n 8  2 23  4 24\\n21  9 14 16  7\\n 6 10  3 18  5\\n 1 12 20 15 19\\n\\n 3 15  0  2 22\\n 9 18 13 17  5\\n19  8  7 25 23\\n20 11 10 24  4\\n14 21 16 12  6\\n\\n14 21 17 24  4\\n10 16 15  9 19\\n18  8 23 26 20\\n22 11 13  6  5\\n 2  0 12  3  7'"
      ]
     },
     "execution_count": 135,
     "metadata": {},
     "output_type": "execute_result"
    }
   ],
   "source": [
    "inp1"
   ]
  },
  {
   "cell_type": "code",
   "execution_count": 172,
   "id": "4f686ec8-28a9-447c-9ba3-0484516459b0",
   "metadata": {},
   "outputs": [],
   "source": [
    "inp1=inp[2:]"
   ]
  },
  {
   "cell_type": "code",
   "execution_count": 171,
   "id": "5edf4e10-cbe7-4062-8e28-98b3f6933007",
   "metadata": {},
   "outputs": [],
   "source": [
    "with open(\"in.txt\", \"r\") as f:\n",
    "    inp = f.read().split(\"\\n\")"
   ]
  }
 ],
 "metadata": {
  "kernelspec": {
   "display_name": "Python 3 (ipykernel)",
   "language": "python",
   "name": "python3"
  },
  "language_info": {
   "codemirror_mode": {
    "name": "ipython",
    "version": 3
   },
   "file_extension": ".py",
   "mimetype": "text/x-python",
   "name": "python",
   "nbconvert_exporter": "python",
   "pygments_lexer": "ipython3",
   "version": "3.10.0"
  }
 },
 "nbformat": 4,
 "nbformat_minor": 5
}
