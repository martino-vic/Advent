{
 "cells": [
  {
   "cell_type": "code",
   "execution_count": 91,
   "id": "8612ea74-7acc-4150-a32e-a4abf760813b",
   "metadata": {},
   "outputs": [
    {
     "data": {
      "text/plain": [
       "22088"
      ]
     },
     "execution_count": 91,
     "metadata": {},
     "output_type": "execute_result"
    }
   ],
   "source": [
    "#task2: add diagonals\n",
    "with open(\"in.txt\", mode=\"r\") as file:\n",
    "#with open(\"intest.txt\", mode=\"r\") as file:\n",
    "    veclist = []\n",
    "    for line in file.readlines(): #first element\n",
    "        vec1, vec2 = line.split(\" -> \")\n",
    "        vec1, vec2 = list(map(int,vec1.split(\",\"))), list(map(int,vec2.split(\",\")))\n",
    "        veclist.append(vec1+vec2)\n",
    "#print(veclist)\n",
    "greatestx = 0\n",
    "for vec in veclist:\n",
    "    if vec[0] > greatestx:\n",
    "        greatestx = vec[0]\n",
    "    if vec[2] > greatestx:\n",
    "        greatestx = vec[2]\n",
    "        \n",
    "greatesty = 0\n",
    "for vec in veclist:\n",
    "    if vec[1] > greatesty:\n",
    "        greatesty = vec[1]\n",
    "    if vec[3] > greatesty:\n",
    "        greatesty = vec[3]\n",
    "\n",
    "lol = [] #takes long to print!\n",
    "for i in range(greatestx+5): #create vector space\n",
    "    lol.append([0 for j in range(greatesty+5)])\n",
    "#print(lol)\n",
    "for vec in veclist:\n",
    "    if vec[0] == vec[2]: #if horizontal\n",
    "        y = [vec[1]] + [vec[3]]\n",
    "        for i in range(min(y),max(y)+1):\n",
    "            lol[i][vec[0]] += 1\n",
    "    elif vec[1] == vec[3]: #if vertical\n",
    "        x = [vec[0]] + [vec[2]]\n",
    "        for i in range(min(x),max(x)+1):\n",
    "            lol[vec[1]][i] += 1   \n",
    "    else: #if diagonal\n",
    "        #print(vec)\n",
    "        x = [vec[0]] + [vec[2]]\n",
    "        y = [vec[1]] + [vec[3]]\n",
    "        rangex = range(min(x),max(x)+1)\n",
    "        if x[0] > x[1]:\n",
    "            rangex = reversed(rangex)\n",
    "        rangey = range(min(y),max(y)+1)\n",
    "        if y[0] > y[1]:\n",
    "            rangey = reversed(rangey)\n",
    "            \n",
    "        for i,j in zip(rangex, rangey):\n",
    "            #print(i,j)\n",
    "            #the zipped lists have same length bc only 45° diagonals!\n",
    "            lol[j][i] += 1\n",
    "        \n",
    "#print(lol[:-4])    \n",
    "def flatten(l):\n",
    "    return [item for subl in l for item in subl]\n",
    "\n",
    "len([i for i in flatten(lol) if i >= 2])"
   ]
  },
  {
   "cell_type": "code",
   "execution_count": 60,
   "id": "a04d7745-4669-46c1-81cc-a618330187a0",
   "metadata": {},
   "outputs": [
    {
     "data": {
      "text/plain": [
       "8111"
      ]
     },
     "execution_count": 60,
     "metadata": {},
     "output_type": "execute_result"
    }
   ],
   "source": [
    "with open(\"in.txt\", mode=\"r\") as file:\n",
    "#with open(\"intest.txt\", mode=\"r\") as file:\n",
    "    veclist = []\n",
    "    for line in file.readlines(): #first element\n",
    "        vec1, vec2 = line.split(\" -> \")\n",
    "        vec1, vec2 = list(map(int,vec1.split(\",\"))), list(map(int,vec2.split(\",\")))\n",
    "        if vec1[0] != vec2[0] and vec1[1] != vec2[1]: #drop diagonals\n",
    "            continue\n",
    "        veclist.append(vec1+vec2)\n",
    "#print(veclist)\n",
    "greatestx = 0\n",
    "for vec in veclist:\n",
    "    if vec[0] > greatestx:\n",
    "        greatestx = vec[0]\n",
    "    if vec[2] > greatestx:\n",
    "        greatestx = vec[2]\n",
    "        \n",
    "greatesty = 0\n",
    "for vec in veclist:\n",
    "    if vec[1] > greatesty:\n",
    "        greatesty = vec[1]\n",
    "    if vec[3] > greatesty:\n",
    "        greatesty = vec[3]\n",
    "\n",
    "lol = [] #takes long to print!\n",
    "for i in range(greatestx+5): #create vector space\n",
    "    lol.append([0 for j in range(greatesty+5)])\n",
    "#print(lol)\n",
    "for vec in veclist:\n",
    "    if vec[0] == vec[2]: #if horizontal\n",
    "        y = [vec[1]] + [vec[3]]\n",
    "        for i in range(min(y),max(y)+1):\n",
    "            lol[i][vec[0]] += 1\n",
    "    else:\n",
    "        x = [vec[0]] + [vec[2]]\n",
    "        for i in range(min(x),max(x)+1):\n",
    "            lol[vec[1]][i] +=1\n",
    "#print(lol)    \n",
    "def flatten(l):\n",
    "    return [item for subl in l for item in subl]\n",
    "\n",
    "len([i for i in flatten(lol) if i >= 2])"
   ]
  },
  {
   "cell_type": "code",
   "execution_count": null,
   "id": "7f10ed54-8e0c-41c2-bba2-586cfc7fbf1e",
   "metadata": {},
   "outputs": [],
   "source": [
    "for vec in veclist:\n",
    "    if vec[0] == vec[2]: #if horizontal\n",
    "        y = [vec[1]] + [vec[3]]\n",
    "        for i in range(min(y),max(y)):\n",
    "            lol[vec[0]][i] += 1\n",
    "    else:\n",
    "        x = [vec[0]] + [vec[2]]\n",
    "        for i in range(min(x),max(x)):\n",
    "            lol[i][vec[1]] +=1"
   ]
  },
  {
   "cell_type": "code",
   "execution_count": 27,
   "id": "20debbcb-d561-4b12-b3be-4cf333c2aa62",
   "metadata": {},
   "outputs": [
    {
     "data": {
      "text/plain": [
       "[[0, 0, 0], [0, 0, 0], [0, 0, 0]]"
      ]
     },
     "execution_count": 27,
     "metadata": {},
     "output_type": "execute_result"
    }
   ],
   "source": [
    "grid = []\n",
    "lst = [1,2,3]\n",
    "for i in lst:\n",
    "    grid.append([0 for j in range(len(lst))])\n",
    "grid"
   ]
  },
  {
   "cell_type": "code",
   "execution_count": 32,
   "id": "2a0a1592-21ae-4089-a5ac-6884c73db5be",
   "metadata": {},
   "outputs": [
    {
     "data": {
      "text/plain": [
       "[[0, 1, 0], [0, 0, 0], [0, 0, 0]]"
      ]
     },
     "execution_count": 32,
     "metadata": {},
     "output_type": "execute_result"
    }
   ],
   "source": [
    "grid[0][1]+=1\n",
    "grid"
   ]
  },
  {
   "cell_type": "code",
   "execution_count": 29,
   "id": "cc7939b2-70c5-4ef1-8590-464161af2bed",
   "metadata": {},
   "outputs": [],
   "source": [
    "#Collect bingo calls, Generate bingo boards\n",
    "#copied from a reddit user Tencza_Coder's day4 solution\n",
    "#https://www.reddit.com/r/adventofcode/comments/r8i1lq/2021_day_4_solutions/\n",
    "with open(\"in.txt\", mode=\"r\") as file: \n",
    "    calls = [] \n",
    "    boards = [] \n",
    "    curr_board = [] \n",
    "    board_row_counter = 0 \n",
    "    called = [] \n",
    "    bingo_happened = 0 \n",
    "    winning_board = 2000 \n",
    "    winning_call = 2000 \n",
    "    score = 0 \n",
    "    boards_count = 0\n",
    "\n",
    "    for line in file.readlines(): #first element\n",
    "        if not calls:\n",
    "            calls = list(map(int,line.split(\",\")))\n",
    "\n",
    "        elif line.strip(\"\\n\"): #\"if line not empty\"\n",
    "            board_row_counter += 1\n",
    "            curr_board.append(list(map(int,line.split())))\n",
    "            if board_row_counter == 5:\n",
    "                boards.append(curr_board)\n",
    "                board_row_counter = 0\n",
    "                curr_board = []\n"
   ]
  },
  {
   "cell_type": "code",
   "execution_count": null,
   "id": "9aa1c52b-ff70-423d-8e20-2721ac118fd7",
   "metadata": {},
   "outputs": [],
   "source": []
  },
  {
   "cell_type": "code",
   "execution_count": 31,
   "id": "c627e0a2-478f-4968-9569-e883a2a755a3",
   "metadata": {},
   "outputs": [
    {
     "data": {
      "text/plain": [
       "[42,\n",
       " 44,\n",
       " 71,\n",
       " 26,\n",
       " 70,\n",
       " 92,\n",
       " 77,\n",
       " 45,\n",
       " 6,\n",
       " 18,\n",
       " 79,\n",
       " 54,\n",
       " 31,\n",
       " 34,\n",
       " 64,\n",
       " 32,\n",
       " 16,\n",
       " 55,\n",
       " 81,\n",
       " 11,\n",
       " 90,\n",
       " 10,\n",
       " 21,\n",
       " 87,\n",
       " 0,\n",
       " 84,\n",
       " 8,\n",
       " 23,\n",
       " 1,\n",
       " 12,\n",
       " 60,\n",
       " 20,\n",
       " 57,\n",
       " 68,\n",
       " 61,\n",
       " 82,\n",
       " 49,\n",
       " 59,\n",
       " 22,\n",
       " 2,\n",
       " 63,\n",
       " 33,\n",
       " 50,\n",
       " 39,\n",
       " 28,\n",
       " 30,\n",
       " 88,\n",
       " 41,\n",
       " 69,\n",
       " 72,\n",
       " 98,\n",
       " 73,\n",
       " 7,\n",
       " 65,\n",
       " 53,\n",
       " 35,\n",
       " 96,\n",
       " 67,\n",
       " 36,\n",
       " 4,\n",
       " 51,\n",
       " 75,\n",
       " 24,\n",
       " 86,\n",
       " 97,\n",
       " 85,\n",
       " 66,\n",
       " 29,\n",
       " 74,\n",
       " 40,\n",
       " 93,\n",
       " 58,\n",
       " 9,\n",
       " 62,\n",
       " 95,\n",
       " 91,\n",
       " 80,\n",
       " 99,\n",
       " 14,\n",
       " 19,\n",
       " 43,\n",
       " 37,\n",
       " 27,\n",
       " 56,\n",
       " 94,\n",
       " 25,\n",
       " 83,\n",
       " 48,\n",
       " 17,\n",
       " 38,\n",
       " 78,\n",
       " 15,\n",
       " 52,\n",
       " 76,\n",
       " 5,\n",
       " 13,\n",
       " 46,\n",
       " 89,\n",
       " 47,\n",
       " 3]"
      ]
     },
     "execution_count": 31,
     "metadata": {},
     "output_type": "execute_result"
    }
   ],
   "source": [
    "calls"
   ]
  }
 ],
 "metadata": {
  "kernelspec": {
   "display_name": "Python 3 (ipykernel)",
   "language": "python",
   "name": "python3"
  },
  "language_info": {
   "codemirror_mode": {
    "name": "ipython",
    "version": 3
   },
   "file_extension": ".py",
   "mimetype": "text/x-python",
   "name": "python",
   "nbconvert_exporter": "python",
   "pygments_lexer": "ipython3",
   "version": "3.10.0"
  }
 },
 "nbformat": 4,
 "nbformat_minor": 5
}
