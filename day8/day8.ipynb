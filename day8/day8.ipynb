{
 "cells": [
  {
   "cell_type": "code",
   "execution_count": 28,
   "id": "0e99d97a-6908-4c2c-a793-b4e902e6e927",
   "metadata": {},
   "outputs": [
    {
     "data": {
      "text/plain": [
       "1"
      ]
     },
     "execution_count": 28,
     "metadata": {},
     "output_type": "execute_result"
    }
   ],
   "source": [
    "len(set(\"abc\") & set(\"daaaef\"))"
   ]
  },
  {
   "cell_type": "code",
   "execution_count": 53,
   "id": "bcb07e3f-a3cc-4793-9858-1b8237f850d6",
   "metadata": {},
   "outputs": [
    {
     "data": {
      "text/plain": [
       "946346"
      ]
     },
     "execution_count": 53,
     "metadata": {},
     "output_type": "execute_result"
    }
   ],
   "source": [
    "#solution inspired by https://www.reddit.com/r/adventofcode/comments/rbj87a/comment/hnoso83/?utm_source=share&utm_medium=web2x&context=3\n",
    "inputs = []\n",
    "outputs = []\n",
    "with open(\"in.txt\", \"r\") as file:\n",
    "    for line in file.readlines():\n",
    "        inputs.append(line.split(\" | \")[0])\n",
    "        outputs.append(line.split(\" | \")[1][:-1])\n",
    "\n",
    "solution = 0\n",
    "for tendigits, out in zip(inputs, outputs):\n",
    "    wires = {}\n",
    "    for digit in tendigits.split(\" \"): #define the unique ones\n",
    "        digit = \"\".join(sorted(digit))\n",
    "        l = len(digit)\n",
    "        if l == 2:\n",
    "            wires[1] = digit\n",
    "        elif l == 3:\n",
    "            wires[7] = digit\n",
    "        elif l == 4:\n",
    "            wires[4] = digit\n",
    "        elif l == 7:\n",
    "            wires[8] = digit\n",
    "\n",
    "    for digit in tendigits.split(\" \"):\n",
    "        digit = \"\".join(sorted(digit))\n",
    "        l = len(digit)\n",
    "\n",
    "        if l == 5:\n",
    "            if len(set(digit) & set(wires[7])) == 3:\n",
    "                wires[3] = digit\n",
    "            elif len(set(digit) & set(wires[4])) == 2:\n",
    "                wires[2] = digit\n",
    "            else:\n",
    "                wires[5] = digit\n",
    "        elif l == 6:\n",
    "            if len(set(digit) & set(wires[7])) == 2:\n",
    "                wires[6] = digit\n",
    "            elif len(set(digit) & set(wires[4])) == 4:\n",
    "                wires[9] = digit\n",
    "            else:\n",
    "                wires[0] = digit\n",
    "                \n",
    "    wiresflipped = {value: key for key, value in wires.items()}        \n",
    "    solution += int(\"\".join([str(wiresflipped[\"\".join(sorted(digit))]) for digit in out.split(\" \")]))\n",
    "        \n",
    "solution"
   ]
  },
  {
   "cell_type": "code",
   "execution_count": 37,
   "id": "9124a561-4da2-4f1f-a6ce-d035b1dd4251",
   "metadata": {},
   "outputs": [
    {
     "data": {
      "text/plain": [
       "['b', 'c', 'd']"
      ]
     },
     "execution_count": 37,
     "metadata": {},
     "output_type": "execute_result"
    }
   ],
   "source": [
    "sorted(\"bdc\")"
   ]
  },
  {
   "cell_type": "code",
   "execution_count": null,
   "id": "1dc07a4a-6175-4137-bda1-a8e93f5f4fc2",
   "metadata": {},
   "outputs": [],
   "source": [
    "#part two\n",
    "#subquestion: how many uniques are there AT LEAST always in the input?\n",
    "\n",
    "outputs= []\n",
    "with open(\"in.txt\", \"r\") as file:\n",
    "    for line in file.readlines():\n",
    "        outputs.append(line.split(\" | \")[0])\n",
    "outputs\n",
    "uniquecountlist = []\n",
    "for output in outputs:\n",
    "    uniquecount=0\n",
    "    for nr in output.split(\" \"):\n",
    "        if len(nr) in [2, 3, 4, 7]:\n",
    "            uniquecount+=1\n",
    "    uniquecountlist.append(uniquecount)\n",
    "    \n",
    "uniquecountlist\n",
    "\n",
    "#answer: there are always AT LEAST 4 uniques.\n",
    "#Oh, of course, because there are 10 digits per input, fuck. lol.\n",
    "#so the decoding pattern is always the same. How?"
   ]
  },
  {
   "cell_type": "code",
   "execution_count": 13,
   "id": "889186cb-4597-43c7-a9b2-9acb75317e2d",
   "metadata": {},
   "outputs": [
    {
     "data": {
      "text/plain": [
       "239"
      ]
     },
     "execution_count": 13,
     "metadata": {},
     "output_type": "execute_result"
    }
   ],
   "source": [
    "outputs= []\n",
    "with open(\"in.txt\", \"r\") as file:\n",
    "    for line in file.readlines():\n",
    "        outputs.append(line.split(\" | \")[1][:-1])\n",
    "\n",
    "counter = 0\n",
    "for output in outputs:\n",
    "    for nr in output.split(\" \"):\n",
    "        if len(nr) in [2, 3, 4, 7]:\n",
    "            counter+=1\n",
    "counter"
   ]
  }
 ],
 "metadata": {
  "kernelspec": {
   "display_name": "Python 3 (ipykernel)",
   "language": "python",
   "name": "python3"
  },
  "language_info": {
   "codemirror_mode": {
    "name": "ipython",
    "version": 3
   },
   "file_extension": ".py",
   "mimetype": "text/x-python",
   "name": "python",
   "nbconvert_exporter": "python",
   "pygments_lexer": "ipython3",
   "version": "3.10.0"
  }
 },
 "nbformat": 4,
 "nbformat_minor": 5
}
