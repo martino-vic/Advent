{
 "cells": [
  {
   "cell_type": "code",
   "execution_count": 8,
   "id": "429c8093-4d2e-46f0-9757-fd91967acb66",
   "metadata": {},
   "outputs": [
    {
     "name": "stdout",
     "output_type": "stream",
     "text": [
      "Part 1: 560\n",
      "Part 2: 959136\n"
     ]
    }
   ],
   "source": [
    "#https://www.reddit.com/r/adventofcode/comments/rca6vp/2021_day_9_solutions/hnya4ky/?context=3\n",
    "import math\n",
    "\n",
    "\n",
    "def follow(row, col, s):\n",
    "    for y, x in [(-1, 0), (1, 0), (0, 1), (0, -1)]:\n",
    "        if (row + y, col + x) not in s:\n",
    "            if row + y >= 0 and row + y < len(data):\n",
    "                if col + x < len(data[0]) and col + x >= 0:\n",
    "                    if data[row + y][col + x] != \"9\":\n",
    "                        s.add((row + y, col + x))\n",
    "                        follow(row + y, col + x, s)\n",
    "    return s\n",
    "\n",
    "\n",
    "data = open(\"in.txt\").read().strip().split(\"\\n\")\n",
    "lows = []\n",
    "basins = []\n",
    "for row in range(len(data)):\n",
    "    for col in range(len(data[0])):\n",
    "        cur = int(data[row][col])\n",
    "        n = int(data[row - 1][col]) if row > 0 else 9999\n",
    "        s = int(data[row + 1][col]) if row < len(data) - 1 else 9999\n",
    "        e = int(data[row][col + 1]) if col < len(data[0]) - 1 else 9999\n",
    "        w = int(data[row][col - 1]) if col > 0 else 9999\n",
    "        if cur < min([n, s, e, w]):\n",
    "            lows.append(cur)\n",
    "            basins.append(len(follow(row, col, {(row, col)})))\n",
    "print(f\"Part 1: {sum([x + 1 for x in lows])}\")\n",
    "print(f\"Part 2: {math.prod(sorted(list(basins), reverse=True)[:3])}\")"
   ]
  },
  {
   "cell_type": "code",
   "execution_count": 5,
   "id": "18a1c15b-9342-44aa-8f69-552b5c1079ed",
   "metadata": {},
   "outputs": [
    {
     "data": {
      "text/plain": [
       "array([[9., 9., 9., ..., 9., 9., 9.],\n",
       "       [9., 9., 7., ..., 5., 4., 9.],\n",
       "       [9., 6., 5., ..., 4., 3., 9.],\n",
       "       ...,\n",
       "       [9., 6., 7., ..., 7., 9., 9.],\n",
       "       [9., 9., 8., ..., 6., 8., 9.],\n",
       "       [9., 9., 9., ..., 9., 9., 9.]])"
      ]
     },
     "execution_count": 5,
     "metadata": {},
     "output_type": "execute_result"
    }
   ],
   "source": [
    "#https://www.reddit.com/r/adventofcode/comments/rcjgu6/despite_having_used_python_for_years_today_was/\n",
    "import numpy as np\n",
    "\n",
    "matrix = np.genfromtxt(\"in.txt\", delimiter=1)\n",
    "\n",
    "def local_minima(m):\n",
    "    m = np.pad(m, pad_width=1, mode=\"constant\", constant_values=9)\n",
    "    return m\n",
    "\n",
    "local_minima(matrix)"
   ]
  },
  {
   "cell_type": "code",
   "execution_count": 7,
   "id": "d2471161-47a1-477f-958f-3fdb0b07b97c",
   "metadata": {},
   "outputs": [
    {
     "data": {
      "text/plain": [
       "array([0, 1, 2, 3, 4, 5, 6, 7, 8, 9])"
      ]
     },
     "execution_count": 7,
     "metadata": {},
     "output_type": "execute_result"
    }
   ],
   "source": [
    "np.arange(10)"
   ]
  },
  {
   "cell_type": "code",
   "execution_count": 108,
   "id": "75dc87d4-7f8b-4e00-a178-1573d1174f9b",
   "metadata": {},
   "outputs": [
    {
     "name": "stdout",
     "output_type": "stream",
     "text": [
      "left:  0 0 9\n",
      "down:  1 0 8\n",
      "down:  2 1 8\n",
      "left:  1 0 8\n",
      "down:  2 0 7\n",
      "left:  2 0 7\n",
      "down:  3 0 6\n",
      "down:  4 1 6\n",
      "left:  3 0 6\n",
      "down:  4 0 5\n",
      "left:  4 0 5\n"
     ]
    },
    {
     "data": {
      "text/plain": [
       "12"
      ]
     },
     "execution_count": 108,
     "metadata": {},
     "output_type": "execute_result"
    }
   ],
   "source": [
    "import numpy as np\n",
    "#part2\n",
    "#workflow:\n",
    "#1.find lowpoint\n",
    "#2. move left & right till you hit 9, write down coordinates, add +1 for every move\n",
    "#3. from every coordinate move up down til you hit 9, add +1 for every move\n",
    "#4. nr of moves is basin size. function: getbasinsize()\n",
    "#5. for i in lowpoints: result.append(getbasinsize(i))\n",
    "#6. np.prod(sorted(result)[:3])\n",
    "\n",
    "#1. find lowpoint\n",
    "def readgrid(filename):\n",
    "    out = []\n",
    "    with open(filename, 'r') as file:\n",
    "        for line in file:\n",
    "            out.append([int(i) for i in list(line.strip(\"\\n\"))])\n",
    "    return out\n",
    "            \n",
    "\n",
    "def lowpoint(nr, row, col):\n",
    "    if row != 0:\n",
    "        if grid[row-1][col] <= nr:\n",
    "            return 0\n",
    "\n",
    "    if row != len(grid)-1:\n",
    "        if grid[row+1][col] <= nr:\n",
    "            return 0\n",
    " \n",
    "    if col != 0:\n",
    "        if grid[row][col-1] <= nr:\n",
    "            return 0\n",
    "        \n",
    "    if col != len(grid[0])-1:\n",
    "        if grid[row][col+1] <= nr:\n",
    "            return 0\n",
    "\n",
    "    return row, col\n",
    "\n",
    "def getbasinsize(coord):\n",
    "    size = 1\n",
    "    \n",
    "    x = coord[0]\n",
    "    y = coord[1]    \n",
    "    if y != 0:\n",
    "        while grid[x][y] !=9:    #move left\n",
    "            print(\"left: \", grid[x][y], x, y)\n",
    "            y-=1\n",
    "            if y!=-1:\n",
    "                size+=1\n",
    "            else:\n",
    "                break\n",
    "            \n",
    "            x1 = x\n",
    "            y1 = y\n",
    "            \n",
    "            if x!= 0:\n",
    "                while grid[x1][y1] !=9: #move up\n",
    "                    #print(grid[x1][y1])\n",
    "                    x1-=1\n",
    "                    if x1!=-1:\n",
    "                        size+=1\n",
    "                    else:\n",
    "                        break\n",
    "                #print(size)\n",
    "\n",
    "            x1 = x\n",
    "            y1 = y\n",
    "            \n",
    "            if x!=len(grid)+1:\n",
    "                while grid[x1][y1] !=9: #move down\n",
    "                    print(\"down: \", grid[x1][y1], x1, y1)\n",
    "                    x1+=1\n",
    "                    if x1!=len(grid):\n",
    "                        size+=1\n",
    "                    else:\n",
    "                        break\n",
    "                #print(size)\n",
    "        \n",
    "    x = coord[0]\n",
    "    y = coord[1]\n",
    "    \n",
    "    if y != len(grid[0])-1:\n",
    "        while grid[x][y+1] !=9:    #move right\n",
    "\n",
    "            y+=1\n",
    "            if y!=len(grid[0]):\n",
    "                size+=1\n",
    "            else:\n",
    "                break\n",
    "\n",
    "            x1 = x\n",
    "            y1 = y\n",
    "            if x!= 0:\n",
    "                while grid[x1][y1] !=9: #move up\n",
    "                    #print(grid[x1][y1])\n",
    "                    x1-=1\n",
    "                    if x1!=-1:\n",
    "                        size+=1\n",
    "                    else:\n",
    "                        break\n",
    "\n",
    "            x1 = x\n",
    "            y1 = y\n",
    "            if x!=len(grid)-1:\n",
    "                while grid[x1][y1] !=9: #move down\n",
    "                    x1+=1\n",
    "                    if x1!=len(grid):\n",
    "                        size+=1\n",
    "                    else:\n",
    "                        break\n",
    "        \n",
    "    return size\n",
    "\n",
    "def main():\n",
    "    out = []\n",
    "    for rownr, row in enumerate(grid):\n",
    "        for col, nr in enumerate(row):\n",
    "            #print(col)\n",
    "            #print(lowpoint(nr, rownr, col))\n",
    "            \n",
    "            out.append(lowpoint(nr, rownr, col))\n",
    "    lowpoints = [i for i in out if i!=0]\n",
    "    result = np.prod(sorted([getbasinsize(i) for i in lowpoints])[:3])\n",
    "    return result\n",
    "\n",
    "grid = readgrid(\"intest.txt\")\n",
    "#main()\n",
    "getbasinsize((0,9))"
   ]
  },
  {
   "cell_type": "code",
   "execution_count": 100,
   "id": "2f70e238-da47-4fbf-81cd-aad56e51e6fd",
   "metadata": {},
   "outputs": [
    {
     "data": {
      "text/plain": [
       "[[2, 1, 9, 9, 9, 4, 3, 2, 1, 0],\n",
       " [3, 9, 8, 7, 8, 9, 4, 9, 2, 1],\n",
       " [9, 8, 5, 6, 7, 8, 9, 8, 9, 2],\n",
       " [8, 7, 6, 7, 8, 9, 6, 7, 8, 9],\n",
       " [9, 8, 9, 9, 9, 6, 5, 6, 7, 8]]"
      ]
     },
     "execution_count": 100,
     "metadata": {},
     "output_type": "execute_result"
    }
   ],
   "source": [
    "grid"
   ]
  },
  {
   "cell_type": "code",
   "execution_count": 78,
   "id": "331d57b7-337b-4949-aded-2c8bbad6aac3",
   "metadata": {},
   "outputs": [
    {
     "data": {
      "text/plain": [
       "[[2, 1, 9, 9, 9, 4, 3, 2, 1, 0],\n",
       " [3, 9, 8, 7, 8, 9, 4, 9, 2, 1],\n",
       " [9, 8, 5, 6, 7, 8, 9, 8, 9, 2],\n",
       " [8, 7, 6, 7, 8, 9, 6, 7, 8, 9],\n",
       " [9, 8, 9, 9, 9, 6, 5, 6, 7, 8]]"
      ]
     },
     "execution_count": 78,
     "metadata": {},
     "output_type": "execute_result"
    }
   ],
   "source": [
    "grid"
   ]
  },
  {
   "cell_type": "code",
   "execution_count": 3,
   "id": "ad1aa979-dfcd-468d-be85-3af78875cdbd",
   "metadata": {},
   "outputs": [
    {
     "data": {
      "text/plain": [
       "560"
      ]
     },
     "execution_count": 3,
     "metadata": {},
     "output_type": "execute_result"
    }
   ],
   "source": [
    "def readgrid(filename):\n",
    "    out = []\n",
    "    with open(filename, 'r') as file:\n",
    "        for line in file:\n",
    "            out.append(list(line.strip(\"\\n\")))\n",
    "    return out\n",
    "            \n",
    "\n",
    "def lowpoint(nr, row, col):\n",
    "    #print(\"row, col: \", row, col)\n",
    "    if row != 0:\n",
    "        if int(grid[row-1][col]) <= int(nr):\n",
    "        #    print(\"here1\")\n",
    "            return 0\n",
    "\n",
    "    if row != len(grid)-1:\n",
    "        if int(grid[row+1][col]) <= int(nr):\n",
    "       #     print(\"here2\")\n",
    "            return 0\n",
    " \n",
    "    if col != 0:\n",
    "        if int(grid[row][col-1]) <= int(nr):\n",
    "      #      print(\"here3\")\n",
    "            return 0\n",
    "        \n",
    "    if col != len(grid[0])-1:\n",
    "        if int(grid[row][col+1]) <= int(nr):\n",
    "     #       print(\"here4\")\n",
    "            return 0\n",
    "  \n",
    "    #print(\"res: \", int(nr)+1, row, col)\n",
    "    return int(nr)+1\n",
    "    \n",
    "grid = readgrid(\"in.txt\")\n",
    "\n",
    "def main():\n",
    "    out = 0\n",
    "    for rownr, row in enumerate(grid):\n",
    "        for col, nr in enumerate(row):\n",
    "            #print(col)\n",
    "            #print(lowpoint(nr, rownr, col))\n",
    "            \n",
    "            out+=lowpoint(nr, rownr, col)\n",
    "    \n",
    "    return out\n",
    "\n",
    "main()"
   ]
  },
  {
   "cell_type": "code",
   "execution_count": null,
   "id": "804396b2-ad6a-478f-ad77-a2bab3a263b5",
   "metadata": {},
   "outputs": [],
   "source": [
    "grid"
   ]
  },
  {
   "cell_type": "code",
   "execution_count": null,
   "id": "ff3a1593-6fe5-455c-8f9d-41d3103a9f26",
   "metadata": {},
   "outputs": [],
   "source": [
    "def readgrid(filename):\n",
    "    out = []\n",
    "    with open(filename, 'r') as file:\n",
    "        for line in file:\n",
    "            out.append(list(line.strip(\"\\n\")))\n",
    "    return out\n",
    "            \n",
    "\n",
    "def lowpoint(nr, row, col):\n",
    "    if int(grid0[row-1][col]) > int(nr) and int(grid0[row+1][col]) > int(nr) and int(grid0[row][col-1]) > int(nr) and int(grid0[row][col+1]) > int(nr):\n",
    "        return int(nr)+1\n",
    "    else:\n",
    "        return 0\n",
    "\n",
    "    \n",
    "grid = readgrid(\"intest.txt\")\n",
    "#print(grid)\n",
    "grid0 = [[0]+i+[0] for i in grid]\n",
    "#print(grid0)\n",
    "#print([[0]*len(grid0[0])] + grid0)\n",
    "grid0 = [[0]*len(grid0[0])] + grid0 + [[0]*len(grid0[0])]\n",
    "print(grid0)\n",
    "out = 0\n",
    "for rownr, row in enumerate(grid):\n",
    "    for col, nr in enumerate(row):\n",
    "        print(lowpoint(nr, rownr, col))\n",
    "        out+=lowpoint(nr, rownr, col)\n",
    "out"
   ]
  },
  {
   "cell_type": "code",
   "execution_count": null,
   "id": "d1018c95-c791-41bb-b07e-85ebe4936e13",
   "metadata": {},
   "outputs": [],
   "source": [
    "list(\"1234\")"
   ]
  }
 ],
 "metadata": {
  "kernelspec": {
   "display_name": "Python 3 (ipykernel)",
   "language": "python",
   "name": "python3"
  },
  "language_info": {
   "codemirror_mode": {
    "name": "ipython",
    "version": 3
   },
   "file_extension": ".py",
   "mimetype": "text/x-python",
   "name": "python",
   "nbconvert_exporter": "python",
   "pygments_lexer": "ipython3",
   "version": "3.10.0"
  }
 },
 "nbformat": 4,
 "nbformat_minor": 5
}
